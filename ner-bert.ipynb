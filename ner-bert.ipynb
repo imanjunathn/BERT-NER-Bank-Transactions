{
 "cells": [
  {
   "cell_type": "code",
   "execution_count": 1,
   "id": "12c8e693",
   "metadata": {
    "_cell_guid": "b1076dfc-b9ad-4769-8c92-a6c4dae69d19",
    "_uuid": "8f2839f25d086af736a60e9eeb907d3b93b6e0e5",
    "execution": {
     "iopub.execute_input": "2024-08-27T12:04:23.991847Z",
     "iopub.status.busy": "2024-08-27T12:04:23.991584Z",
     "iopub.status.idle": "2024-08-27T12:04:37.797627Z",
     "shell.execute_reply": "2024-08-27T12:04:37.796469Z"
    },
    "papermill": {
     "duration": 13.818648,
     "end_time": "2024-08-27T12:04:37.799890",
     "exception": false,
     "start_time": "2024-08-27T12:04:23.981242",
     "status": "completed"
    },
    "tags": []
   },
   "outputs": [
    {
     "name": "stdout",
     "output_type": "stream",
     "text": [
      "Requirement already satisfied: datasets in /opt/conda/lib/python3.10/site-packages (2.19.2)\r\n",
      "Requirement already satisfied: transformers in /opt/conda/lib/python3.10/site-packages (4.41.2)\r\n",
      "Requirement already satisfied: filelock in /opt/conda/lib/python3.10/site-packages (from datasets) (3.13.1)\r\n",
      "Requirement already satisfied: numpy>=1.17 in /opt/conda/lib/python3.10/site-packages (from datasets) (1.26.4)\r\n",
      "Requirement already satisfied: pyarrow>=12.0.0 in /opt/conda/lib/python3.10/site-packages (from datasets) (14.0.2)\r\n",
      "Requirement already satisfied: pyarrow-hotfix in /opt/conda/lib/python3.10/site-packages (from datasets) (0.6)\r\n",
      "Requirement already satisfied: dill<0.3.9,>=0.3.0 in /opt/conda/lib/python3.10/site-packages (from datasets) (0.3.8)\r\n",
      "Requirement already satisfied: pandas in /opt/conda/lib/python3.10/site-packages (from datasets) (2.2.1)\r\n",
      "Requirement already satisfied: requests>=2.32.1 in /opt/conda/lib/python3.10/site-packages (from datasets) (2.32.3)\r\n",
      "Requirement already satisfied: tqdm>=4.62.1 in /opt/conda/lib/python3.10/site-packages (from datasets) (4.66.4)\r\n",
      "Requirement already satisfied: xxhash in /opt/conda/lib/python3.10/site-packages (from datasets) (3.4.1)\r\n",
      "Requirement already satisfied: multiprocess in /opt/conda/lib/python3.10/site-packages (from datasets) (0.70.16)\r\n",
      "Requirement already satisfied: fsspec<=2024.3.1,>=2023.1.0 in /opt/conda/lib/python3.10/site-packages (from fsspec[http]<=2024.3.1,>=2023.1.0->datasets) (2024.3.1)\r\n",
      "Requirement already satisfied: aiohttp in /opt/conda/lib/python3.10/site-packages (from datasets) (3.9.1)\r\n",
      "Requirement already satisfied: huggingface-hub>=0.21.2 in /opt/conda/lib/python3.10/site-packages (from datasets) (0.23.2)\r\n",
      "Requirement already satisfied: packaging in /opt/conda/lib/python3.10/site-packages (from datasets) (21.3)\r\n",
      "Requirement already satisfied: pyyaml>=5.1 in /opt/conda/lib/python3.10/site-packages (from datasets) (6.0.1)\r\n",
      "Requirement already satisfied: regex!=2019.12.17 in /opt/conda/lib/python3.10/site-packages (from transformers) (2023.12.25)\r\n",
      "Requirement already satisfied: tokenizers<0.20,>=0.19 in /opt/conda/lib/python3.10/site-packages (from transformers) (0.19.1)\r\n",
      "Requirement already satisfied: safetensors>=0.4.1 in /opt/conda/lib/python3.10/site-packages (from transformers) (0.4.3)\r\n",
      "Requirement already satisfied: attrs>=17.3.0 in /opt/conda/lib/python3.10/site-packages (from aiohttp->datasets) (23.2.0)\r\n",
      "Requirement already satisfied: multidict<7.0,>=4.5 in /opt/conda/lib/python3.10/site-packages (from aiohttp->datasets) (6.0.4)\r\n",
      "Requirement already satisfied: yarl<2.0,>=1.0 in /opt/conda/lib/python3.10/site-packages (from aiohttp->datasets) (1.9.3)\r\n",
      "Requirement already satisfied: frozenlist>=1.1.1 in /opt/conda/lib/python3.10/site-packages (from aiohttp->datasets) (1.4.1)\r\n",
      "Requirement already satisfied: aiosignal>=1.1.2 in /opt/conda/lib/python3.10/site-packages (from aiohttp->datasets) (1.3.1)\r\n",
      "Requirement already satisfied: async-timeout<5.0,>=4.0 in /opt/conda/lib/python3.10/site-packages (from aiohttp->datasets) (4.0.3)\r\n",
      "Requirement already satisfied: typing-extensions>=3.7.4.3 in /opt/conda/lib/python3.10/site-packages (from huggingface-hub>=0.21.2->datasets) (4.9.0)\r\n",
      "Requirement already satisfied: pyparsing!=3.0.5,>=2.0.2 in /opt/conda/lib/python3.10/site-packages (from packaging->datasets) (3.1.1)\r\n",
      "Requirement already satisfied: charset-normalizer<4,>=2 in /opt/conda/lib/python3.10/site-packages (from requests>=2.32.1->datasets) (3.3.2)\r\n",
      "Requirement already satisfied: idna<4,>=2.5 in /opt/conda/lib/python3.10/site-packages (from requests>=2.32.1->datasets) (3.6)\r\n",
      "Requirement already satisfied: urllib3<3,>=1.21.1 in /opt/conda/lib/python3.10/site-packages (from requests>=2.32.1->datasets) (1.26.18)\r\n",
      "Requirement already satisfied: certifi>=2017.4.17 in /opt/conda/lib/python3.10/site-packages (from requests>=2.32.1->datasets) (2024.2.2)\r\n",
      "Requirement already satisfied: python-dateutil>=2.8.2 in /opt/conda/lib/python3.10/site-packages (from pandas->datasets) (2.9.0.post0)\r\n",
      "Requirement already satisfied: pytz>=2020.1 in /opt/conda/lib/python3.10/site-packages (from pandas->datasets) (2023.3.post1)\r\n",
      "Requirement already satisfied: tzdata>=2022.7 in /opt/conda/lib/python3.10/site-packages (from pandas->datasets) (2023.4)\r\n",
      "Requirement already satisfied: six>=1.5 in /opt/conda/lib/python3.10/site-packages (from python-dateutil>=2.8.2->pandas->datasets) (1.16.0)\r\n",
      "Note: you may need to restart the kernel to use updated packages.\n"
     ]
    }
   ],
   "source": [
    "pip install datasets transformers"
   ]
  },
  {
   "cell_type": "code",
   "execution_count": 2,
   "id": "3c6a8565",
   "metadata": {
    "execution": {
     "iopub.execute_input": "2024-08-27T12:04:37.820851Z",
     "iopub.status.busy": "2024-08-27T12:04:37.820537Z",
     "iopub.status.idle": "2024-08-27T12:05:00.002748Z",
     "shell.execute_reply": "2024-08-27T12:05:00.001988Z"
    },
    "papermill": {
     "duration": 22.195201,
     "end_time": "2024-08-27T12:05:00.005015",
     "exception": false,
     "start_time": "2024-08-27T12:04:37.809814",
     "status": "completed"
    },
    "tags": []
   },
   "outputs": [
    {
     "name": "stderr",
     "output_type": "stream",
     "text": [
      "2024-08-27 12:04:49.523808: E external/local_xla/xla/stream_executor/cuda/cuda_dnn.cc:9261] Unable to register cuDNN factory: Attempting to register factory for plugin cuDNN when one has already been registered\n",
      "2024-08-27 12:04:49.523949: E external/local_xla/xla/stream_executor/cuda/cuda_fft.cc:607] Unable to register cuFFT factory: Attempting to register factory for plugin cuFFT when one has already been registered\n",
      "2024-08-27 12:04:49.707673: E external/local_xla/xla/stream_executor/cuda/cuda_blas.cc:1515] Unable to register cuBLAS factory: Attempting to register factory for plugin cuBLAS when one has already been registered\n"
     ]
    }
   ],
   "source": [
    "# Import required libraries\n",
    "from datasets import load_dataset, Dataset, DatasetDict\n",
    "from transformers import (BertTokenizerFast, AutoModelForTokenClassification, AutoTokenizer,\n",
    "                          TrainingArguments, Trainer, pipeline, DataCollatorForTokenClassification)\n",
    "import torch\n",
    "import json\n",
    "import pandas as pd\n",
    "import os"
   ]
  },
  {
   "cell_type": "code",
   "execution_count": 3,
   "id": "2e8b1819",
   "metadata": {
    "execution": {
     "iopub.execute_input": "2024-08-27T12:05:00.032454Z",
     "iopub.status.busy": "2024-08-27T12:05:00.031782Z",
     "iopub.status.idle": "2024-08-27T12:05:00.125508Z",
     "shell.execute_reply": "2024-08-27T12:05:00.124577Z"
    },
    "papermill": {
     "duration": 0.110716,
     "end_time": "2024-08-27T12:05:00.127448",
     "exception": false,
     "start_time": "2024-08-27T12:05:00.016732",
     "status": "completed"
    },
    "tags": []
   },
   "outputs": [
    {
     "name": "stdout",
     "output_type": "stream",
     "text": [
      "Using device: cuda\n"
     ]
    }
   ],
   "source": [
    "# Optional: Check if GPU is available\n",
    "device = torch.device(\"cuda\" if torch.cuda.is_available() else \"cpu\")\n",
    "print(f\"Using device: {device}\")"
   ]
  },
  {
   "cell_type": "code",
   "execution_count": 4,
   "id": "54395b70",
   "metadata": {
    "execution": {
     "iopub.execute_input": "2024-08-27T12:05:00.148666Z",
     "iopub.status.busy": "2024-08-27T12:05:00.148375Z",
     "iopub.status.idle": "2024-08-27T12:05:04.683402Z",
     "shell.execute_reply": "2024-08-27T12:05:04.682266Z"
    },
    "papermill": {
     "duration": 4.548254,
     "end_time": "2024-08-27T12:05:04.685593",
     "exception": false,
     "start_time": "2024-08-27T12:05:00.137339",
     "status": "completed"
    },
    "tags": []
   },
   "outputs": [
    {
     "name": "stdout",
     "output_type": "stream",
     "text": [
      "Loaded 200000 sentences from the dataset.\n"
     ]
    }
   ],
   "source": [
    "# load ner data file. And split text and labels\n",
    "def load_ner_datasets(file_path):\n",
    "    \"\"\"\n",
    "    Load and parse the NER dataset from the specified file.\n",
    "    \"\"\"\n",
    "    sentences = []\n",
    "    sentence = {\"text\": [], 'tags': []}\n",
    "    \n",
    "    try:\n",
    "        with open(file_path, 'r') as f:\n",
    "            for line in f:\n",
    "                if line.strip() == \"\":\n",
    "                    if sentence['text']:\n",
    "                        sentences.append(sentence)\n",
    "                    sentence = {\"text\": [], 'tags': []}\n",
    "                else:\n",
    "                    token, label = line.split(\":-\")\n",
    "                    sentence['text'].append(token)\n",
    "                    sentence['tags'].append(label.upper())\n",
    "        return sentences\n",
    "    except Exception as e:\n",
    "        print(f\"An error occurred while loading the dataset: {e}\")\n",
    "        return []\n",
    "    \n",
    "file_path = '/kaggle/input/ner-v7/ner_dataset.txt'\n",
    "ner_sentences = load_ner_datasets(file_path)\n",
    "print(f\"Loaded {len(ner_sentences)} sentences from the dataset.\")\n"
   ]
  },
  {
   "cell_type": "code",
   "execution_count": 5,
   "id": "879c33ac",
   "metadata": {
    "execution": {
     "iopub.execute_input": "2024-08-27T12:05:04.707555Z",
     "iopub.status.busy": "2024-08-27T12:05:04.706829Z",
     "iopub.status.idle": "2024-08-27T12:05:04.714013Z",
     "shell.execute_reply": "2024-08-27T12:05:04.713169Z"
    },
    "papermill": {
     "duration": 0.020256,
     "end_time": "2024-08-27T12:05:04.715986",
     "exception": false,
     "start_time": "2024-08-27T12:05:04.695730",
     "status": "completed"
    },
    "tags": []
   },
   "outputs": [
    {
     "data": {
      "text/plain": [
       "{'text': ['07-Aug-24',\n",
       "  '00:38:11',\n",
       "  'credited to',\n",
       "  'Allahabad Bank',\n",
       "  '3352.85',\n",
       "  '71647.15',\n",
       "  'XX7317',\n",
       "  'Rs',\n",
       "  'on',\n",
       "  'at',\n",
       "  'Flipkart.',\n",
       "  'Avl',\n",
       "  'Lmt:',\n",
       "  'Contact:',\n",
       "  '+917088412672'],\n",
       " 'tags': [' DATE\\n',\n",
       "  ' TIME\\n',\n",
       "  ' TRANSACTION_TYPE\\n',\n",
       "  ' BANK\\n',\n",
       "  ' MONEY\\n',\n",
       "  ' MONEY\\n',\n",
       "  ' ACCOUNT_NUMBER\\n',\n",
       "  ' OTHER\\n',\n",
       "  ' OTHER\\n',\n",
       "  ' OTHER\\n',\n",
       "  ' OTHER\\n',\n",
       "  ' OTHER\\n',\n",
       "  ' OTHER\\n',\n",
       "  ' OTHER\\n',\n",
       "  ' OTHER\\n']}"
      ]
     },
     "execution_count": 5,
     "metadata": {},
     "output_type": "execute_result"
    }
   ],
   "source": [
    "ner_sentences[0]"
   ]
  },
  {
   "cell_type": "code",
   "execution_count": 6,
   "id": "566d699f",
   "metadata": {
    "execution": {
     "iopub.execute_input": "2024-08-27T12:05:04.736786Z",
     "iopub.status.busy": "2024-08-27T12:05:04.736544Z",
     "iopub.status.idle": "2024-08-27T12:05:06.019887Z",
     "shell.execute_reply": "2024-08-27T12:05:06.018792Z"
    },
    "papermill": {
     "duration": 1.295999,
     "end_time": "2024-08-27T12:05:06.021998",
     "exception": false,
     "start_time": "2024-08-27T12:05:04.725999",
     "status": "completed"
    },
    "tags": []
   },
   "outputs": [
    {
     "name": "stdout",
     "output_type": "stream",
     "text": [
      "Dataset contains 200000 rows.\n",
      "Training set size: 180000\n",
      "Test set size: 20000\n"
     ]
    }
   ],
   "source": [
    "hf_dataset = Dataset.from_pandas(pd.DataFrame(ner_sentences))\n",
    "print(f\"Dataset contains {hf_dataset.num_rows} rows.\")\n",
    "\n",
    "# Split the dataset into training and test sets\n",
    "train_test_split_result = hf_dataset.train_test_split(test_size=0.1)\n",
    "train_dataset = train_test_split_result['train']\n",
    "test_dataset = train_test_split_result['test']\n",
    "\n",
    "print(f\"Training set size: {train_dataset.num_rows}\")\n",
    "print(f\"Test set size: {test_dataset.num_rows}\")"
   ]
  },
  {
   "cell_type": "code",
   "execution_count": 7,
   "id": "d5a24b41",
   "metadata": {
    "execution": {
     "iopub.execute_input": "2024-08-27T12:05:06.045627Z",
     "iopub.status.busy": "2024-08-27T12:05:06.045337Z",
     "iopub.status.idle": "2024-08-27T12:05:06.879873Z",
     "shell.execute_reply": "2024-08-27T12:05:06.878897Z"
    },
    "papermill": {
     "duration": 0.848316,
     "end_time": "2024-08-27T12:05:06.881883",
     "exception": false,
     "start_time": "2024-08-27T12:05:06.033567",
     "status": "completed"
    },
    "tags": []
   },
   "outputs": [
    {
     "data": {
      "application/vnd.jupyter.widget-view+json": {
       "model_id": "11df63e3b6cb4989bdc9b05129ff2985",
       "version_major": 2,
       "version_minor": 0
      },
      "text/plain": [
       "tokenizer_config.json:   0%|          | 0.00/49.0 [00:00<?, ?B/s]"
      ]
     },
     "metadata": {},
     "output_type": "display_data"
    },
    {
     "data": {
      "application/vnd.jupyter.widget-view+json": {
       "model_id": "35a20e70d5024bd48b760ab2c43071c0",
       "version_major": 2,
       "version_minor": 0
      },
      "text/plain": [
       "vocab.txt:   0%|          | 0.00/213k [00:00<?, ?B/s]"
      ]
     },
     "metadata": {},
     "output_type": "display_data"
    },
    {
     "data": {
      "application/vnd.jupyter.widget-view+json": {
       "model_id": "469592eea6824993a5e9d8dc8bd2b5de",
       "version_major": 2,
       "version_minor": 0
      },
      "text/plain": [
       "tokenizer.json:   0%|          | 0.00/436k [00:00<?, ?B/s]"
      ]
     },
     "metadata": {},
     "output_type": "display_data"
    },
    {
     "name": "stderr",
     "output_type": "stream",
     "text": [
      "/opt/conda/lib/python3.10/site-packages/huggingface_hub/file_download.py:1132: FutureWarning: `resume_download` is deprecated and will be removed in version 1.0.0. Downloads always resume when possible. If you want to force a new download, use `force_download=True`.\n",
      "  warnings.warn(\n"
     ]
    },
    {
     "data": {
      "application/vnd.jupyter.widget-view+json": {
       "model_id": "51e746c0b3574cb992c4f7e2e28700c8",
       "version_major": 2,
       "version_minor": 0
      },
      "text/plain": [
       "config.json:   0%|          | 0.00/570 [00:00<?, ?B/s]"
      ]
     },
     "metadata": {},
     "output_type": "display_data"
    },
    {
     "name": "stdout",
     "output_type": "stream",
     "text": [
      "Tokenizer bert-base-cased loaded.\n"
     ]
    }
   ],
   "source": [
    "tokenizer_name = 'bert-base-cased'\n",
    "tokenizer = BertTokenizerFast.from_pretrained(tokenizer_name)\n",
    "print(f\"Tokenizer {tokenizer_name} loaded.\")"
   ]
  },
  {
   "cell_type": "code",
   "execution_count": 8,
   "id": "bd7e6f8b",
   "metadata": {
    "execution": {
     "iopub.execute_input": "2024-08-27T12:05:06.904973Z",
     "iopub.status.busy": "2024-08-27T12:05:06.904667Z",
     "iopub.status.idle": "2024-08-27T12:05:12.751101Z",
     "shell.execute_reply": "2024-08-27T12:05:12.750089Z"
    },
    "papermill": {
     "duration": 5.860299,
     "end_time": "2024-08-27T12:05:12.753186",
     "exception": false,
     "start_time": "2024-08-27T12:05:06.892887",
     "status": "completed"
    },
    "tags": []
   },
   "outputs": [
    {
     "data": {
      "text/plain": [
       "['09-Aug-24',\n",
       " '20:33:58',\n",
       " 'Spent on',\n",
       " 'Vijaya Bank',\n",
       " '2998.57',\n",
       " '97001.43',\n",
       " 'XX3184',\n",
       " '₹',\n",
       " 'at',\n",
       " 'Zomato.',\n",
       " 'Avl',\n",
       " 'Lmt:',\n",
       " 'Contact:',\n",
       " '+919559417500']"
      ]
     },
     "execution_count": 8,
     "metadata": {},
     "output_type": "execute_result"
    }
   ],
   "source": [
    "train_dataset['text'][0]"
   ]
  },
  {
   "cell_type": "code",
   "execution_count": 9,
   "id": "21529ee8",
   "metadata": {
    "execution": {
     "iopub.execute_input": "2024-08-27T12:05:12.777123Z",
     "iopub.status.busy": "2024-08-27T12:05:12.776734Z",
     "iopub.status.idle": "2024-08-27T12:05:18.696213Z",
     "shell.execute_reply": "2024-08-27T12:05:18.695267Z"
    },
    "papermill": {
     "duration": 5.933807,
     "end_time": "2024-08-27T12:05:18.698447",
     "exception": false,
     "start_time": "2024-08-27T12:05:12.764640",
     "status": "completed"
    },
    "tags": []
   },
   "outputs": [
    {
     "data": {
      "text/plain": [
       "['[CLS]',\n",
       " '09',\n",
       " '-',\n",
       " 'Aug',\n",
       " '-',\n",
       " '24',\n",
       " '20',\n",
       " ':',\n",
       " '33',\n",
       " ':',\n",
       " '58',\n",
       " 'S',\n",
       " '##pent',\n",
       " 'on',\n",
       " 'Vijay',\n",
       " '##a',\n",
       " 'Bank',\n",
       " '29',\n",
       " '##9',\n",
       " '##8',\n",
       " '.',\n",
       " '57',\n",
       " '97',\n",
       " '##00',\n",
       " '##1',\n",
       " '.',\n",
       " '43',\n",
       " 'X',\n",
       " '##X',\n",
       " '##31',\n",
       " '##8',\n",
       " '##4',\n",
       " '₹',\n",
       " 'at',\n",
       " 'Z',\n",
       " '##oma',\n",
       " '##to',\n",
       " '.',\n",
       " 'A',\n",
       " '##v',\n",
       " '##l',\n",
       " 'L',\n",
       " '##m',\n",
       " '##t',\n",
       " ':',\n",
       " 'Contact',\n",
       " ':',\n",
       " '+',\n",
       " '91',\n",
       " '##9',\n",
       " '##55',\n",
       " '##9',\n",
       " '##41',\n",
       " '##75',\n",
       " '##00',\n",
       " '[SEP]']"
      ]
     },
     "execution_count": 9,
     "metadata": {},
     "output_type": "execute_result"
    }
   ],
   "source": [
    "# Test tokenizer\n",
    "inputs = tokenizer(train_dataset[\"text\"][0],  truncation=True, is_split_into_words=True)\n",
    "inputs.tokens()"
   ]
  },
  {
   "cell_type": "code",
   "execution_count": 10,
   "id": "6b7926c0",
   "metadata": {
    "execution": {
     "iopub.execute_input": "2024-08-27T12:05:18.722445Z",
     "iopub.status.busy": "2024-08-27T12:05:18.722145Z",
     "iopub.status.idle": "2024-08-27T12:05:18.726467Z",
     "shell.execute_reply": "2024-08-27T12:05:18.725613Z"
    },
    "papermill": {
     "duration": 0.018179,
     "end_time": "2024-08-27T12:05:18.728270",
     "exception": false,
     "start_time": "2024-08-27T12:05:18.710091",
     "status": "completed"
    },
    "tags": []
   },
   "outputs": [
    {
     "name": "stdout",
     "output_type": "stream",
     "text": [
      "[None, 0, 0, 0, 0, 0, 1, 1, 1, 1, 1, 2, 2, 2, 3, 3, 3, 4, 4, 4, 4, 4, 5, 5, 5, 5, 5, 6, 6, 6, 6, 6, 7, 8, 9, 9, 9, 9, 10, 10, 10, 11, 11, 11, 11, 12, 12, 13, 13, 13, 13, 13, 13, 13, 13, None]\n"
     ]
    }
   ],
   "source": [
    "word_ids = inputs.word_ids()\n",
    "\n",
    "print(word_ids)"
   ]
  },
  {
   "cell_type": "code",
   "execution_count": 11,
   "id": "4bd955fa",
   "metadata": {
    "execution": {
     "iopub.execute_input": "2024-08-27T12:05:18.751816Z",
     "iopub.status.busy": "2024-08-27T12:05:18.751554Z",
     "iopub.status.idle": "2024-08-27T12:05:24.136587Z",
     "shell.execute_reply": "2024-08-27T12:05:24.135554Z"
    },
    "papermill": {
     "duration": 5.399675,
     "end_time": "2024-08-27T12:05:24.139159",
     "exception": false,
     "start_time": "2024-08-27T12:05:18.739484",
     "status": "completed"
    },
    "tags": []
   },
   "outputs": [],
   "source": [
    "unique_labels = set(label for sentence in hf_dataset[\"tags\"] for label in sentence)\n",
    "label2id = {label: idx for idx, label in enumerate(sorted(unique_labels))}\n",
    "id2label = {idx: label for label, idx in label2id.items()}\n",
    "\n",
    "def tokenize_and_align_labels(examples):\n",
    "    tokenized_inputs = tokenizer(\n",
    "        examples[\"text\"], \n",
    "#         padding=True, \n",
    "        truncation=True, \n",
    "        is_split_into_words=True\n",
    "    )\n",
    "    labels = []\n",
    "    for i, label in enumerate(examples[\"tags\"]):\n",
    "        word_ids = tokenized_inputs.word_ids(batch_index=i)\n",
    "        previous_word_idx = None\n",
    "        label_ids = []\n",
    "        \n",
    "        for word_idx in word_ids:\n",
    "            if word_idx is None:\n",
    "                # Append -100 for special tokens (like [CLS], [SEP]) or padding\n",
    "                label_ids.append(-100)\n",
    "            elif word_idx != previous_word_idx:\n",
    "                # Assign the label corresponding to the word index\n",
    "                label_ids.append(label2id[label[word_idx]])\n",
    "            else:\n",
    "                # For subword tokens, repeat the label of the first subword token\n",
    "                label_ids.append(label2id[label[word_idx]])\n",
    "                    \n",
    "            previous_word_idx = word_idx\n",
    "        \n",
    "        labels.append(label_ids)\n",
    "    \n",
    "    tokenized_inputs[\"labels\"] = labels\n",
    "    return tokenized_inputs"
   ]
  },
  {
   "cell_type": "code",
   "execution_count": 12,
   "id": "6f64f888",
   "metadata": {
    "execution": {
     "iopub.execute_input": "2024-08-27T12:05:24.164962Z",
     "iopub.status.busy": "2024-08-27T12:05:24.164634Z",
     "iopub.status.idle": "2024-08-27T12:06:00.936104Z",
     "shell.execute_reply": "2024-08-27T12:06:00.935374Z"
    },
    "papermill": {
     "duration": 36.785927,
     "end_time": "2024-08-27T12:06:00.938062",
     "exception": false,
     "start_time": "2024-08-27T12:05:24.152135",
     "status": "completed"
    },
    "tags": []
   },
   "outputs": [
    {
     "data": {
      "application/vnd.jupyter.widget-view+json": {
       "model_id": "bfe1232e89884d84ad058a4fafa3d32f",
       "version_major": 2,
       "version_minor": 0
      },
      "text/plain": [
       "Map:   0%|          | 0/180000 [00:00<?, ? examples/s]"
      ]
     },
     "metadata": {},
     "output_type": "display_data"
    },
    {
     "data": {
      "application/vnd.jupyter.widget-view+json": {
       "model_id": "a8c845108f374955a36b9f9fe094eec8",
       "version_major": 2,
       "version_minor": 0
      },
      "text/plain": [
       "Map:   0%|          | 0/20000 [00:00<?, ? examples/s]"
      ]
     },
     "metadata": {},
     "output_type": "display_data"
    }
   ],
   "source": [
    "tokenized_train_dataset = train_dataset.map(tokenize_and_align_labels, batched=True, remove_columns=train_dataset.column_names)\n",
    "tokenized_test_dataset = test_dataset.map(tokenize_and_align_labels, batched=True, remove_columns=test_dataset.column_names)"
   ]
  },
  {
   "cell_type": "code",
   "execution_count": 13,
   "id": "13cae3f7",
   "metadata": {
    "execution": {
     "iopub.execute_input": "2024-08-27T12:06:00.963269Z",
     "iopub.status.busy": "2024-08-27T12:06:00.962640Z",
     "iopub.status.idle": "2024-08-27T12:06:00.968660Z",
     "shell.execute_reply": "2024-08-27T12:06:00.967774Z"
    },
    "papermill": {
     "duration": 0.020424,
     "end_time": "2024-08-27T12:06:00.970475",
     "exception": false,
     "start_time": "2024-08-27T12:06:00.950051",
     "status": "completed"
    },
    "tags": []
   },
   "outputs": [
    {
     "data": {
      "text/plain": [
       "DatasetDict({\n",
       "    train: Dataset({\n",
       "        features: ['input_ids', 'token_type_ids', 'attention_mask', 'labels'],\n",
       "        num_rows: 180000\n",
       "    })\n",
       "    test: Dataset({\n",
       "        features: ['input_ids', 'token_type_ids', 'attention_mask', 'labels'],\n",
       "        num_rows: 20000\n",
       "    })\n",
       "})"
      ]
     },
     "execution_count": 13,
     "metadata": {},
     "output_type": "execute_result"
    }
   ],
   "source": [
    "final_dataset = DatasetDict({\n",
    "    'train': tokenized_train_dataset,\n",
    "    'test': tokenized_test_dataset\n",
    "})\n",
    "final_dataset"
   ]
  },
  {
   "cell_type": "code",
   "execution_count": 14,
   "id": "51b03ff1",
   "metadata": {
    "execution": {
     "iopub.execute_input": "2024-08-27T12:06:00.994720Z",
     "iopub.status.busy": "2024-08-27T12:06:00.994437Z",
     "iopub.status.idle": "2024-08-27T12:06:00.997821Z",
     "shell.execute_reply": "2024-08-27T12:06:00.996999Z"
    },
    "papermill": {
     "duration": 0.017637,
     "end_time": "2024-08-27T12:06:00.999687",
     "exception": false,
     "start_time": "2024-08-27T12:06:00.982050",
     "status": "completed"
    },
    "tags": []
   },
   "outputs": [],
   "source": [
    "# for example in final_dataset[\"train\"]:\n",
    "#     assert len(example[\"input_ids\"]) == len(example[\"labels\"]), \"Mismatch between input and label lengths\""
   ]
  },
  {
   "cell_type": "code",
   "execution_count": 15,
   "id": "bd2d2a6d",
   "metadata": {
    "execution": {
     "iopub.execute_input": "2024-08-27T12:06:01.023849Z",
     "iopub.status.busy": "2024-08-27T12:06:01.023588Z",
     "iopub.status.idle": "2024-08-27T12:06:01.033400Z",
     "shell.execute_reply": "2024-08-27T12:06:01.032474Z"
    },
    "papermill": {
     "duration": 0.02415,
     "end_time": "2024-08-27T12:06:01.035361",
     "exception": false,
     "start_time": "2024-08-27T12:06:01.011211",
     "status": "completed"
    },
    "tags": []
   },
   "outputs": [
    {
     "data": {
      "text/plain": [
       "DatasetDict({\n",
       "    train: Dataset({\n",
       "        features: ['input_ids', 'attention_mask', 'labels'],\n",
       "        num_rows: 180000\n",
       "    })\n",
       "    test: Dataset({\n",
       "        features: ['input_ids', 'attention_mask', 'labels'],\n",
       "        num_rows: 20000\n",
       "    })\n",
       "})"
      ]
     },
     "execution_count": 15,
     "metadata": {},
     "output_type": "execute_result"
    }
   ],
   "source": [
    "final_dataset = final_dataset.select_columns(['input_ids', 'attention_mask', 'labels'])\n",
    "final_dataset"
   ]
  },
  {
   "cell_type": "code",
   "execution_count": 16,
   "id": "d27a5339",
   "metadata": {
    "execution": {
     "iopub.execute_input": "2024-08-27T12:06:01.060054Z",
     "iopub.status.busy": "2024-08-27T12:06:01.059773Z",
     "iopub.status.idle": "2024-08-27T12:06:01.065752Z",
     "shell.execute_reply": "2024-08-27T12:06:01.064951Z"
    },
    "papermill": {
     "duration": 0.02045,
     "end_time": "2024-08-27T12:06:01.067685",
     "exception": false,
     "start_time": "2024-08-27T12:06:01.047235",
     "status": "completed"
    },
    "tags": []
   },
   "outputs": [
    {
     "data": {
      "text/plain": [
       "dict_keys(['input_ids', 'attention_mask', 'labels'])"
      ]
     },
     "execution_count": 16,
     "metadata": {},
     "output_type": "execute_result"
    }
   ],
   "source": [
    "batch_pre_collation = [ final_dataset[\"train\"][i] for i in range(1) ]\n",
    "batch_pre_collation[0].keys()"
   ]
  },
  {
   "cell_type": "code",
   "execution_count": 17,
   "id": "5b06f3c7",
   "metadata": {
    "execution": {
     "iopub.execute_input": "2024-08-27T12:06:01.092449Z",
     "iopub.status.busy": "2024-08-27T12:06:01.092185Z",
     "iopub.status.idle": "2024-08-27T12:06:01.098230Z",
     "shell.execute_reply": "2024-08-27T12:06:01.097349Z"
    },
    "papermill": {
     "duration": 0.020547,
     "end_time": "2024-08-27T12:06:01.100160",
     "exception": false,
     "start_time": "2024-08-27T12:06:01.079613",
     "status": "completed"
    },
    "tags": []
   },
   "outputs": [
    {
     "name": "stdout",
     "output_type": "stream",
     "text": [
      "{'input_ids': [101, 4925, 118, 16892, 118, 1572, 1406, 131, 3081, 131, 4650, 156, 22083, 1113, 18214, 1161, 2950, 1853, 1580, 1604, 119, 4667, 5311, 7629, 1475, 119, 3887, 161, 3190, 22639, 1604, 1527, 838, 1120, 163, 7903, 2430, 119, 138, 1964, 1233, 149, 1306, 1204, 131, 24367, 131, 116, 5539, 1580, 25491, 1580, 25892, 26253, 7629, 102], 'attention_mask': [1, 1, 1, 1, 1, 1, 1, 1, 1, 1, 1, 1, 1, 1, 1, 1, 1, 1, 1, 1, 1, 1, 1, 1, 1, 1, 1, 1, 1, 1, 1, 1, 1, 1, 1, 1, 1, 1, 1, 1, 1, 1, 1, 1, 1, 1, 1, 1, 1, 1, 1, 1, 1, 1, 1, 1], 'labels': [-100, 2, 2, 2, 2, 2, 5, 5, 5, 5, 5, 6, 6, 6, 1, 1, 1, 3, 3, 3, 3, 3, 3, 3, 3, 3, 3, 0, 0, 0, 0, 0, 4, 4, 4, 4, 4, 4, 4, 4, 4, 4, 4, 4, 4, 4, 4, 4, 4, 4, 4, 4, 4, 4, 4, -100]}\n",
      ">>> Length: 56 56\n",
      "[CLS]~~~~~~~~~~~~~~~ -100\n",
      "09~~~~~~~~~~~~~~~~~~ 2\n",
      "-~~~~~~~~~~~~~~~~~~~ 2\n",
      "Aug~~~~~~~~~~~~~~~~~ 2\n",
      "-~~~~~~~~~~~~~~~~~~~ 2\n",
      "24~~~~~~~~~~~~~~~~~~ 2\n",
      "20~~~~~~~~~~~~~~~~~~ 5\n",
      ":~~~~~~~~~~~~~~~~~~~ 5\n",
      "33~~~~~~~~~~~~~~~~~~ 5\n",
      ":~~~~~~~~~~~~~~~~~~~ 5\n",
      "58~~~~~~~~~~~~~~~~~~ 5\n",
      "S~~~~~~~~~~~~~~~~~~~ 6\n",
      "##pent~~~~~~~~~~~~~~ 6\n",
      "on~~~~~~~~~~~~~~~~~~ 6\n",
      "Vijay~~~~~~~~~~~~~~~ 1\n",
      "##a~~~~~~~~~~~~~~~~~ 1\n",
      "Bank~~~~~~~~~~~~~~~~ 1\n",
      "29~~~~~~~~~~~~~~~~~~ 3\n",
      "##9~~~~~~~~~~~~~~~~~ 3\n",
      "##8~~~~~~~~~~~~~~~~~ 3\n",
      ".~~~~~~~~~~~~~~~~~~~ 3\n",
      "57~~~~~~~~~~~~~~~~~~ 3\n",
      "97~~~~~~~~~~~~~~~~~~ 3\n",
      "##00~~~~~~~~~~~~~~~~ 3\n",
      "##1~~~~~~~~~~~~~~~~~ 3\n",
      ".~~~~~~~~~~~~~~~~~~~ 3\n",
      "43~~~~~~~~~~~~~~~~~~ 3\n",
      "X~~~~~~~~~~~~~~~~~~~ 0\n",
      "##X~~~~~~~~~~~~~~~~~ 0\n",
      "##31~~~~~~~~~~~~~~~~ 0\n",
      "##8~~~~~~~~~~~~~~~~~ 0\n",
      "##4~~~~~~~~~~~~~~~~~ 0\n",
      "₹~~~~~~~~~~~~~~~~~~~ 4\n",
      "at~~~~~~~~~~~~~~~~~~ 4\n",
      "Z~~~~~~~~~~~~~~~~~~~ 4\n",
      "##oma~~~~~~~~~~~~~~~ 4\n",
      "##to~~~~~~~~~~~~~~~~ 4\n",
      ".~~~~~~~~~~~~~~~~~~~ 4\n",
      "A~~~~~~~~~~~~~~~~~~~ 4\n",
      "##v~~~~~~~~~~~~~~~~~ 4\n",
      "##l~~~~~~~~~~~~~~~~~ 4\n",
      "L~~~~~~~~~~~~~~~~~~~ 4\n",
      "##m~~~~~~~~~~~~~~~~~ 4\n",
      "##t~~~~~~~~~~~~~~~~~ 4\n",
      ":~~~~~~~~~~~~~~~~~~~ 4\n",
      "Contact~~~~~~~~~~~~~ 4\n",
      ":~~~~~~~~~~~~~~~~~~~ 4\n",
      "+~~~~~~~~~~~~~~~~~~~ 4\n",
      "91~~~~~~~~~~~~~~~~~~ 4\n",
      "##9~~~~~~~~~~~~~~~~~ 4\n",
      "##55~~~~~~~~~~~~~~~~ 4\n",
      "##9~~~~~~~~~~~~~~~~~ 4\n",
      "##41~~~~~~~~~~~~~~~~ 4\n",
      "##75~~~~~~~~~~~~~~~~ 4\n",
      "##00~~~~~~~~~~~~~~~~ 4\n",
      "[SEP]~~~~~~~~~~~~~~~ -100\n"
     ]
    }
   ],
   "source": [
    "for example in batch_pre_collation:\n",
    "    print(example)\n",
    "    print(f\">>> Length: {len(example['input_ids'])} {len(example['labels'])}\")\n",
    "    for token, label in zip(tokenizer.convert_ids_to_tokens(example[\"input_ids\"]),example[\"labels\"]): \n",
    "        print(f\"{token:~<20} {label}\") "
   ]
  },
  {
   "cell_type": "code",
   "execution_count": 18,
   "id": "cc669e90",
   "metadata": {
    "execution": {
     "iopub.execute_input": "2024-08-27T12:06:01.125468Z",
     "iopub.status.busy": "2024-08-27T12:06:01.125037Z",
     "iopub.status.idle": "2024-08-27T12:06:01.130451Z",
     "shell.execute_reply": "2024-08-27T12:06:01.129607Z"
    },
    "papermill": {
     "duration": 0.020266,
     "end_time": "2024-08-27T12:06:01.132269",
     "exception": false,
     "start_time": "2024-08-27T12:06:01.112003",
     "status": "completed"
    },
    "tags": []
   },
   "outputs": [
    {
     "data": {
      "text/plain": [
       "[' TIME\\n',\n",
       " ' BANK\\n',\n",
       " ' DATE\\n',\n",
       " ' OTHER\\n',\n",
       " ' MONEY\\n',\n",
       " ' ACCOUNT_NUMBER\\n',\n",
       " ' TRANSACTION_TYPE\\n']"
      ]
     },
     "execution_count": 18,
     "metadata": {},
     "output_type": "execute_result"
    }
   ],
   "source": [
    "list(unique_labels)"
   ]
  },
  {
   "cell_type": "code",
   "execution_count": 19,
   "id": "dc25fff7",
   "metadata": {
    "execution": {
     "iopub.execute_input": "2024-08-27T12:06:01.157393Z",
     "iopub.status.busy": "2024-08-27T12:06:01.157131Z",
     "iopub.status.idle": "2024-08-27T12:06:01.162638Z",
     "shell.execute_reply": "2024-08-27T12:06:01.161927Z"
    },
    "papermill": {
     "duration": 0.020072,
     "end_time": "2024-08-27T12:06:01.164435",
     "exception": false,
     "start_time": "2024-08-27T12:06:01.144363",
     "status": "completed"
    },
    "tags": []
   },
   "outputs": [
    {
     "data": {
      "text/plain": [
       "{0: ' ACCOUNT_NUMBER\\n',\n",
       " 1: ' BANK\\n',\n",
       " 2: ' DATE\\n',\n",
       " 3: ' MONEY\\n',\n",
       " 4: ' OTHER\\n',\n",
       " 5: ' TIME\\n',\n",
       " 6: ' TRANSACTION_TYPE\\n'}"
      ]
     },
     "execution_count": 19,
     "metadata": {},
     "output_type": "execute_result"
    }
   ],
   "source": [
    "id2label"
   ]
  },
  {
   "cell_type": "code",
   "execution_count": 20,
   "id": "9f012874",
   "metadata": {
    "execution": {
     "iopub.execute_input": "2024-08-27T12:06:01.189985Z",
     "iopub.status.busy": "2024-08-27T12:06:01.189697Z",
     "iopub.status.idle": "2024-08-27T12:06:01.194922Z",
     "shell.execute_reply": "2024-08-27T12:06:01.194128Z"
    },
    "papermill": {
     "duration": 0.0204,
     "end_time": "2024-08-27T12:06:01.197115",
     "exception": false,
     "start_time": "2024-08-27T12:06:01.176715",
     "status": "completed"
    },
    "tags": []
   },
   "outputs": [
    {
     "data": {
      "text/plain": [
       "{' ACCOUNT_NUMBER\\n': 0,\n",
       " ' BANK\\n': 1,\n",
       " ' DATE\\n': 2,\n",
       " ' MONEY\\n': 3,\n",
       " ' OTHER\\n': 4,\n",
       " ' TIME\\n': 5,\n",
       " ' TRANSACTION_TYPE\\n': 6}"
      ]
     },
     "execution_count": 20,
     "metadata": {},
     "output_type": "execute_result"
    }
   ],
   "source": [
    "label2id"
   ]
  },
  {
   "cell_type": "code",
   "execution_count": 21,
   "id": "e78d9b57",
   "metadata": {
    "execution": {
     "iopub.execute_input": "2024-08-27T12:06:01.222756Z",
     "iopub.status.busy": "2024-08-27T12:06:01.222510Z",
     "iopub.status.idle": "2024-08-27T12:06:04.099868Z",
     "shell.execute_reply": "2024-08-27T12:06:04.099161Z"
    },
    "papermill": {
     "duration": 2.892379,
     "end_time": "2024-08-27T12:06:04.101792",
     "exception": false,
     "start_time": "2024-08-27T12:06:01.209413",
     "status": "completed"
    },
    "tags": []
   },
   "outputs": [
    {
     "data": {
      "application/vnd.jupyter.widget-view+json": {
       "model_id": "f26609c585d24a339915d0fa91fd5603",
       "version_major": 2,
       "version_minor": 0
      },
      "text/plain": [
       "model.safetensors:   0%|          | 0.00/436M [00:00<?, ?B/s]"
      ]
     },
     "metadata": {},
     "output_type": "display_data"
    },
    {
     "name": "stderr",
     "output_type": "stream",
     "text": [
      "Some weights of BertForTokenClassification were not initialized from the model checkpoint at bert-base-cased and are newly initialized: ['classifier.bias', 'classifier.weight']\n",
      "You should probably TRAIN this model on a down-stream task to be able to use it for predictions and inference.\n"
     ]
    }
   ],
   "source": [
    "from transformers import AutoModelForTokenClassification, TrainingArguments, Trainer\n",
    "\n",
    "model = AutoModelForTokenClassification.from_pretrained(tokenizer_name, num_labels=len(list(unique_labels))\n",
    "                                                        , id2label=id2label, label2id=label2id)"
   ]
  },
  {
   "cell_type": "code",
   "execution_count": 22,
   "id": "05230f45",
   "metadata": {
    "execution": {
     "iopub.execute_input": "2024-08-27T12:06:04.128762Z",
     "iopub.status.busy": "2024-08-27T12:06:04.128438Z",
     "iopub.status.idle": "2024-08-27T12:06:04.132802Z",
     "shell.execute_reply": "2024-08-27T12:06:04.131985Z"
    },
    "papermill": {
     "duration": 0.019916,
     "end_time": "2024-08-27T12:06:04.134580",
     "exception": false,
     "start_time": "2024-08-27T12:06:04.114664",
     "status": "completed"
    },
    "tags": []
   },
   "outputs": [],
   "source": [
    "import os\n",
    "# os.environ['CUDA_LAUNCH_BLOCKING'] = '1'\n",
    "os.environ['CUDA_LAUNCH_BLOCKING']=\"0\"\n",
    "os.environ['TORCH_USE_CUDA_DSA'] = \"0\""
   ]
  },
  {
   "cell_type": "code",
   "execution_count": 23,
   "id": "18b80f4d",
   "metadata": {
    "execution": {
     "iopub.execute_input": "2024-08-27T12:06:04.161820Z",
     "iopub.status.busy": "2024-08-27T12:06:04.161548Z",
     "iopub.status.idle": "2024-08-27T12:06:04.165512Z",
     "shell.execute_reply": "2024-08-27T12:06:04.164769Z"
    },
    "papermill": {
     "duration": 0.020068,
     "end_time": "2024-08-27T12:06:04.167418",
     "exception": false,
     "start_time": "2024-08-27T12:06:04.147350",
     "status": "completed"
    },
    "tags": []
   },
   "outputs": [],
   "source": [
    "os.environ['WANDB_DISABLED'] = 'true'"
   ]
  },
  {
   "cell_type": "code",
   "execution_count": 24,
   "id": "935972ab",
   "metadata": {
    "execution": {
     "iopub.execute_input": "2024-08-27T12:06:04.193755Z",
     "iopub.status.busy": "2024-08-27T12:06:04.193480Z",
     "iopub.status.idle": "2024-08-27T12:06:04.197430Z",
     "shell.execute_reply": "2024-08-27T12:06:04.196683Z"
    },
    "papermill": {
     "duration": 0.019201,
     "end_time": "2024-08-27T12:06:04.199256",
     "exception": false,
     "start_time": "2024-08-27T12:06:04.180055",
     "status": "completed"
    },
    "tags": []
   },
   "outputs": [],
   "source": [
    "import warnings\n",
    "warnings.filterwarnings('ignore')"
   ]
  },
  {
   "cell_type": "code",
   "execution_count": 25,
   "id": "1e0cf855",
   "metadata": {
    "execution": {
     "iopub.execute_input": "2024-08-27T12:06:04.225477Z",
     "iopub.status.busy": "2024-08-27T12:06:04.225198Z",
     "iopub.status.idle": "2024-08-27T12:06:04.599696Z",
     "shell.execute_reply": "2024-08-27T12:06:04.598676Z"
    },
    "papermill": {
     "duration": 0.389974,
     "end_time": "2024-08-27T12:06:04.601776",
     "exception": false,
     "start_time": "2024-08-27T12:06:04.211802",
     "status": "completed"
    },
    "tags": []
   },
   "outputs": [
    {
     "name": "stderr",
     "output_type": "stream",
     "text": [
      "Using the `WANDB_DISABLED` environment variable is deprecated and will be removed in v5. Use the --report_to flag to control the integrations used for logging result (for instance --report_to none).\n"
     ]
    },
    {
     "name": "stdout",
     "output_type": "stream",
     "text": [
      "Trainer initialized.\n"
     ]
    }
   ],
   "source": [
    "training_args = TrainingArguments(\n",
    "    output_dir='./results',\n",
    "    evaluation_strategy=\"epoch\",\n",
    "    learning_rate=2e-5,\n",
    "    per_device_train_batch_size=16,\n",
    "    per_device_eval_batch_size=16,\n",
    "    num_train_epochs=3,\n",
    "    weight_decay=0.01,\n",
    "    logging_dir='./logs',\n",
    "    logging_steps=10,\n",
    "    save_steps=500,\n",
    "    save_total_limit=2,\n",
    ")\n",
    "\n",
    "trainer = Trainer(\n",
    "    model=model,\n",
    "    args=training_args,\n",
    "    train_dataset=final_dataset['train'],\n",
    "    eval_dataset=final_dataset['test'],\n",
    "    tokenizer=tokenizer,\n",
    "    data_collator=DataCollatorForTokenClassification(tokenizer)\n",
    ")\n",
    "print(\"Trainer initialized.\")"
   ]
  },
  {
   "cell_type": "code",
   "execution_count": 26,
   "id": "b972b01b",
   "metadata": {
    "execution": {
     "iopub.execute_input": "2024-08-27T12:06:04.629746Z",
     "iopub.status.busy": "2024-08-27T12:06:04.628999Z",
     "iopub.status.idle": "2024-08-27T13:28:42.852231Z",
     "shell.execute_reply": "2024-08-27T13:28:42.851345Z"
    },
    "papermill": {
     "duration": 4958.239011,
     "end_time": "2024-08-27T13:28:42.854096",
     "exception": false,
     "start_time": "2024-08-27T12:06:04.615085",
     "status": "completed"
    },
    "tags": []
   },
   "outputs": [
    {
     "name": "stdout",
     "output_type": "stream",
     "text": [
      "start training model\n"
     ]
    },
    {
     "data": {
      "text/html": [
       "\n",
       "    <div>\n",
       "      \n",
       "      <progress value='16875' max='16875' style='width:300px; height:20px; vertical-align: middle;'></progress>\n",
       "      [16875/16875 1:22:35, Epoch 3/3]\n",
       "    </div>\n",
       "    <table border=\"1\" class=\"dataframe\">\n",
       "  <thead>\n",
       " <tr style=\"text-align: left;\">\n",
       "      <th>Epoch</th>\n",
       "      <th>Training Loss</th>\n",
       "      <th>Validation Loss</th>\n",
       "    </tr>\n",
       "  </thead>\n",
       "  <tbody>\n",
       "    <tr>\n",
       "      <td>1</td>\n",
       "      <td>0.000000</td>\n",
       "      <td>0.000005</td>\n",
       "    </tr>\n",
       "    <tr>\n",
       "      <td>2</td>\n",
       "      <td>0.000000</td>\n",
       "      <td>0.000001</td>\n",
       "    </tr>\n",
       "    <tr>\n",
       "      <td>3</td>\n",
       "      <td>0.000000</td>\n",
       "      <td>0.000000</td>\n",
       "    </tr>\n",
       "  </tbody>\n",
       "</table><p>"
      ],
      "text/plain": [
       "<IPython.core.display.HTML object>"
      ]
     },
     "metadata": {},
     "output_type": "display_data"
    },
    {
     "data": {
      "text/plain": [
       "TrainOutput(global_step=16875, training_loss=0.0008681165088186928, metrics={'train_runtime': 4957.6073, 'train_samples_per_second': 108.924, 'train_steps_per_second': 3.404, 'total_flos': 1.6912854133585344e+16, 'train_loss': 0.0008681165088186928, 'epoch': 3.0})"
      ]
     },
     "execution_count": 26,
     "metadata": {},
     "output_type": "execute_result"
    }
   ],
   "source": [
    "print('start training model')\n",
    "trainer.train()"
   ]
  },
  {
   "cell_type": "code",
   "execution_count": 27,
   "id": "a4aaabb9",
   "metadata": {
    "execution": {
     "iopub.execute_input": "2024-08-27T13:28:42.882215Z",
     "iopub.status.busy": "2024-08-27T13:28:42.881881Z",
     "iopub.status.idle": "2024-08-27T13:28:42.886025Z",
     "shell.execute_reply": "2024-08-27T13:28:42.885210Z"
    },
    "papermill": {
     "duration": 0.020328,
     "end_time": "2024-08-27T13:28:42.887973",
     "exception": false,
     "start_time": "2024-08-27T13:28:42.867645",
     "status": "completed"
    },
    "tags": []
   },
   "outputs": [],
   "source": [
    "# # Save the model and tokenizer\n",
    "# output_dir = \"/kaggle/working/model\"\n",
    "\n",
    "# # Create the directory if it does not exist\n",
    "# import os\n",
    "# if not os.path.exists(output_dir):\n",
    "#     os.makedirs(output_dir)\n",
    "\n",
    "# # Save the model\n",
    "# model.save_pretrained(output_dir)\n",
    "\n",
    "# # Save the tokenizer\n",
    "# tokenizer.save_pretrained(output_dir)"
   ]
  },
  {
   "cell_type": "code",
   "execution_count": 28,
   "id": "6e79c7bc",
   "metadata": {
    "execution": {
     "iopub.execute_input": "2024-08-27T13:28:42.915151Z",
     "iopub.status.busy": "2024-08-27T13:28:42.914863Z",
     "iopub.status.idle": "2024-08-27T13:28:42.918486Z",
     "shell.execute_reply": "2024-08-27T13:28:42.917697Z"
    },
    "papermill": {
     "duration": 0.019227,
     "end_time": "2024-08-27T13:28:42.920244",
     "exception": false,
     "start_time": "2024-08-27T13:28:42.901017",
     "status": "completed"
    },
    "tags": []
   },
   "outputs": [],
   "source": [
    "# Replace with the path to your fine-tuned model\n",
    "# model_checkpoint = \"/kaggle/working/model\"\n",
    "\n",
    "# # Load tokenizer and model\n",
    "# tuned_tokenizer = AutoTokenizer.from_pretrained(model_checkpoint)\n",
    "# tuned_model = AutoModelForTokenClassification.from_pretrained(model_checkpoint)"
   ]
  },
  {
   "cell_type": "code",
   "execution_count": 29,
   "id": "77b7fd70",
   "metadata": {
    "execution": {
     "iopub.execute_input": "2024-08-27T13:28:42.948457Z",
     "iopub.status.busy": "2024-08-27T13:28:42.947839Z",
     "iopub.status.idle": "2024-08-27T13:28:42.951514Z",
     "shell.execute_reply": "2024-08-27T13:28:42.950741Z"
    },
    "papermill": {
     "duration": 0.019574,
     "end_time": "2024-08-27T13:28:42.953331",
     "exception": false,
     "start_time": "2024-08-27T13:28:42.933757",
     "status": "completed"
    },
    "tags": []
   },
   "outputs": [],
   "source": [
    "# from transformers import pipeline\n",
    "\n",
    "# ner_pipeline = pipeline(\n",
    "#     'ner',\n",
    "#     model=tuned_model,\n",
    "#     tokenizer=tuned_tokenizer,\n",
    "#     device=0 if torch.cuda.is_available() else -1 # use GPU if available\n",
    "# )\n"
   ]
  },
  {
   "cell_type": "code",
   "execution_count": 30,
   "id": "b9829057",
   "metadata": {
    "execution": {
     "iopub.execute_input": "2024-08-27T13:28:42.980738Z",
     "iopub.status.busy": "2024-08-27T13:28:42.980484Z",
     "iopub.status.idle": "2024-08-27T13:28:42.983903Z",
     "shell.execute_reply": "2024-08-27T13:28:42.983163Z"
    },
    "papermill": {
     "duration": 0.019121,
     "end_time": "2024-08-27T13:28:42.985769",
     "exception": false,
     "start_time": "2024-08-27T13:28:42.966648",
     "status": "completed"
    },
    "tags": []
   },
   "outputs": [],
   "source": [
    "# Example text for prediction\n",
    "# text = \"399.00 spent on ICICI Bank Card XX1000 on 16-Jun-22 at Amazon. Avl Lmt: INR 1,38,768.54.\""
   ]
  },
  {
   "cell_type": "code",
   "execution_count": 31,
   "id": "e81312d9",
   "metadata": {
    "execution": {
     "iopub.execute_input": "2024-08-27T13:28:43.013133Z",
     "iopub.status.busy": "2024-08-27T13:28:43.012852Z",
     "iopub.status.idle": "2024-08-27T13:28:43.016317Z",
     "shell.execute_reply": "2024-08-27T13:28:43.015624Z"
    },
    "papermill": {
     "duration": 0.019061,
     "end_time": "2024-08-27T13:28:43.018104",
     "exception": false,
     "start_time": "2024-08-27T13:28:42.999043",
     "status": "completed"
    },
    "tags": []
   },
   "outputs": [],
   "source": [
    "# predictions = ner_pipeline(text)\n",
    "\n",
    "# for prediction in predictions:\n",
    "#     print(prediction)\n",
    "# #     print(f\"Entity: {prediction['entity']}, Label: {prediction['label']}, Score: {prediction['score']}\")"
   ]
  },
  {
   "cell_type": "code",
   "execution_count": 32,
   "id": "598cac44",
   "metadata": {
    "execution": {
     "iopub.execute_input": "2024-08-27T13:28:43.046155Z",
     "iopub.status.busy": "2024-08-27T13:28:43.045697Z",
     "iopub.status.idle": "2024-08-27T13:28:43.050039Z",
     "shell.execute_reply": "2024-08-27T13:28:43.049129Z"
    },
    "papermill": {
     "duration": 0.020498,
     "end_time": "2024-08-27T13:28:43.051786",
     "exception": false,
     "start_time": "2024-08-27T13:28:43.031288",
     "status": "completed"
    },
    "tags": []
   },
   "outputs": [],
   "source": [
    "# def predict(text: str):\n",
    "#     model = tuned_model\n",
    "#     model.to(device)\n",
    "#     # Tokenize the text\n",
    "#     tokens = tuned_tokenizer(text, return_tensors=\"pt\", truncation=True, padding=True).to(device)\n",
    "\n",
    "#     # Get model predictions\n",
    "#     with torch.no_grad():\n",
    "#         outputs = model(**tokens)\n",
    "#     logits = outputs.logits\n",
    "\n",
    "#     # Get the predicted labels\n",
    "#     predictions = torch.argmax(logits, dim=-1).squeeze().cpu().tolist()\n",
    "#     tokens = tokens[\"input_ids\"].squeeze().cpu().tolist()\n",
    "\n",
    "#     # Convert predictions to label names\n",
    "#     labels = [model.config.id2label[pred] for pred in predictions]\n",
    "# #     print(labels)\n",
    "#     tokens = [tuned_tokenizer.decode([token]) for token in tokens]\n",
    "\n",
    "#     # Filter out special tokens\n",
    "#     result = [{\"token\": token, \"label\": label} for token, label in zip(tokens, labels) if token not in tokenizer.all_special_tokens]\n",
    "\n",
    "#     return {\"tokens\": result}\n"
   ]
  },
  {
   "cell_type": "code",
   "execution_count": null,
   "id": "62bb7012",
   "metadata": {
    "papermill": {
     "duration": 0.012908,
     "end_time": "2024-08-27T13:28:43.077807",
     "exception": false,
     "start_time": "2024-08-27T13:28:43.064899",
     "status": "completed"
    },
    "tags": []
   },
   "outputs": [],
   "source": []
  },
  {
   "cell_type": "code",
   "execution_count": null,
   "id": "a7f0e169",
   "metadata": {
    "papermill": {
     "duration": 0.012956,
     "end_time": "2024-08-27T13:28:43.104017",
     "exception": false,
     "start_time": "2024-08-27T13:28:43.091061",
     "status": "completed"
    },
    "tags": []
   },
   "outputs": [],
   "source": []
  }
 ],
 "metadata": {
  "kaggle": {
   "accelerator": "nvidiaTeslaT4",
   "dataSources": [
    {
     "datasetId": 5579109,
     "sourceId": 9224902,
     "sourceType": "datasetVersion"
    },
    {
     "datasetId": 5589719,
     "sourceId": 9240661,
     "sourceType": "datasetVersion"
    }
   ],
   "dockerImageVersionId": 30732,
   "isGpuEnabled": true,
   "isInternetEnabled": true,
   "language": "python",
   "sourceType": "notebook"
  },
  "kernelspec": {
   "display_name": "Python 3",
   "language": "python",
   "name": "python3"
  },
  "language_info": {
   "codemirror_mode": {
    "name": "ipython",
    "version": 3
   },
   "file_extension": ".py",
   "mimetype": "text/x-python",
   "name": "python",
   "nbconvert_exporter": "python",
   "pygments_lexer": "ipython3",
   "version": "3.10.13"
  },
  "papermill": {
   "default_parameters": {},
   "duration": 5065.19948,
   "end_time": "2024-08-27T13:28:46.173537",
   "environment_variables": {},
   "exception": null,
   "input_path": "__notebook__.ipynb",
   "output_path": "__notebook__.ipynb",
   "parameters": {},
   "start_time": "2024-08-27T12:04:20.974057",
   "version": "2.5.0"
  },
  "widgets": {
   "application/vnd.jupyter.widget-state+json": {
    "state": {
     "11df63e3b6cb4989bdc9b05129ff2985": {
      "model_module": "@jupyter-widgets/controls",
      "model_module_version": "1.5.0",
      "model_name": "HBoxModel",
      "state": {
       "_dom_classes": [],
       "_model_module": "@jupyter-widgets/controls",
       "_model_module_version": "1.5.0",
       "_model_name": "HBoxModel",
       "_view_count": null,
       "_view_module": "@jupyter-widgets/controls",
       "_view_module_version": "1.5.0",
       "_view_name": "HBoxView",
       "box_style": "",
       "children": [
        "IPY_MODEL_1f5d21399e214210873bcafecf37c1cd",
        "IPY_MODEL_233b56dae1624a55b859035b4d7bb2ad",
        "IPY_MODEL_f7ae8265989443a0acdecfd060c8aa68"
       ],
       "layout": "IPY_MODEL_fa41f5b08257449fad1a17fa37a9ede1"
      }
     },
     "15938a992c01448ea9b1050588fb7651": {
      "model_module": "@jupyter-widgets/base",
      "model_module_version": "1.2.0",
      "model_name": "LayoutModel",
      "state": {
       "_model_module": "@jupyter-widgets/base",
       "_model_module_version": "1.2.0",
       "_model_name": "LayoutModel",
       "_view_count": null,
       "_view_module": "@jupyter-widgets/base",
       "_view_module_version": "1.2.0",
       "_view_name": "LayoutView",
       "align_content": null,
       "align_items": null,
       "align_self": null,
       "border": null,
       "bottom": null,
       "display": null,
       "flex": null,
       "flex_flow": null,
       "grid_area": null,
       "grid_auto_columns": null,
       "grid_auto_flow": null,
       "grid_auto_rows": null,
       "grid_column": null,
       "grid_gap": null,
       "grid_row": null,
       "grid_template_areas": null,
       "grid_template_columns": null,
       "grid_template_rows": null,
       "height": null,
       "justify_content": null,
       "justify_items": null,
       "left": null,
       "margin": null,
       "max_height": null,
       "max_width": null,
       "min_height": null,
       "min_width": null,
       "object_fit": null,
       "object_position": null,
       "order": null,
       "overflow": null,
       "overflow_x": null,
       "overflow_y": null,
       "padding": null,
       "right": null,
       "top": null,
       "visibility": null,
       "width": null
      }
     },
     "1b5ad95659f34594ba8c81278f8bc206": {
      "model_module": "@jupyter-widgets/controls",
      "model_module_version": "1.5.0",
      "model_name": "DescriptionStyleModel",
      "state": {
       "_model_module": "@jupyter-widgets/controls",
       "_model_module_version": "1.5.0",
       "_model_name": "DescriptionStyleModel",
       "_view_count": null,
       "_view_module": "@jupyter-widgets/base",
       "_view_module_version": "1.2.0",
       "_view_name": "StyleView",
       "description_width": ""
      }
     },
     "1f19d655486847d687812f6f406730ee": {
      "model_module": "@jupyter-widgets/controls",
      "model_module_version": "1.5.0",
      "model_name": "DescriptionStyleModel",
      "state": {
       "_model_module": "@jupyter-widgets/controls",
       "_model_module_version": "1.5.0",
       "_model_name": "DescriptionStyleModel",
       "_view_count": null,
       "_view_module": "@jupyter-widgets/base",
       "_view_module_version": "1.2.0",
       "_view_name": "StyleView",
       "description_width": ""
      }
     },
     "1f5d21399e214210873bcafecf37c1cd": {
      "model_module": "@jupyter-widgets/controls",
      "model_module_version": "1.5.0",
      "model_name": "HTMLModel",
      "state": {
       "_dom_classes": [],
       "_model_module": "@jupyter-widgets/controls",
       "_model_module_version": "1.5.0",
       "_model_name": "HTMLModel",
       "_view_count": null,
       "_view_module": "@jupyter-widgets/controls",
       "_view_module_version": "1.5.0",
       "_view_name": "HTMLView",
       "description": "",
       "description_tooltip": null,
       "layout": "IPY_MODEL_63fbdc988e1f4b6b93d5705be408e30f",
       "placeholder": "​",
       "style": "IPY_MODEL_5436cfb1d09f48a3b4bc9e637497ea85",
       "value": "tokenizer_config.json: 100%"
      }
     },
     "20c8d6d2ee2b424caa381e780160035a": {
      "model_module": "@jupyter-widgets/base",
      "model_module_version": "1.2.0",
      "model_name": "LayoutModel",
      "state": {
       "_model_module": "@jupyter-widgets/base",
       "_model_module_version": "1.2.0",
       "_model_name": "LayoutModel",
       "_view_count": null,
       "_view_module": "@jupyter-widgets/base",
       "_view_module_version": "1.2.0",
       "_view_name": "LayoutView",
       "align_content": null,
       "align_items": null,
       "align_self": null,
       "border": null,
       "bottom": null,
       "display": null,
       "flex": null,
       "flex_flow": null,
       "grid_area": null,
       "grid_auto_columns": null,
       "grid_auto_flow": null,
       "grid_auto_rows": null,
       "grid_column": null,
       "grid_gap": null,
       "grid_row": null,
       "grid_template_areas": null,
       "grid_template_columns": null,
       "grid_template_rows": null,
       "height": null,
       "justify_content": null,
       "justify_items": null,
       "left": null,
       "margin": null,
       "max_height": null,
       "max_width": null,
       "min_height": null,
       "min_width": null,
       "object_fit": null,
       "object_position": null,
       "order": null,
       "overflow": null,
       "overflow_x": null,
       "overflow_y": null,
       "padding": null,
       "right": null,
       "top": null,
       "visibility": null,
       "width": null
      }
     },
     "233b56dae1624a55b859035b4d7bb2ad": {
      "model_module": "@jupyter-widgets/controls",
      "model_module_version": "1.5.0",
      "model_name": "FloatProgressModel",
      "state": {
       "_dom_classes": [],
       "_model_module": "@jupyter-widgets/controls",
       "_model_module_version": "1.5.0",
       "_model_name": "FloatProgressModel",
       "_view_count": null,
       "_view_module": "@jupyter-widgets/controls",
       "_view_module_version": "1.5.0",
       "_view_name": "ProgressView",
       "bar_style": "success",
       "description": "",
       "description_tooltip": null,
       "layout": "IPY_MODEL_3dd6602f99114ed9bdae2840f5264ada",
       "max": 49.0,
       "min": 0.0,
       "orientation": "horizontal",
       "style": "IPY_MODEL_b0d6f9a79eaf42019dba52d9cb40c887",
       "value": 49.0
      }
     },
     "289725259cac44628d59fd8607b7212b": {
      "model_module": "@jupyter-widgets/controls",
      "model_module_version": "1.5.0",
      "model_name": "HTMLModel",
      "state": {
       "_dom_classes": [],
       "_model_module": "@jupyter-widgets/controls",
       "_model_module_version": "1.5.0",
       "_model_name": "HTMLModel",
       "_view_count": null,
       "_view_module": "@jupyter-widgets/controls",
       "_view_module_version": "1.5.0",
       "_view_name": "HTMLView",
       "description": "",
       "description_tooltip": null,
       "layout": "IPY_MODEL_51eb41ef271d41e7a71be5fed1ad417f",
       "placeholder": "​",
       "style": "IPY_MODEL_c05a9786ed39430bbd406293dd698bef",
       "value": "model.safetensors: 100%"
      }
     },
     "2ad2b0a9c86b4b0a9c6a49a1ec2c1b60": {
      "model_module": "@jupyter-widgets/controls",
      "model_module_version": "1.5.0",
      "model_name": "FloatProgressModel",
      "state": {
       "_dom_classes": [],
       "_model_module": "@jupyter-widgets/controls",
       "_model_module_version": "1.5.0",
       "_model_name": "FloatProgressModel",
       "_view_count": null,
       "_view_module": "@jupyter-widgets/controls",
       "_view_module_version": "1.5.0",
       "_view_name": "ProgressView",
       "bar_style": "success",
       "description": "",
       "description_tooltip": null,
       "layout": "IPY_MODEL_7fb4b3a969a847c78daa008abe76204f",
       "max": 435755784.0,
       "min": 0.0,
       "orientation": "horizontal",
       "style": "IPY_MODEL_eb181159ed144a8582cd5588a8cee4a1",
       "value": 435755784.0
      }
     },
     "2f548dd39c14486b8953a77eff64bc84": {
      "model_module": "@jupyter-widgets/controls",
      "model_module_version": "1.5.0",
      "model_name": "FloatProgressModel",
      "state": {
       "_dom_classes": [],
       "_model_module": "@jupyter-widgets/controls",
       "_model_module_version": "1.5.0",
       "_model_name": "FloatProgressModel",
       "_view_count": null,
       "_view_module": "@jupyter-widgets/controls",
       "_view_module_version": "1.5.0",
       "_view_name": "ProgressView",
       "bar_style": "success",
       "description": "",
       "description_tooltip": null,
       "layout": "IPY_MODEL_527f1d3842af49e8ac4d84295e0899a0",
       "max": 570.0,
       "min": 0.0,
       "orientation": "horizontal",
       "style": "IPY_MODEL_c6a45161fc1a41f7b9ff901bf0778b9c",
       "value": 570.0
      }
     },
     "303a319ace864427bf6939f2b23d9ca8": {
      "model_module": "@jupyter-widgets/controls",
      "model_module_version": "1.5.0",
      "model_name": "DescriptionStyleModel",
      "state": {
       "_model_module": "@jupyter-widgets/controls",
       "_model_module_version": "1.5.0",
       "_model_name": "DescriptionStyleModel",
       "_view_count": null,
       "_view_module": "@jupyter-widgets/base",
       "_view_module_version": "1.2.0",
       "_view_name": "StyleView",
       "description_width": ""
      }
     },
     "311f7d4188ce4556bbe659b6834ef0aa": {
      "model_module": "@jupyter-widgets/controls",
      "model_module_version": "1.5.0",
      "model_name": "DescriptionStyleModel",
      "state": {
       "_model_module": "@jupyter-widgets/controls",
       "_model_module_version": "1.5.0",
       "_model_name": "DescriptionStyleModel",
       "_view_count": null,
       "_view_module": "@jupyter-widgets/base",
       "_view_module_version": "1.2.0",
       "_view_name": "StyleView",
       "description_width": ""
      }
     },
     "35a20e70d5024bd48b760ab2c43071c0": {
      "model_module": "@jupyter-widgets/controls",
      "model_module_version": "1.5.0",
      "model_name": "HBoxModel",
      "state": {
       "_dom_classes": [],
       "_model_module": "@jupyter-widgets/controls",
       "_model_module_version": "1.5.0",
       "_model_name": "HBoxModel",
       "_view_count": null,
       "_view_module": "@jupyter-widgets/controls",
       "_view_module_version": "1.5.0",
       "_view_name": "HBoxView",
       "box_style": "",
       "children": [
        "IPY_MODEL_844885153d884369b4b909d22ddaf5ee",
        "IPY_MODEL_393a642255fd4f888d1e9deb24c7b78d",
        "IPY_MODEL_f575024bba4547d98a499be8977db868"
       ],
       "layout": "IPY_MODEL_dc12dcf31aaf494fbf7ca76c63abfff8"
      }
     },
     "393a642255fd4f888d1e9deb24c7b78d": {
      "model_module": "@jupyter-widgets/controls",
      "model_module_version": "1.5.0",
      "model_name": "FloatProgressModel",
      "state": {
       "_dom_classes": [],
       "_model_module": "@jupyter-widgets/controls",
       "_model_module_version": "1.5.0",
       "_model_name": "FloatProgressModel",
       "_view_count": null,
       "_view_module": "@jupyter-widgets/controls",
       "_view_module_version": "1.5.0",
       "_view_name": "ProgressView",
       "bar_style": "success",
       "description": "",
       "description_tooltip": null,
       "layout": "IPY_MODEL_f3aaf08404d7416ca1439d0a1adbe570",
       "max": 213450.0,
       "min": 0.0,
       "orientation": "horizontal",
       "style": "IPY_MODEL_41bef462ace547e1bebd821823d9fde1",
       "value": 213450.0
      }
     },
     "3dd6602f99114ed9bdae2840f5264ada": {
      "model_module": "@jupyter-widgets/base",
      "model_module_version": "1.2.0",
      "model_name": "LayoutModel",
      "state": {
       "_model_module": "@jupyter-widgets/base",
       "_model_module_version": "1.2.0",
       "_model_name": "LayoutModel",
       "_view_count": null,
       "_view_module": "@jupyter-widgets/base",
       "_view_module_version": "1.2.0",
       "_view_name": "LayoutView",
       "align_content": null,
       "align_items": null,
       "align_self": null,
       "border": null,
       "bottom": null,
       "display": null,
       "flex": null,
       "flex_flow": null,
       "grid_area": null,
       "grid_auto_columns": null,
       "grid_auto_flow": null,
       "grid_auto_rows": null,
       "grid_column": null,
       "grid_gap": null,
       "grid_row": null,
       "grid_template_areas": null,
       "grid_template_columns": null,
       "grid_template_rows": null,
       "height": null,
       "justify_content": null,
       "justify_items": null,
       "left": null,
       "margin": null,
       "max_height": null,
       "max_width": null,
       "min_height": null,
       "min_width": null,
       "object_fit": null,
       "object_position": null,
       "order": null,
       "overflow": null,
       "overflow_x": null,
       "overflow_y": null,
       "padding": null,
       "right": null,
       "top": null,
       "visibility": null,
       "width": null
      }
     },
     "40dde48d97184ffd9fc64bd68ab82e5f": {
      "model_module": "@jupyter-widgets/base",
      "model_module_version": "1.2.0",
      "model_name": "LayoutModel",
      "state": {
       "_model_module": "@jupyter-widgets/base",
       "_model_module_version": "1.2.0",
       "_model_name": "LayoutModel",
       "_view_count": null,
       "_view_module": "@jupyter-widgets/base",
       "_view_module_version": "1.2.0",
       "_view_name": "LayoutView",
       "align_content": null,
       "align_items": null,
       "align_self": null,
       "border": null,
       "bottom": null,
       "display": null,
       "flex": null,
       "flex_flow": null,
       "grid_area": null,
       "grid_auto_columns": null,
       "grid_auto_flow": null,
       "grid_auto_rows": null,
       "grid_column": null,
       "grid_gap": null,
       "grid_row": null,
       "grid_template_areas": null,
       "grid_template_columns": null,
       "grid_template_rows": null,
       "height": null,
       "justify_content": null,
       "justify_items": null,
       "left": null,
       "margin": null,
       "max_height": null,
       "max_width": null,
       "min_height": null,
       "min_width": null,
       "object_fit": null,
       "object_position": null,
       "order": null,
       "overflow": null,
       "overflow_x": null,
       "overflow_y": null,
       "padding": null,
       "right": null,
       "top": null,
       "visibility": null,
       "width": null
      }
     },
     "41bef462ace547e1bebd821823d9fde1": {
      "model_module": "@jupyter-widgets/controls",
      "model_module_version": "1.5.0",
      "model_name": "ProgressStyleModel",
      "state": {
       "_model_module": "@jupyter-widgets/controls",
       "_model_module_version": "1.5.0",
       "_model_name": "ProgressStyleModel",
       "_view_count": null,
       "_view_module": "@jupyter-widgets/base",
       "_view_module_version": "1.2.0",
       "_view_name": "StyleView",
       "bar_color": null,
       "description_width": ""
      }
     },
     "469592eea6824993a5e9d8dc8bd2b5de": {
      "model_module": "@jupyter-widgets/controls",
      "model_module_version": "1.5.0",
      "model_name": "HBoxModel",
      "state": {
       "_dom_classes": [],
       "_model_module": "@jupyter-widgets/controls",
       "_model_module_version": "1.5.0",
       "_model_name": "HBoxModel",
       "_view_count": null,
       "_view_module": "@jupyter-widgets/controls",
       "_view_module_version": "1.5.0",
       "_view_name": "HBoxView",
       "box_style": "",
       "children": [
        "IPY_MODEL_da0c3634cfb542918174eb43099dea1b",
        "IPY_MODEL_f57aef2264be4fbc88f93ca8e5606a33",
        "IPY_MODEL_673e20e6749044939ddbc0b6f15973b3"
       ],
       "layout": "IPY_MODEL_8cf759f0003d4279837cf7c1c8207c35"
      }
     },
     "50d372434a88400d838af0147d614305": {
      "model_module": "@jupyter-widgets/base",
      "model_module_version": "1.2.0",
      "model_name": "LayoutModel",
      "state": {
       "_model_module": "@jupyter-widgets/base",
       "_model_module_version": "1.2.0",
       "_model_name": "LayoutModel",
       "_view_count": null,
       "_view_module": "@jupyter-widgets/base",
       "_view_module_version": "1.2.0",
       "_view_name": "LayoutView",
       "align_content": null,
       "align_items": null,
       "align_self": null,
       "border": null,
       "bottom": null,
       "display": null,
       "flex": null,
       "flex_flow": null,
       "grid_area": null,
       "grid_auto_columns": null,
       "grid_auto_flow": null,
       "grid_auto_rows": null,
       "grid_column": null,
       "grid_gap": null,
       "grid_row": null,
       "grid_template_areas": null,
       "grid_template_columns": null,
       "grid_template_rows": null,
       "height": null,
       "justify_content": null,
       "justify_items": null,
       "left": null,
       "margin": null,
       "max_height": null,
       "max_width": null,
       "min_height": null,
       "min_width": null,
       "object_fit": null,
       "object_position": null,
       "order": null,
       "overflow": null,
       "overflow_x": null,
       "overflow_y": null,
       "padding": null,
       "right": null,
       "top": null,
       "visibility": null,
       "width": null
      }
     },
     "517d7218cbe5470d85695b56728b6202": {
      "model_module": "@jupyter-widgets/base",
      "model_module_version": "1.2.0",
      "model_name": "LayoutModel",
      "state": {
       "_model_module": "@jupyter-widgets/base",
       "_model_module_version": "1.2.0",
       "_model_name": "LayoutModel",
       "_view_count": null,
       "_view_module": "@jupyter-widgets/base",
       "_view_module_version": "1.2.0",
       "_view_name": "LayoutView",
       "align_content": null,
       "align_items": null,
       "align_self": null,
       "border": null,
       "bottom": null,
       "display": null,
       "flex": null,
       "flex_flow": null,
       "grid_area": null,
       "grid_auto_columns": null,
       "grid_auto_flow": null,
       "grid_auto_rows": null,
       "grid_column": null,
       "grid_gap": null,
       "grid_row": null,
       "grid_template_areas": null,
       "grid_template_columns": null,
       "grid_template_rows": null,
       "height": null,
       "justify_content": null,
       "justify_items": null,
       "left": null,
       "margin": null,
       "max_height": null,
       "max_width": null,
       "min_height": null,
       "min_width": null,
       "object_fit": null,
       "object_position": null,
       "order": null,
       "overflow": null,
       "overflow_x": null,
       "overflow_y": null,
       "padding": null,
       "right": null,
       "top": null,
       "visibility": null,
       "width": null
      }
     },
     "51e746c0b3574cb992c4f7e2e28700c8": {
      "model_module": "@jupyter-widgets/controls",
      "model_module_version": "1.5.0",
      "model_name": "HBoxModel",
      "state": {
       "_dom_classes": [],
       "_model_module": "@jupyter-widgets/controls",
       "_model_module_version": "1.5.0",
       "_model_name": "HBoxModel",
       "_view_count": null,
       "_view_module": "@jupyter-widgets/controls",
       "_view_module_version": "1.5.0",
       "_view_name": "HBoxView",
       "box_style": "",
       "children": [
        "IPY_MODEL_aa39b415026046fdb8dccc9f9b80138d",
        "IPY_MODEL_2f548dd39c14486b8953a77eff64bc84",
        "IPY_MODEL_8a90b3ef5b494ec7bebda32edd43bb54"
       ],
       "layout": "IPY_MODEL_40dde48d97184ffd9fc64bd68ab82e5f"
      }
     },
     "51eb41ef271d41e7a71be5fed1ad417f": {
      "model_module": "@jupyter-widgets/base",
      "model_module_version": "1.2.0",
      "model_name": "LayoutModel",
      "state": {
       "_model_module": "@jupyter-widgets/base",
       "_model_module_version": "1.2.0",
       "_model_name": "LayoutModel",
       "_view_count": null,
       "_view_module": "@jupyter-widgets/base",
       "_view_module_version": "1.2.0",
       "_view_name": "LayoutView",
       "align_content": null,
       "align_items": null,
       "align_self": null,
       "border": null,
       "bottom": null,
       "display": null,
       "flex": null,
       "flex_flow": null,
       "grid_area": null,
       "grid_auto_columns": null,
       "grid_auto_flow": null,
       "grid_auto_rows": null,
       "grid_column": null,
       "grid_gap": null,
       "grid_row": null,
       "grid_template_areas": null,
       "grid_template_columns": null,
       "grid_template_rows": null,
       "height": null,
       "justify_content": null,
       "justify_items": null,
       "left": null,
       "margin": null,
       "max_height": null,
       "max_width": null,
       "min_height": null,
       "min_width": null,
       "object_fit": null,
       "object_position": null,
       "order": null,
       "overflow": null,
       "overflow_x": null,
       "overflow_y": null,
       "padding": null,
       "right": null,
       "top": null,
       "visibility": null,
       "width": null
      }
     },
     "527f1d3842af49e8ac4d84295e0899a0": {
      "model_module": "@jupyter-widgets/base",
      "model_module_version": "1.2.0",
      "model_name": "LayoutModel",
      "state": {
       "_model_module": "@jupyter-widgets/base",
       "_model_module_version": "1.2.0",
       "_model_name": "LayoutModel",
       "_view_count": null,
       "_view_module": "@jupyter-widgets/base",
       "_view_module_version": "1.2.0",
       "_view_name": "LayoutView",
       "align_content": null,
       "align_items": null,
       "align_self": null,
       "border": null,
       "bottom": null,
       "display": null,
       "flex": null,
       "flex_flow": null,
       "grid_area": null,
       "grid_auto_columns": null,
       "grid_auto_flow": null,
       "grid_auto_rows": null,
       "grid_column": null,
       "grid_gap": null,
       "grid_row": null,
       "grid_template_areas": null,
       "grid_template_columns": null,
       "grid_template_rows": null,
       "height": null,
       "justify_content": null,
       "justify_items": null,
       "left": null,
       "margin": null,
       "max_height": null,
       "max_width": null,
       "min_height": null,
       "min_width": null,
       "object_fit": null,
       "object_position": null,
       "order": null,
       "overflow": null,
       "overflow_x": null,
       "overflow_y": null,
       "padding": null,
       "right": null,
       "top": null,
       "visibility": null,
       "width": null
      }
     },
     "538f234e145041eeb93c12ec7a278fe7": {
      "model_module": "@jupyter-widgets/controls",
      "model_module_version": "1.5.0",
      "model_name": "DescriptionStyleModel",
      "state": {
       "_model_module": "@jupyter-widgets/controls",
       "_model_module_version": "1.5.0",
       "_model_name": "DescriptionStyleModel",
       "_view_count": null,
       "_view_module": "@jupyter-widgets/base",
       "_view_module_version": "1.2.0",
       "_view_name": "StyleView",
       "description_width": ""
      }
     },
     "5436cfb1d09f48a3b4bc9e637497ea85": {
      "model_module": "@jupyter-widgets/controls",
      "model_module_version": "1.5.0",
      "model_name": "DescriptionStyleModel",
      "state": {
       "_model_module": "@jupyter-widgets/controls",
       "_model_module_version": "1.5.0",
       "_model_name": "DescriptionStyleModel",
       "_view_count": null,
       "_view_module": "@jupyter-widgets/base",
       "_view_module_version": "1.2.0",
       "_view_name": "StyleView",
       "description_width": ""
      }
     },
     "55ca9214356c46978e514f0252fe7fea": {
      "model_module": "@jupyter-widgets/controls",
      "model_module_version": "1.5.0",
      "model_name": "FloatProgressModel",
      "state": {
       "_dom_classes": [],
       "_model_module": "@jupyter-widgets/controls",
       "_model_module_version": "1.5.0",
       "_model_name": "FloatProgressModel",
       "_view_count": null,
       "_view_module": "@jupyter-widgets/controls",
       "_view_module_version": "1.5.0",
       "_view_name": "ProgressView",
       "bar_style": "success",
       "description": "",
       "description_tooltip": null,
       "layout": "IPY_MODEL_5630687733694a7cb1962db83549944b",
       "max": 20000.0,
       "min": 0.0,
       "orientation": "horizontal",
       "style": "IPY_MODEL_7029b3fc9f104bd5be438f30745597b4",
       "value": 20000.0
      }
     },
     "561b4518416d44f78fb9930eea4a680f": {
      "model_module": "@jupyter-widgets/controls",
      "model_module_version": "1.5.0",
      "model_name": "DescriptionStyleModel",
      "state": {
       "_model_module": "@jupyter-widgets/controls",
       "_model_module_version": "1.5.0",
       "_model_name": "DescriptionStyleModel",
       "_view_count": null,
       "_view_module": "@jupyter-widgets/base",
       "_view_module_version": "1.2.0",
       "_view_name": "StyleView",
       "description_width": ""
      }
     },
     "5630687733694a7cb1962db83549944b": {
      "model_module": "@jupyter-widgets/base",
      "model_module_version": "1.2.0",
      "model_name": "LayoutModel",
      "state": {
       "_model_module": "@jupyter-widgets/base",
       "_model_module_version": "1.2.0",
       "_model_name": "LayoutModel",
       "_view_count": null,
       "_view_module": "@jupyter-widgets/base",
       "_view_module_version": "1.2.0",
       "_view_name": "LayoutView",
       "align_content": null,
       "align_items": null,
       "align_self": null,
       "border": null,
       "bottom": null,
       "display": null,
       "flex": null,
       "flex_flow": null,
       "grid_area": null,
       "grid_auto_columns": null,
       "grid_auto_flow": null,
       "grid_auto_rows": null,
       "grid_column": null,
       "grid_gap": null,
       "grid_row": null,
       "grid_template_areas": null,
       "grid_template_columns": null,
       "grid_template_rows": null,
       "height": null,
       "justify_content": null,
       "justify_items": null,
       "left": null,
       "margin": null,
       "max_height": null,
       "max_width": null,
       "min_height": null,
       "min_width": null,
       "object_fit": null,
       "object_position": null,
       "order": null,
       "overflow": null,
       "overflow_x": null,
       "overflow_y": null,
       "padding": null,
       "right": null,
       "top": null,
       "visibility": null,
       "width": null
      }
     },
     "58019949d80b493ba680c9666055960c": {
      "model_module": "@jupyter-widgets/base",
      "model_module_version": "1.2.0",
      "model_name": "LayoutModel",
      "state": {
       "_model_module": "@jupyter-widgets/base",
       "_model_module_version": "1.2.0",
       "_model_name": "LayoutModel",
       "_view_count": null,
       "_view_module": "@jupyter-widgets/base",
       "_view_module_version": "1.2.0",
       "_view_name": "LayoutView",
       "align_content": null,
       "align_items": null,
       "align_self": null,
       "border": null,
       "bottom": null,
       "display": null,
       "flex": null,
       "flex_flow": null,
       "grid_area": null,
       "grid_auto_columns": null,
       "grid_auto_flow": null,
       "grid_auto_rows": null,
       "grid_column": null,
       "grid_gap": null,
       "grid_row": null,
       "grid_template_areas": null,
       "grid_template_columns": null,
       "grid_template_rows": null,
       "height": null,
       "justify_content": null,
       "justify_items": null,
       "left": null,
       "margin": null,
       "max_height": null,
       "max_width": null,
       "min_height": null,
       "min_width": null,
       "object_fit": null,
       "object_position": null,
       "order": null,
       "overflow": null,
       "overflow_x": null,
       "overflow_y": null,
       "padding": null,
       "right": null,
       "top": null,
       "visibility": null,
       "width": null
      }
     },
     "5f9d46ea2a12489dad42f9c1cc367f77": {
      "model_module": "@jupyter-widgets/base",
      "model_module_version": "1.2.0",
      "model_name": "LayoutModel",
      "state": {
       "_model_module": "@jupyter-widgets/base",
       "_model_module_version": "1.2.0",
       "_model_name": "LayoutModel",
       "_view_count": null,
       "_view_module": "@jupyter-widgets/base",
       "_view_module_version": "1.2.0",
       "_view_name": "LayoutView",
       "align_content": null,
       "align_items": null,
       "align_self": null,
       "border": null,
       "bottom": null,
       "display": null,
       "flex": null,
       "flex_flow": null,
       "grid_area": null,
       "grid_auto_columns": null,
       "grid_auto_flow": null,
       "grid_auto_rows": null,
       "grid_column": null,
       "grid_gap": null,
       "grid_row": null,
       "grid_template_areas": null,
       "grid_template_columns": null,
       "grid_template_rows": null,
       "height": null,
       "justify_content": null,
       "justify_items": null,
       "left": null,
       "margin": null,
       "max_height": null,
       "max_width": null,
       "min_height": null,
       "min_width": null,
       "object_fit": null,
       "object_position": null,
       "order": null,
       "overflow": null,
       "overflow_x": null,
       "overflow_y": null,
       "padding": null,
       "right": null,
       "top": null,
       "visibility": null,
       "width": null
      }
     },
     "6188c4f14729491f85b8883ea0b4fd48": {
      "model_module": "@jupyter-widgets/base",
      "model_module_version": "1.2.0",
      "model_name": "LayoutModel",
      "state": {
       "_model_module": "@jupyter-widgets/base",
       "_model_module_version": "1.2.0",
       "_model_name": "LayoutModel",
       "_view_count": null,
       "_view_module": "@jupyter-widgets/base",
       "_view_module_version": "1.2.0",
       "_view_name": "LayoutView",
       "align_content": null,
       "align_items": null,
       "align_self": null,
       "border": null,
       "bottom": null,
       "display": null,
       "flex": null,
       "flex_flow": null,
       "grid_area": null,
       "grid_auto_columns": null,
       "grid_auto_flow": null,
       "grid_auto_rows": null,
       "grid_column": null,
       "grid_gap": null,
       "grid_row": null,
       "grid_template_areas": null,
       "grid_template_columns": null,
       "grid_template_rows": null,
       "height": null,
       "justify_content": null,
       "justify_items": null,
       "left": null,
       "margin": null,
       "max_height": null,
       "max_width": null,
       "min_height": null,
       "min_width": null,
       "object_fit": null,
       "object_position": null,
       "order": null,
       "overflow": null,
       "overflow_x": null,
       "overflow_y": null,
       "padding": null,
       "right": null,
       "top": null,
       "visibility": null,
       "width": null
      }
     },
     "63fbdc988e1f4b6b93d5705be408e30f": {
      "model_module": "@jupyter-widgets/base",
      "model_module_version": "1.2.0",
      "model_name": "LayoutModel",
      "state": {
       "_model_module": "@jupyter-widgets/base",
       "_model_module_version": "1.2.0",
       "_model_name": "LayoutModel",
       "_view_count": null,
       "_view_module": "@jupyter-widgets/base",
       "_view_module_version": "1.2.0",
       "_view_name": "LayoutView",
       "align_content": null,
       "align_items": null,
       "align_self": null,
       "border": null,
       "bottom": null,
       "display": null,
       "flex": null,
       "flex_flow": null,
       "grid_area": null,
       "grid_auto_columns": null,
       "grid_auto_flow": null,
       "grid_auto_rows": null,
       "grid_column": null,
       "grid_gap": null,
       "grid_row": null,
       "grid_template_areas": null,
       "grid_template_columns": null,
       "grid_template_rows": null,
       "height": null,
       "justify_content": null,
       "justify_items": null,
       "left": null,
       "margin": null,
       "max_height": null,
       "max_width": null,
       "min_height": null,
       "min_width": null,
       "object_fit": null,
       "object_position": null,
       "order": null,
       "overflow": null,
       "overflow_x": null,
       "overflow_y": null,
       "padding": null,
       "right": null,
       "top": null,
       "visibility": null,
       "width": null
      }
     },
     "673e20e6749044939ddbc0b6f15973b3": {
      "model_module": "@jupyter-widgets/controls",
      "model_module_version": "1.5.0",
      "model_name": "HTMLModel",
      "state": {
       "_dom_classes": [],
       "_model_module": "@jupyter-widgets/controls",
       "_model_module_version": "1.5.0",
       "_model_name": "HTMLModel",
       "_view_count": null,
       "_view_module": "@jupyter-widgets/controls",
       "_view_module_version": "1.5.0",
       "_view_name": "HTMLView",
       "description": "",
       "description_tooltip": null,
       "layout": "IPY_MODEL_58019949d80b493ba680c9666055960c",
       "placeholder": "​",
       "style": "IPY_MODEL_311f7d4188ce4556bbe659b6834ef0aa",
       "value": " 436k/436k [00:00&lt;00:00, 16.3MB/s]"
      }
     },
     "6e4a8453a13943628cfee7e845dbfcb8": {
      "model_module": "@jupyter-widgets/controls",
      "model_module_version": "1.5.0",
      "model_name": "DescriptionStyleModel",
      "state": {
       "_model_module": "@jupyter-widgets/controls",
       "_model_module_version": "1.5.0",
       "_model_name": "DescriptionStyleModel",
       "_view_count": null,
       "_view_module": "@jupyter-widgets/base",
       "_view_module_version": "1.2.0",
       "_view_name": "StyleView",
       "description_width": ""
      }
     },
     "7029b3fc9f104bd5be438f30745597b4": {
      "model_module": "@jupyter-widgets/controls",
      "model_module_version": "1.5.0",
      "model_name": "ProgressStyleModel",
      "state": {
       "_model_module": "@jupyter-widgets/controls",
       "_model_module_version": "1.5.0",
       "_model_name": "ProgressStyleModel",
       "_view_count": null,
       "_view_module": "@jupyter-widgets/base",
       "_view_module_version": "1.2.0",
       "_view_name": "StyleView",
       "bar_color": null,
       "description_width": ""
      }
     },
     "775b7a98a6bf4450ac2191c59afa6fe9": {
      "model_module": "@jupyter-widgets/controls",
      "model_module_version": "1.5.0",
      "model_name": "DescriptionStyleModel",
      "state": {
       "_model_module": "@jupyter-widgets/controls",
       "_model_module_version": "1.5.0",
       "_model_name": "DescriptionStyleModel",
       "_view_count": null,
       "_view_module": "@jupyter-widgets/base",
       "_view_module_version": "1.2.0",
       "_view_name": "StyleView",
       "description_width": ""
      }
     },
     "7b5f4e9e5b23408cac20a76c19f75a85": {
      "model_module": "@jupyter-widgets/controls",
      "model_module_version": "1.5.0",
      "model_name": "HTMLModel",
      "state": {
       "_dom_classes": [],
       "_model_module": "@jupyter-widgets/controls",
       "_model_module_version": "1.5.0",
       "_model_name": "HTMLModel",
       "_view_count": null,
       "_view_module": "@jupyter-widgets/controls",
       "_view_module_version": "1.5.0",
       "_view_name": "HTMLView",
       "description": "",
       "description_tooltip": null,
       "layout": "IPY_MODEL_5f9d46ea2a12489dad42f9c1cc367f77",
       "placeholder": "​",
       "style": "IPY_MODEL_775b7a98a6bf4450ac2191c59afa6fe9",
       "value": "Map: 100%"
      }
     },
     "7fb4b3a969a847c78daa008abe76204f": {
      "model_module": "@jupyter-widgets/base",
      "model_module_version": "1.2.0",
      "model_name": "LayoutModel",
      "state": {
       "_model_module": "@jupyter-widgets/base",
       "_model_module_version": "1.2.0",
       "_model_name": "LayoutModel",
       "_view_count": null,
       "_view_module": "@jupyter-widgets/base",
       "_view_module_version": "1.2.0",
       "_view_name": "LayoutView",
       "align_content": null,
       "align_items": null,
       "align_self": null,
       "border": null,
       "bottom": null,
       "display": null,
       "flex": null,
       "flex_flow": null,
       "grid_area": null,
       "grid_auto_columns": null,
       "grid_auto_flow": null,
       "grid_auto_rows": null,
       "grid_column": null,
       "grid_gap": null,
       "grid_row": null,
       "grid_template_areas": null,
       "grid_template_columns": null,
       "grid_template_rows": null,
       "height": null,
       "justify_content": null,
       "justify_items": null,
       "left": null,
       "margin": null,
       "max_height": null,
       "max_width": null,
       "min_height": null,
       "min_width": null,
       "object_fit": null,
       "object_position": null,
       "order": null,
       "overflow": null,
       "overflow_x": null,
       "overflow_y": null,
       "padding": null,
       "right": null,
       "top": null,
       "visibility": null,
       "width": null
      }
     },
     "824e2cc23fb844fab1ef6c0dd09d1c12": {
      "model_module": "@jupyter-widgets/base",
      "model_module_version": "1.2.0",
      "model_name": "LayoutModel",
      "state": {
       "_model_module": "@jupyter-widgets/base",
       "_model_module_version": "1.2.0",
       "_model_name": "LayoutModel",
       "_view_count": null,
       "_view_module": "@jupyter-widgets/base",
       "_view_module_version": "1.2.0",
       "_view_name": "LayoutView",
       "align_content": null,
       "align_items": null,
       "align_self": null,
       "border": null,
       "bottom": null,
       "display": null,
       "flex": null,
       "flex_flow": null,
       "grid_area": null,
       "grid_auto_columns": null,
       "grid_auto_flow": null,
       "grid_auto_rows": null,
       "grid_column": null,
       "grid_gap": null,
       "grid_row": null,
       "grid_template_areas": null,
       "grid_template_columns": null,
       "grid_template_rows": null,
       "height": null,
       "justify_content": null,
       "justify_items": null,
       "left": null,
       "margin": null,
       "max_height": null,
       "max_width": null,
       "min_height": null,
       "min_width": null,
       "object_fit": null,
       "object_position": null,
       "order": null,
       "overflow": null,
       "overflow_x": null,
       "overflow_y": null,
       "padding": null,
       "right": null,
       "top": null,
       "visibility": null,
       "width": null
      }
     },
     "844885153d884369b4b909d22ddaf5ee": {
      "model_module": "@jupyter-widgets/controls",
      "model_module_version": "1.5.0",
      "model_name": "HTMLModel",
      "state": {
       "_dom_classes": [],
       "_model_module": "@jupyter-widgets/controls",
       "_model_module_version": "1.5.0",
       "_model_name": "HTMLModel",
       "_view_count": null,
       "_view_module": "@jupyter-widgets/controls",
       "_view_module_version": "1.5.0",
       "_view_name": "HTMLView",
       "description": "",
       "description_tooltip": null,
       "layout": "IPY_MODEL_20c8d6d2ee2b424caa381e780160035a",
       "placeholder": "​",
       "style": "IPY_MODEL_e8b3d18c3fca4066896a7f96f16de9b1",
       "value": "vocab.txt: 100%"
      }
     },
     "84e4792a164d42c4aa3c86251146cab6": {
      "model_module": "@jupyter-widgets/controls",
      "model_module_version": "1.5.0",
      "model_name": "DescriptionStyleModel",
      "state": {
       "_model_module": "@jupyter-widgets/controls",
       "_model_module_version": "1.5.0",
       "_model_name": "DescriptionStyleModel",
       "_view_count": null,
       "_view_module": "@jupyter-widgets/base",
       "_view_module_version": "1.2.0",
       "_view_name": "StyleView",
       "description_width": ""
      }
     },
     "8a90b3ef5b494ec7bebda32edd43bb54": {
      "model_module": "@jupyter-widgets/controls",
      "model_module_version": "1.5.0",
      "model_name": "HTMLModel",
      "state": {
       "_dom_classes": [],
       "_model_module": "@jupyter-widgets/controls",
       "_model_module_version": "1.5.0",
       "_model_name": "HTMLModel",
       "_view_count": null,
       "_view_module": "@jupyter-widgets/controls",
       "_view_module_version": "1.5.0",
       "_view_name": "HTMLView",
       "description": "",
       "description_tooltip": null,
       "layout": "IPY_MODEL_ae6e490f29b84950a9e53da61b9cebde",
       "placeholder": "​",
       "style": "IPY_MODEL_303a319ace864427bf6939f2b23d9ca8",
       "value": " 570/570 [00:00&lt;00:00, 56.8kB/s]"
      }
     },
     "8cf759f0003d4279837cf7c1c8207c35": {
      "model_module": "@jupyter-widgets/base",
      "model_module_version": "1.2.0",
      "model_name": "LayoutModel",
      "state": {
       "_model_module": "@jupyter-widgets/base",
       "_model_module_version": "1.2.0",
       "_model_name": "LayoutModel",
       "_view_count": null,
       "_view_module": "@jupyter-widgets/base",
       "_view_module_version": "1.2.0",
       "_view_name": "LayoutView",
       "align_content": null,
       "align_items": null,
       "align_self": null,
       "border": null,
       "bottom": null,
       "display": null,
       "flex": null,
       "flex_flow": null,
       "grid_area": null,
       "grid_auto_columns": null,
       "grid_auto_flow": null,
       "grid_auto_rows": null,
       "grid_column": null,
       "grid_gap": null,
       "grid_row": null,
       "grid_template_areas": null,
       "grid_template_columns": null,
       "grid_template_rows": null,
       "height": null,
       "justify_content": null,
       "justify_items": null,
       "left": null,
       "margin": null,
       "max_height": null,
       "max_width": null,
       "min_height": null,
       "min_width": null,
       "object_fit": null,
       "object_position": null,
       "order": null,
       "overflow": null,
       "overflow_x": null,
       "overflow_y": null,
       "padding": null,
       "right": null,
       "top": null,
       "visibility": null,
       "width": null
      }
     },
     "99483c4318a04647ba9dc00a5b8b3b7b": {
      "model_module": "@jupyter-widgets/controls",
      "model_module_version": "1.5.0",
      "model_name": "HTMLModel",
      "state": {
       "_dom_classes": [],
       "_model_module": "@jupyter-widgets/controls",
       "_model_module_version": "1.5.0",
       "_model_name": "HTMLModel",
       "_view_count": null,
       "_view_module": "@jupyter-widgets/controls",
       "_view_module_version": "1.5.0",
       "_view_name": "HTMLView",
       "description": "",
       "description_tooltip": null,
       "layout": "IPY_MODEL_50d372434a88400d838af0147d614305",
       "placeholder": "​",
       "style": "IPY_MODEL_6e4a8453a13943628cfee7e845dbfcb8",
       "value": " 20000/20000 [00:03&lt;00:00, 5676.31 examples/s]"
      }
     },
     "9a0689af2d334f1d9b807d5e17830c02": {
      "model_module": "@jupyter-widgets/controls",
      "model_module_version": "1.5.0",
      "model_name": "HTMLModel",
      "state": {
       "_dom_classes": [],
       "_model_module": "@jupyter-widgets/controls",
       "_model_module_version": "1.5.0",
       "_model_name": "HTMLModel",
       "_view_count": null,
       "_view_module": "@jupyter-widgets/controls",
       "_view_module_version": "1.5.0",
       "_view_name": "HTMLView",
       "description": "",
       "description_tooltip": null,
       "layout": "IPY_MODEL_824e2cc23fb844fab1ef6c0dd09d1c12",
       "placeholder": "​",
       "style": "IPY_MODEL_538f234e145041eeb93c12ec7a278fe7",
       "value": "Map: 100%"
      }
     },
     "9d65fde3e6e94c2f8918765aa2097c41": {
      "model_module": "@jupyter-widgets/controls",
      "model_module_version": "1.5.0",
      "model_name": "ProgressStyleModel",
      "state": {
       "_model_module": "@jupyter-widgets/controls",
       "_model_module_version": "1.5.0",
       "_model_name": "ProgressStyleModel",
       "_view_count": null,
       "_view_module": "@jupyter-widgets/base",
       "_view_module_version": "1.2.0",
       "_view_name": "StyleView",
       "bar_color": null,
       "description_width": ""
      }
     },
     "a7f4ab306de044dfb571a0d91417eadc": {
      "model_module": "@jupyter-widgets/base",
      "model_module_version": "1.2.0",
      "model_name": "LayoutModel",
      "state": {
       "_model_module": "@jupyter-widgets/base",
       "_model_module_version": "1.2.0",
       "_model_name": "LayoutModel",
       "_view_count": null,
       "_view_module": "@jupyter-widgets/base",
       "_view_module_version": "1.2.0",
       "_view_name": "LayoutView",
       "align_content": null,
       "align_items": null,
       "align_self": null,
       "border": null,
       "bottom": null,
       "display": null,
       "flex": null,
       "flex_flow": null,
       "grid_area": null,
       "grid_auto_columns": null,
       "grid_auto_flow": null,
       "grid_auto_rows": null,
       "grid_column": null,
       "grid_gap": null,
       "grid_row": null,
       "grid_template_areas": null,
       "grid_template_columns": null,
       "grid_template_rows": null,
       "height": null,
       "justify_content": null,
       "justify_items": null,
       "left": null,
       "margin": null,
       "max_height": null,
       "max_width": null,
       "min_height": null,
       "min_width": null,
       "object_fit": null,
       "object_position": null,
       "order": null,
       "overflow": null,
       "overflow_x": null,
       "overflow_y": null,
       "padding": null,
       "right": null,
       "top": null,
       "visibility": null,
       "width": null
      }
     },
     "a8c845108f374955a36b9f9fe094eec8": {
      "model_module": "@jupyter-widgets/controls",
      "model_module_version": "1.5.0",
      "model_name": "HBoxModel",
      "state": {
       "_dom_classes": [],
       "_model_module": "@jupyter-widgets/controls",
       "_model_module_version": "1.5.0",
       "_model_name": "HBoxModel",
       "_view_count": null,
       "_view_module": "@jupyter-widgets/controls",
       "_view_module_version": "1.5.0",
       "_view_name": "HBoxView",
       "box_style": "",
       "children": [
        "IPY_MODEL_9a0689af2d334f1d9b807d5e17830c02",
        "IPY_MODEL_55ca9214356c46978e514f0252fe7fea",
        "IPY_MODEL_99483c4318a04647ba9dc00a5b8b3b7b"
       ],
       "layout": "IPY_MODEL_517d7218cbe5470d85695b56728b6202"
      }
     },
     "a920c152e6924e4eb0fa32ad6b05e184": {
      "model_module": "@jupyter-widgets/controls",
      "model_module_version": "1.5.0",
      "model_name": "HTMLModel",
      "state": {
       "_dom_classes": [],
       "_model_module": "@jupyter-widgets/controls",
       "_model_module_version": "1.5.0",
       "_model_name": "HTMLModel",
       "_view_count": null,
       "_view_module": "@jupyter-widgets/controls",
       "_view_module_version": "1.5.0",
       "_view_name": "HTMLView",
       "description": "",
       "description_tooltip": null,
       "layout": "IPY_MODEL_15938a992c01448ea9b1050588fb7651",
       "placeholder": "​",
       "style": "IPY_MODEL_1b5ad95659f34594ba8c81278f8bc206",
       "value": " 180000/180000 [00:33&lt;00:00, 3327.18 examples/s]"
      }
     },
     "aa39b415026046fdb8dccc9f9b80138d": {
      "model_module": "@jupyter-widgets/controls",
      "model_module_version": "1.5.0",
      "model_name": "HTMLModel",
      "state": {
       "_dom_classes": [],
       "_model_module": "@jupyter-widgets/controls",
       "_model_module_version": "1.5.0",
       "_model_name": "HTMLModel",
       "_view_count": null,
       "_view_module": "@jupyter-widgets/controls",
       "_view_module_version": "1.5.0",
       "_view_name": "HTMLView",
       "description": "",
       "description_tooltip": null,
       "layout": "IPY_MODEL_e5c3f26b3e944b459c91ef2fec580356",
       "placeholder": "​",
       "style": "IPY_MODEL_ad786dcce170433b9dc85d1477852336",
       "value": "config.json: 100%"
      }
     },
     "ad786dcce170433b9dc85d1477852336": {
      "model_module": "@jupyter-widgets/controls",
      "model_module_version": "1.5.0",
      "model_name": "DescriptionStyleModel",
      "state": {
       "_model_module": "@jupyter-widgets/controls",
       "_model_module_version": "1.5.0",
       "_model_name": "DescriptionStyleModel",
       "_view_count": null,
       "_view_module": "@jupyter-widgets/base",
       "_view_module_version": "1.2.0",
       "_view_name": "StyleView",
       "description_width": ""
      }
     },
     "ae6e490f29b84950a9e53da61b9cebde": {
      "model_module": "@jupyter-widgets/base",
      "model_module_version": "1.2.0",
      "model_name": "LayoutModel",
      "state": {
       "_model_module": "@jupyter-widgets/base",
       "_model_module_version": "1.2.0",
       "_model_name": "LayoutModel",
       "_view_count": null,
       "_view_module": "@jupyter-widgets/base",
       "_view_module_version": "1.2.0",
       "_view_name": "LayoutView",
       "align_content": null,
       "align_items": null,
       "align_self": null,
       "border": null,
       "bottom": null,
       "display": null,
       "flex": null,
       "flex_flow": null,
       "grid_area": null,
       "grid_auto_columns": null,
       "grid_auto_flow": null,
       "grid_auto_rows": null,
       "grid_column": null,
       "grid_gap": null,
       "grid_row": null,
       "grid_template_areas": null,
       "grid_template_columns": null,
       "grid_template_rows": null,
       "height": null,
       "justify_content": null,
       "justify_items": null,
       "left": null,
       "margin": null,
       "max_height": null,
       "max_width": null,
       "min_height": null,
       "min_width": null,
       "object_fit": null,
       "object_position": null,
       "order": null,
       "overflow": null,
       "overflow_x": null,
       "overflow_y": null,
       "padding": null,
       "right": null,
       "top": null,
       "visibility": null,
       "width": null
      }
     },
     "b0d6f9a79eaf42019dba52d9cb40c887": {
      "model_module": "@jupyter-widgets/controls",
      "model_module_version": "1.5.0",
      "model_name": "ProgressStyleModel",
      "state": {
       "_model_module": "@jupyter-widgets/controls",
       "_model_module_version": "1.5.0",
       "_model_name": "ProgressStyleModel",
       "_view_count": null,
       "_view_module": "@jupyter-widgets/base",
       "_view_module_version": "1.2.0",
       "_view_name": "StyleView",
       "bar_color": null,
       "description_width": ""
      }
     },
     "b5fcb91e1f294788812a218e6813f3cd": {
      "model_module": "@jupyter-widgets/controls",
      "model_module_version": "1.5.0",
      "model_name": "ProgressStyleModel",
      "state": {
       "_model_module": "@jupyter-widgets/controls",
       "_model_module_version": "1.5.0",
       "_model_name": "ProgressStyleModel",
       "_view_count": null,
       "_view_module": "@jupyter-widgets/base",
       "_view_module_version": "1.2.0",
       "_view_name": "StyleView",
       "bar_color": null,
       "description_width": ""
      }
     },
     "b8a115f343134d04af003c26c2ae55a3": {
      "model_module": "@jupyter-widgets/controls",
      "model_module_version": "1.5.0",
      "model_name": "DescriptionStyleModel",
      "state": {
       "_model_module": "@jupyter-widgets/controls",
       "_model_module_version": "1.5.0",
       "_model_name": "DescriptionStyleModel",
       "_view_count": null,
       "_view_module": "@jupyter-widgets/base",
       "_view_module_version": "1.2.0",
       "_view_name": "StyleView",
       "description_width": ""
      }
     },
     "bfe1232e89884d84ad058a4fafa3d32f": {
      "model_module": "@jupyter-widgets/controls",
      "model_module_version": "1.5.0",
      "model_name": "HBoxModel",
      "state": {
       "_dom_classes": [],
       "_model_module": "@jupyter-widgets/controls",
       "_model_module_version": "1.5.0",
       "_model_name": "HBoxModel",
       "_view_count": null,
       "_view_module": "@jupyter-widgets/controls",
       "_view_module_version": "1.5.0",
       "_view_name": "HBoxView",
       "box_style": "",
       "children": [
        "IPY_MODEL_7b5f4e9e5b23408cac20a76c19f75a85",
        "IPY_MODEL_e304539735804f1e87fcb38f338fd252",
        "IPY_MODEL_a920c152e6924e4eb0fa32ad6b05e184"
       ],
       "layout": "IPY_MODEL_d2ac26f5cd0045b19cadf2141e9032ba"
      }
     },
     "c05a9786ed39430bbd406293dd698bef": {
      "model_module": "@jupyter-widgets/controls",
      "model_module_version": "1.5.0",
      "model_name": "DescriptionStyleModel",
      "state": {
       "_model_module": "@jupyter-widgets/controls",
       "_model_module_version": "1.5.0",
       "_model_name": "DescriptionStyleModel",
       "_view_count": null,
       "_view_module": "@jupyter-widgets/base",
       "_view_module_version": "1.2.0",
       "_view_name": "StyleView",
       "description_width": ""
      }
     },
     "c6a45161fc1a41f7b9ff901bf0778b9c": {
      "model_module": "@jupyter-widgets/controls",
      "model_module_version": "1.5.0",
      "model_name": "ProgressStyleModel",
      "state": {
       "_model_module": "@jupyter-widgets/controls",
       "_model_module_version": "1.5.0",
       "_model_name": "ProgressStyleModel",
       "_view_count": null,
       "_view_module": "@jupyter-widgets/base",
       "_view_module_version": "1.2.0",
       "_view_name": "StyleView",
       "bar_color": null,
       "description_width": ""
      }
     },
     "d2ac26f5cd0045b19cadf2141e9032ba": {
      "model_module": "@jupyter-widgets/base",
      "model_module_version": "1.2.0",
      "model_name": "LayoutModel",
      "state": {
       "_model_module": "@jupyter-widgets/base",
       "_model_module_version": "1.2.0",
       "_model_name": "LayoutModel",
       "_view_count": null,
       "_view_module": "@jupyter-widgets/base",
       "_view_module_version": "1.2.0",
       "_view_name": "LayoutView",
       "align_content": null,
       "align_items": null,
       "align_self": null,
       "border": null,
       "bottom": null,
       "display": null,
       "flex": null,
       "flex_flow": null,
       "grid_area": null,
       "grid_auto_columns": null,
       "grid_auto_flow": null,
       "grid_auto_rows": null,
       "grid_column": null,
       "grid_gap": null,
       "grid_row": null,
       "grid_template_areas": null,
       "grid_template_columns": null,
       "grid_template_rows": null,
       "height": null,
       "justify_content": null,
       "justify_items": null,
       "left": null,
       "margin": null,
       "max_height": null,
       "max_width": null,
       "min_height": null,
       "min_width": null,
       "object_fit": null,
       "object_position": null,
       "order": null,
       "overflow": null,
       "overflow_x": null,
       "overflow_y": null,
       "padding": null,
       "right": null,
       "top": null,
       "visibility": null,
       "width": null
      }
     },
     "d6598774430743bca6d6f122c25115ef": {
      "model_module": "@jupyter-widgets/base",
      "model_module_version": "1.2.0",
      "model_name": "LayoutModel",
      "state": {
       "_model_module": "@jupyter-widgets/base",
       "_model_module_version": "1.2.0",
       "_model_name": "LayoutModel",
       "_view_count": null,
       "_view_module": "@jupyter-widgets/base",
       "_view_module_version": "1.2.0",
       "_view_name": "LayoutView",
       "align_content": null,
       "align_items": null,
       "align_self": null,
       "border": null,
       "bottom": null,
       "display": null,
       "flex": null,
       "flex_flow": null,
       "grid_area": null,
       "grid_auto_columns": null,
       "grid_auto_flow": null,
       "grid_auto_rows": null,
       "grid_column": null,
       "grid_gap": null,
       "grid_row": null,
       "grid_template_areas": null,
       "grid_template_columns": null,
       "grid_template_rows": null,
       "height": null,
       "justify_content": null,
       "justify_items": null,
       "left": null,
       "margin": null,
       "max_height": null,
       "max_width": null,
       "min_height": null,
       "min_width": null,
       "object_fit": null,
       "object_position": null,
       "order": null,
       "overflow": null,
       "overflow_x": null,
       "overflow_y": null,
       "padding": null,
       "right": null,
       "top": null,
       "visibility": null,
       "width": null
      }
     },
     "d870243efd3b423ca9d096f04e5bb720": {
      "model_module": "@jupyter-widgets/controls",
      "model_module_version": "1.5.0",
      "model_name": "HTMLModel",
      "state": {
       "_dom_classes": [],
       "_model_module": "@jupyter-widgets/controls",
       "_model_module_version": "1.5.0",
       "_model_name": "HTMLModel",
       "_view_count": null,
       "_view_module": "@jupyter-widgets/controls",
       "_view_module_version": "1.5.0",
       "_view_name": "HTMLView",
       "description": "",
       "description_tooltip": null,
       "layout": "IPY_MODEL_ea0cd3d36fe5414aabbc7fa14d5dc0f3",
       "placeholder": "​",
       "style": "IPY_MODEL_561b4518416d44f78fb9930eea4a680f",
       "value": " 436M/436M [00:02&lt;00:00, 213MB/s]"
      }
     },
     "da0c3634cfb542918174eb43099dea1b": {
      "model_module": "@jupyter-widgets/controls",
      "model_module_version": "1.5.0",
      "model_name": "HTMLModel",
      "state": {
       "_dom_classes": [],
       "_model_module": "@jupyter-widgets/controls",
       "_model_module_version": "1.5.0",
       "_model_name": "HTMLModel",
       "_view_count": null,
       "_view_module": "@jupyter-widgets/controls",
       "_view_module_version": "1.5.0",
       "_view_name": "HTMLView",
       "description": "",
       "description_tooltip": null,
       "layout": "IPY_MODEL_f74a99de25514ea2960f37fc1a929c4c",
       "placeholder": "​",
       "style": "IPY_MODEL_84e4792a164d42c4aa3c86251146cab6",
       "value": "tokenizer.json: 100%"
      }
     },
     "dc12dcf31aaf494fbf7ca76c63abfff8": {
      "model_module": "@jupyter-widgets/base",
      "model_module_version": "1.2.0",
      "model_name": "LayoutModel",
      "state": {
       "_model_module": "@jupyter-widgets/base",
       "_model_module_version": "1.2.0",
       "_model_name": "LayoutModel",
       "_view_count": null,
       "_view_module": "@jupyter-widgets/base",
       "_view_module_version": "1.2.0",
       "_view_name": "LayoutView",
       "align_content": null,
       "align_items": null,
       "align_self": null,
       "border": null,
       "bottom": null,
       "display": null,
       "flex": null,
       "flex_flow": null,
       "grid_area": null,
       "grid_auto_columns": null,
       "grid_auto_flow": null,
       "grid_auto_rows": null,
       "grid_column": null,
       "grid_gap": null,
       "grid_row": null,
       "grid_template_areas": null,
       "grid_template_columns": null,
       "grid_template_rows": null,
       "height": null,
       "justify_content": null,
       "justify_items": null,
       "left": null,
       "margin": null,
       "max_height": null,
       "max_width": null,
       "min_height": null,
       "min_width": null,
       "object_fit": null,
       "object_position": null,
       "order": null,
       "overflow": null,
       "overflow_x": null,
       "overflow_y": null,
       "padding": null,
       "right": null,
       "top": null,
       "visibility": null,
       "width": null
      }
     },
     "e304539735804f1e87fcb38f338fd252": {
      "model_module": "@jupyter-widgets/controls",
      "model_module_version": "1.5.0",
      "model_name": "FloatProgressModel",
      "state": {
       "_dom_classes": [],
       "_model_module": "@jupyter-widgets/controls",
       "_model_module_version": "1.5.0",
       "_model_name": "FloatProgressModel",
       "_view_count": null,
       "_view_module": "@jupyter-widgets/controls",
       "_view_module_version": "1.5.0",
       "_view_name": "ProgressView",
       "bar_style": "success",
       "description": "",
       "description_tooltip": null,
       "layout": "IPY_MODEL_a7f4ab306de044dfb571a0d91417eadc",
       "max": 180000.0,
       "min": 0.0,
       "orientation": "horizontal",
       "style": "IPY_MODEL_b5fcb91e1f294788812a218e6813f3cd",
       "value": 180000.0
      }
     },
     "e5c3f26b3e944b459c91ef2fec580356": {
      "model_module": "@jupyter-widgets/base",
      "model_module_version": "1.2.0",
      "model_name": "LayoutModel",
      "state": {
       "_model_module": "@jupyter-widgets/base",
       "_model_module_version": "1.2.0",
       "_model_name": "LayoutModel",
       "_view_count": null,
       "_view_module": "@jupyter-widgets/base",
       "_view_module_version": "1.2.0",
       "_view_name": "LayoutView",
       "align_content": null,
       "align_items": null,
       "align_self": null,
       "border": null,
       "bottom": null,
       "display": null,
       "flex": null,
       "flex_flow": null,
       "grid_area": null,
       "grid_auto_columns": null,
       "grid_auto_flow": null,
       "grid_auto_rows": null,
       "grid_column": null,
       "grid_gap": null,
       "grid_row": null,
       "grid_template_areas": null,
       "grid_template_columns": null,
       "grid_template_rows": null,
       "height": null,
       "justify_content": null,
       "justify_items": null,
       "left": null,
       "margin": null,
       "max_height": null,
       "max_width": null,
       "min_height": null,
       "min_width": null,
       "object_fit": null,
       "object_position": null,
       "order": null,
       "overflow": null,
       "overflow_x": null,
       "overflow_y": null,
       "padding": null,
       "right": null,
       "top": null,
       "visibility": null,
       "width": null
      }
     },
     "e8b3d18c3fca4066896a7f96f16de9b1": {
      "model_module": "@jupyter-widgets/controls",
      "model_module_version": "1.5.0",
      "model_name": "DescriptionStyleModel",
      "state": {
       "_model_module": "@jupyter-widgets/controls",
       "_model_module_version": "1.5.0",
       "_model_name": "DescriptionStyleModel",
       "_view_count": null,
       "_view_module": "@jupyter-widgets/base",
       "_view_module_version": "1.2.0",
       "_view_name": "StyleView",
       "description_width": ""
      }
     },
     "e97965806e1746f5bc616d70ffe7e809": {
      "model_module": "@jupyter-widgets/base",
      "model_module_version": "1.2.0",
      "model_name": "LayoutModel",
      "state": {
       "_model_module": "@jupyter-widgets/base",
       "_model_module_version": "1.2.0",
       "_model_name": "LayoutModel",
       "_view_count": null,
       "_view_module": "@jupyter-widgets/base",
       "_view_module_version": "1.2.0",
       "_view_name": "LayoutView",
       "align_content": null,
       "align_items": null,
       "align_self": null,
       "border": null,
       "bottom": null,
       "display": null,
       "flex": null,
       "flex_flow": null,
       "grid_area": null,
       "grid_auto_columns": null,
       "grid_auto_flow": null,
       "grid_auto_rows": null,
       "grid_column": null,
       "grid_gap": null,
       "grid_row": null,
       "grid_template_areas": null,
       "grid_template_columns": null,
       "grid_template_rows": null,
       "height": null,
       "justify_content": null,
       "justify_items": null,
       "left": null,
       "margin": null,
       "max_height": null,
       "max_width": null,
       "min_height": null,
       "min_width": null,
       "object_fit": null,
       "object_position": null,
       "order": null,
       "overflow": null,
       "overflow_x": null,
       "overflow_y": null,
       "padding": null,
       "right": null,
       "top": null,
       "visibility": null,
       "width": null
      }
     },
     "ea0cd3d36fe5414aabbc7fa14d5dc0f3": {
      "model_module": "@jupyter-widgets/base",
      "model_module_version": "1.2.0",
      "model_name": "LayoutModel",
      "state": {
       "_model_module": "@jupyter-widgets/base",
       "_model_module_version": "1.2.0",
       "_model_name": "LayoutModel",
       "_view_count": null,
       "_view_module": "@jupyter-widgets/base",
       "_view_module_version": "1.2.0",
       "_view_name": "LayoutView",
       "align_content": null,
       "align_items": null,
       "align_self": null,
       "border": null,
       "bottom": null,
       "display": null,
       "flex": null,
       "flex_flow": null,
       "grid_area": null,
       "grid_auto_columns": null,
       "grid_auto_flow": null,
       "grid_auto_rows": null,
       "grid_column": null,
       "grid_gap": null,
       "grid_row": null,
       "grid_template_areas": null,
       "grid_template_columns": null,
       "grid_template_rows": null,
       "height": null,
       "justify_content": null,
       "justify_items": null,
       "left": null,
       "margin": null,
       "max_height": null,
       "max_width": null,
       "min_height": null,
       "min_width": null,
       "object_fit": null,
       "object_position": null,
       "order": null,
       "overflow": null,
       "overflow_x": null,
       "overflow_y": null,
       "padding": null,
       "right": null,
       "top": null,
       "visibility": null,
       "width": null
      }
     },
     "eb181159ed144a8582cd5588a8cee4a1": {
      "model_module": "@jupyter-widgets/controls",
      "model_module_version": "1.5.0",
      "model_name": "ProgressStyleModel",
      "state": {
       "_model_module": "@jupyter-widgets/controls",
       "_model_module_version": "1.5.0",
       "_model_name": "ProgressStyleModel",
       "_view_count": null,
       "_view_module": "@jupyter-widgets/base",
       "_view_module_version": "1.2.0",
       "_view_name": "StyleView",
       "bar_color": null,
       "description_width": ""
      }
     },
     "f1d9b670be984b0b95a714c21be20234": {
      "model_module": "@jupyter-widgets/base",
      "model_module_version": "1.2.0",
      "model_name": "LayoutModel",
      "state": {
       "_model_module": "@jupyter-widgets/base",
       "_model_module_version": "1.2.0",
       "_model_name": "LayoutModel",
       "_view_count": null,
       "_view_module": "@jupyter-widgets/base",
       "_view_module_version": "1.2.0",
       "_view_name": "LayoutView",
       "align_content": null,
       "align_items": null,
       "align_self": null,
       "border": null,
       "bottom": null,
       "display": null,
       "flex": null,
       "flex_flow": null,
       "grid_area": null,
       "grid_auto_columns": null,
       "grid_auto_flow": null,
       "grid_auto_rows": null,
       "grid_column": null,
       "grid_gap": null,
       "grid_row": null,
       "grid_template_areas": null,
       "grid_template_columns": null,
       "grid_template_rows": null,
       "height": null,
       "justify_content": null,
       "justify_items": null,
       "left": null,
       "margin": null,
       "max_height": null,
       "max_width": null,
       "min_height": null,
       "min_width": null,
       "object_fit": null,
       "object_position": null,
       "order": null,
       "overflow": null,
       "overflow_x": null,
       "overflow_y": null,
       "padding": null,
       "right": null,
       "top": null,
       "visibility": null,
       "width": null
      }
     },
     "f26609c585d24a339915d0fa91fd5603": {
      "model_module": "@jupyter-widgets/controls",
      "model_module_version": "1.5.0",
      "model_name": "HBoxModel",
      "state": {
       "_dom_classes": [],
       "_model_module": "@jupyter-widgets/controls",
       "_model_module_version": "1.5.0",
       "_model_name": "HBoxModel",
       "_view_count": null,
       "_view_module": "@jupyter-widgets/controls",
       "_view_module_version": "1.5.0",
       "_view_name": "HBoxView",
       "box_style": "",
       "children": [
        "IPY_MODEL_289725259cac44628d59fd8607b7212b",
        "IPY_MODEL_2ad2b0a9c86b4b0a9c6a49a1ec2c1b60",
        "IPY_MODEL_d870243efd3b423ca9d096f04e5bb720"
       ],
       "layout": "IPY_MODEL_e97965806e1746f5bc616d70ffe7e809"
      }
     },
     "f3aaf08404d7416ca1439d0a1adbe570": {
      "model_module": "@jupyter-widgets/base",
      "model_module_version": "1.2.0",
      "model_name": "LayoutModel",
      "state": {
       "_model_module": "@jupyter-widgets/base",
       "_model_module_version": "1.2.0",
       "_model_name": "LayoutModel",
       "_view_count": null,
       "_view_module": "@jupyter-widgets/base",
       "_view_module_version": "1.2.0",
       "_view_name": "LayoutView",
       "align_content": null,
       "align_items": null,
       "align_self": null,
       "border": null,
       "bottom": null,
       "display": null,
       "flex": null,
       "flex_flow": null,
       "grid_area": null,
       "grid_auto_columns": null,
       "grid_auto_flow": null,
       "grid_auto_rows": null,
       "grid_column": null,
       "grid_gap": null,
       "grid_row": null,
       "grid_template_areas": null,
       "grid_template_columns": null,
       "grid_template_rows": null,
       "height": null,
       "justify_content": null,
       "justify_items": null,
       "left": null,
       "margin": null,
       "max_height": null,
       "max_width": null,
       "min_height": null,
       "min_width": null,
       "object_fit": null,
       "object_position": null,
       "order": null,
       "overflow": null,
       "overflow_x": null,
       "overflow_y": null,
       "padding": null,
       "right": null,
       "top": null,
       "visibility": null,
       "width": null
      }
     },
     "f575024bba4547d98a499be8977db868": {
      "model_module": "@jupyter-widgets/controls",
      "model_module_version": "1.5.0",
      "model_name": "HTMLModel",
      "state": {
       "_dom_classes": [],
       "_model_module": "@jupyter-widgets/controls",
       "_model_module_version": "1.5.0",
       "_model_name": "HTMLModel",
       "_view_count": null,
       "_view_module": "@jupyter-widgets/controls",
       "_view_module_version": "1.5.0",
       "_view_name": "HTMLView",
       "description": "",
       "description_tooltip": null,
       "layout": "IPY_MODEL_d6598774430743bca6d6f122c25115ef",
       "placeholder": "​",
       "style": "IPY_MODEL_b8a115f343134d04af003c26c2ae55a3",
       "value": " 213k/213k [00:00&lt;00:00, 4.91MB/s]"
      }
     },
     "f57aef2264be4fbc88f93ca8e5606a33": {
      "model_module": "@jupyter-widgets/controls",
      "model_module_version": "1.5.0",
      "model_name": "FloatProgressModel",
      "state": {
       "_dom_classes": [],
       "_model_module": "@jupyter-widgets/controls",
       "_model_module_version": "1.5.0",
       "_model_name": "FloatProgressModel",
       "_view_count": null,
       "_view_module": "@jupyter-widgets/controls",
       "_view_module_version": "1.5.0",
       "_view_name": "ProgressView",
       "bar_style": "success",
       "description": "",
       "description_tooltip": null,
       "layout": "IPY_MODEL_f1d9b670be984b0b95a714c21be20234",
       "max": 435797.0,
       "min": 0.0,
       "orientation": "horizontal",
       "style": "IPY_MODEL_9d65fde3e6e94c2f8918765aa2097c41",
       "value": 435797.0
      }
     },
     "f74a99de25514ea2960f37fc1a929c4c": {
      "model_module": "@jupyter-widgets/base",
      "model_module_version": "1.2.0",
      "model_name": "LayoutModel",
      "state": {
       "_model_module": "@jupyter-widgets/base",
       "_model_module_version": "1.2.0",
       "_model_name": "LayoutModel",
       "_view_count": null,
       "_view_module": "@jupyter-widgets/base",
       "_view_module_version": "1.2.0",
       "_view_name": "LayoutView",
       "align_content": null,
       "align_items": null,
       "align_self": null,
       "border": null,
       "bottom": null,
       "display": null,
       "flex": null,
       "flex_flow": null,
       "grid_area": null,
       "grid_auto_columns": null,
       "grid_auto_flow": null,
       "grid_auto_rows": null,
       "grid_column": null,
       "grid_gap": null,
       "grid_row": null,
       "grid_template_areas": null,
       "grid_template_columns": null,
       "grid_template_rows": null,
       "height": null,
       "justify_content": null,
       "justify_items": null,
       "left": null,
       "margin": null,
       "max_height": null,
       "max_width": null,
       "min_height": null,
       "min_width": null,
       "object_fit": null,
       "object_position": null,
       "order": null,
       "overflow": null,
       "overflow_x": null,
       "overflow_y": null,
       "padding": null,
       "right": null,
       "top": null,
       "visibility": null,
       "width": null
      }
     },
     "f7ae8265989443a0acdecfd060c8aa68": {
      "model_module": "@jupyter-widgets/controls",
      "model_module_version": "1.5.0",
      "model_name": "HTMLModel",
      "state": {
       "_dom_classes": [],
       "_model_module": "@jupyter-widgets/controls",
       "_model_module_version": "1.5.0",
       "_model_name": "HTMLModel",
       "_view_count": null,
       "_view_module": "@jupyter-widgets/controls",
       "_view_module_version": "1.5.0",
       "_view_name": "HTMLView",
       "description": "",
       "description_tooltip": null,
       "layout": "IPY_MODEL_6188c4f14729491f85b8883ea0b4fd48",
       "placeholder": "​",
       "style": "IPY_MODEL_1f19d655486847d687812f6f406730ee",
       "value": " 49.0/49.0 [00:00&lt;00:00, 3.76kB/s]"
      }
     },
     "fa41f5b08257449fad1a17fa37a9ede1": {
      "model_module": "@jupyter-widgets/base",
      "model_module_version": "1.2.0",
      "model_name": "LayoutModel",
      "state": {
       "_model_module": "@jupyter-widgets/base",
       "_model_module_version": "1.2.0",
       "_model_name": "LayoutModel",
       "_view_count": null,
       "_view_module": "@jupyter-widgets/base",
       "_view_module_version": "1.2.0",
       "_view_name": "LayoutView",
       "align_content": null,
       "align_items": null,
       "align_self": null,
       "border": null,
       "bottom": null,
       "display": null,
       "flex": null,
       "flex_flow": null,
       "grid_area": null,
       "grid_auto_columns": null,
       "grid_auto_flow": null,
       "grid_auto_rows": null,
       "grid_column": null,
       "grid_gap": null,
       "grid_row": null,
       "grid_template_areas": null,
       "grid_template_columns": null,
       "grid_template_rows": null,
       "height": null,
       "justify_content": null,
       "justify_items": null,
       "left": null,
       "margin": null,
       "max_height": null,
       "max_width": null,
       "min_height": null,
       "min_width": null,
       "object_fit": null,
       "object_position": null,
       "order": null,
       "overflow": null,
       "overflow_x": null,
       "overflow_y": null,
       "padding": null,
       "right": null,
       "top": null,
       "visibility": null,
       "width": null
      }
     }
    },
    "version_major": 2,
    "version_minor": 0
   }
  }
 },
 "nbformat": 4,
 "nbformat_minor": 5
}
