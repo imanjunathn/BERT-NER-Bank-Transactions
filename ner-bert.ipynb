{
 "cells": [
  {
   "cell_type": "code",
   "execution_count": 1,
   "id": "fa8c56fd",
   "metadata": {
    "_cell_guid": "b1076dfc-b9ad-4769-8c92-a6c4dae69d19",
    "_uuid": "8f2839f25d086af736a60e9eeb907d3b93b6e0e5",
    "execution": {
     "iopub.execute_input": "2024-08-27T09:39:58.749322Z",
     "iopub.status.busy": "2024-08-27T09:39:58.748980Z",
     "iopub.status.idle": "2024-08-27T09:40:12.270146Z",
     "shell.execute_reply": "2024-08-27T09:40:12.268976Z"
    },
    "papermill": {
     "duration": 13.534412,
     "end_time": "2024-08-27T09:40:12.272415",
     "exception": false,
     "start_time": "2024-08-27T09:39:58.738003",
     "status": "completed"
    },
    "tags": []
   },
   "outputs": [
    {
     "name": "stdout",
     "output_type": "stream",
     "text": [
      "Requirement already satisfied: datasets in /opt/conda/lib/python3.10/site-packages (2.19.2)\r\n",
      "Requirement already satisfied: transformers in /opt/conda/lib/python3.10/site-packages (4.41.2)\r\n",
      "Requirement already satisfied: filelock in /opt/conda/lib/python3.10/site-packages (from datasets) (3.13.1)\r\n",
      "Requirement already satisfied: numpy>=1.17 in /opt/conda/lib/python3.10/site-packages (from datasets) (1.26.4)\r\n",
      "Requirement already satisfied: pyarrow>=12.0.0 in /opt/conda/lib/python3.10/site-packages (from datasets) (14.0.2)\r\n",
      "Requirement already satisfied: pyarrow-hotfix in /opt/conda/lib/python3.10/site-packages (from datasets) (0.6)\r\n",
      "Requirement already satisfied: dill<0.3.9,>=0.3.0 in /opt/conda/lib/python3.10/site-packages (from datasets) (0.3.8)\r\n",
      "Requirement already satisfied: pandas in /opt/conda/lib/python3.10/site-packages (from datasets) (2.2.1)\r\n",
      "Requirement already satisfied: requests>=2.32.1 in /opt/conda/lib/python3.10/site-packages (from datasets) (2.32.3)\r\n",
      "Requirement already satisfied: tqdm>=4.62.1 in /opt/conda/lib/python3.10/site-packages (from datasets) (4.66.4)\r\n",
      "Requirement already satisfied: xxhash in /opt/conda/lib/python3.10/site-packages (from datasets) (3.4.1)\r\n",
      "Requirement already satisfied: multiprocess in /opt/conda/lib/python3.10/site-packages (from datasets) (0.70.16)\r\n",
      "Requirement already satisfied: fsspec<=2024.3.1,>=2023.1.0 in /opt/conda/lib/python3.10/site-packages (from fsspec[http]<=2024.3.1,>=2023.1.0->datasets) (2024.3.1)\r\n",
      "Requirement already satisfied: aiohttp in /opt/conda/lib/python3.10/site-packages (from datasets) (3.9.1)\r\n",
      "Requirement already satisfied: huggingface-hub>=0.21.2 in /opt/conda/lib/python3.10/site-packages (from datasets) (0.23.2)\r\n",
      "Requirement already satisfied: packaging in /opt/conda/lib/python3.10/site-packages (from datasets) (21.3)\r\n",
      "Requirement already satisfied: pyyaml>=5.1 in /opt/conda/lib/python3.10/site-packages (from datasets) (6.0.1)\r\n",
      "Requirement already satisfied: regex!=2019.12.17 in /opt/conda/lib/python3.10/site-packages (from transformers) (2023.12.25)\r\n",
      "Requirement already satisfied: tokenizers<0.20,>=0.19 in /opt/conda/lib/python3.10/site-packages (from transformers) (0.19.1)\r\n",
      "Requirement already satisfied: safetensors>=0.4.1 in /opt/conda/lib/python3.10/site-packages (from transformers) (0.4.3)\r\n",
      "Requirement already satisfied: attrs>=17.3.0 in /opt/conda/lib/python3.10/site-packages (from aiohttp->datasets) (23.2.0)\r\n",
      "Requirement already satisfied: multidict<7.0,>=4.5 in /opt/conda/lib/python3.10/site-packages (from aiohttp->datasets) (6.0.4)\r\n",
      "Requirement already satisfied: yarl<2.0,>=1.0 in /opt/conda/lib/python3.10/site-packages (from aiohttp->datasets) (1.9.3)\r\n",
      "Requirement already satisfied: frozenlist>=1.1.1 in /opt/conda/lib/python3.10/site-packages (from aiohttp->datasets) (1.4.1)\r\n",
      "Requirement already satisfied: aiosignal>=1.1.2 in /opt/conda/lib/python3.10/site-packages (from aiohttp->datasets) (1.3.1)\r\n",
      "Requirement already satisfied: async-timeout<5.0,>=4.0 in /opt/conda/lib/python3.10/site-packages (from aiohttp->datasets) (4.0.3)\r\n",
      "Requirement already satisfied: typing-extensions>=3.7.4.3 in /opt/conda/lib/python3.10/site-packages (from huggingface-hub>=0.21.2->datasets) (4.9.0)\r\n",
      "Requirement already satisfied: pyparsing!=3.0.5,>=2.0.2 in /opt/conda/lib/python3.10/site-packages (from packaging->datasets) (3.1.1)\r\n",
      "Requirement already satisfied: charset-normalizer<4,>=2 in /opt/conda/lib/python3.10/site-packages (from requests>=2.32.1->datasets) (3.3.2)\r\n",
      "Requirement already satisfied: idna<4,>=2.5 in /opt/conda/lib/python3.10/site-packages (from requests>=2.32.1->datasets) (3.6)\r\n",
      "Requirement already satisfied: urllib3<3,>=1.21.1 in /opt/conda/lib/python3.10/site-packages (from requests>=2.32.1->datasets) (1.26.18)\r\n",
      "Requirement already satisfied: certifi>=2017.4.17 in /opt/conda/lib/python3.10/site-packages (from requests>=2.32.1->datasets) (2024.2.2)\r\n",
      "Requirement already satisfied: python-dateutil>=2.8.2 in /opt/conda/lib/python3.10/site-packages (from pandas->datasets) (2.9.0.post0)\r\n",
      "Requirement already satisfied: pytz>=2020.1 in /opt/conda/lib/python3.10/site-packages (from pandas->datasets) (2023.3.post1)\r\n",
      "Requirement already satisfied: tzdata>=2022.7 in /opt/conda/lib/python3.10/site-packages (from pandas->datasets) (2023.4)\r\n",
      "Requirement already satisfied: six>=1.5 in /opt/conda/lib/python3.10/site-packages (from python-dateutil>=2.8.2->pandas->datasets) (1.16.0)\r\n",
      "Note: you may need to restart the kernel to use updated packages.\n"
     ]
    }
   ],
   "source": [
    "pip install datasets transformers"
   ]
  },
  {
   "cell_type": "code",
   "execution_count": 2,
   "id": "f9effffb",
   "metadata": {
    "execution": {
     "iopub.execute_input": "2024-08-27T09:40:12.293979Z",
     "iopub.status.busy": "2024-08-27T09:40:12.293655Z",
     "iopub.status.idle": "2024-08-27T09:40:31.645880Z",
     "shell.execute_reply": "2024-08-27T09:40:31.645031Z"
    },
    "papermill": {
     "duration": 19.365525,
     "end_time": "2024-08-27T09:40:31.648172",
     "exception": false,
     "start_time": "2024-08-27T09:40:12.282647",
     "status": "completed"
    },
    "tags": []
   },
   "outputs": [
    {
     "name": "stderr",
     "output_type": "stream",
     "text": [
      "2024-08-27 09:40:22.026875: E external/local_xla/xla/stream_executor/cuda/cuda_dnn.cc:9261] Unable to register cuDNN factory: Attempting to register factory for plugin cuDNN when one has already been registered\n",
      "2024-08-27 09:40:22.026977: E external/local_xla/xla/stream_executor/cuda/cuda_fft.cc:607] Unable to register cuFFT factory: Attempting to register factory for plugin cuFFT when one has already been registered\n",
      "2024-08-27 09:40:22.151632: E external/local_xla/xla/stream_executor/cuda/cuda_blas.cc:1515] Unable to register cuBLAS factory: Attempting to register factory for plugin cuBLAS when one has already been registered\n"
     ]
    }
   ],
   "source": [
    "# Import required libraries\n",
    "from datasets import load_dataset, Dataset, DatasetDict\n",
    "from transformers import (BertTokenizerFast, AutoModelForTokenClassification, AutoTokenizer,\n",
    "                          TrainingArguments, Trainer, pipeline, DataCollatorForTokenClassification)\n",
    "import torch\n",
    "import json\n",
    "import pandas as pd\n",
    "import os"
   ]
  },
  {
   "cell_type": "code",
   "execution_count": 3,
   "id": "2b3dca4e",
   "metadata": {
    "execution": {
     "iopub.execute_input": "2024-08-27T09:40:31.670321Z",
     "iopub.status.busy": "2024-08-27T09:40:31.669656Z",
     "iopub.status.idle": "2024-08-27T09:40:31.754341Z",
     "shell.execute_reply": "2024-08-27T09:40:31.753391Z"
    },
    "papermill": {
     "duration": 0.097713,
     "end_time": "2024-08-27T09:40:31.756439",
     "exception": false,
     "start_time": "2024-08-27T09:40:31.658726",
     "status": "completed"
    },
    "tags": []
   },
   "outputs": [
    {
     "name": "stdout",
     "output_type": "stream",
     "text": [
      "Using device: cuda\n"
     ]
    }
   ],
   "source": [
    "# Optional: Check if GPU is available\n",
    "device = torch.device(\"cuda\" if torch.cuda.is_available() else \"cpu\")\n",
    "print(f\"Using device: {device}\")"
   ]
  },
  {
   "cell_type": "code",
   "execution_count": 4,
   "id": "41cc880d",
   "metadata": {
    "execution": {
     "iopub.execute_input": "2024-08-27T09:40:31.778178Z",
     "iopub.status.busy": "2024-08-27T09:40:31.777888Z",
     "iopub.status.idle": "2024-08-27T09:40:36.461855Z",
     "shell.execute_reply": "2024-08-27T09:40:36.460737Z"
    },
    "papermill": {
     "duration": 4.697261,
     "end_time": "2024-08-27T09:40:36.463970",
     "exception": false,
     "start_time": "2024-08-27T09:40:31.766709",
     "status": "completed"
    },
    "tags": []
   },
   "outputs": [
    {
     "name": "stdout",
     "output_type": "stream",
     "text": [
      "Loaded 200000 sentences from the dataset.\n"
     ]
    }
   ],
   "source": [
    "# load ner data file. And split text and labels\n",
    "def load_ner_datasets(file_path):\n",
    "    \"\"\"\n",
    "    Load and parse the NER dataset from the specified file.\n",
    "    \"\"\"\n",
    "    sentences = []\n",
    "    sentence = {\"text\": [], 'tags': []}\n",
    "    \n",
    "    try:\n",
    "        with open(file_path, 'r') as f:\n",
    "            for line in f:\n",
    "                if line.strip() == \"\":\n",
    "                    if sentence['text']:\n",
    "                        sentences.append(sentence)\n",
    "                    sentence = {\"text\": [], 'tags': []}\n",
    "                else:\n",
    "                    token, label = line.split(\":-\")\n",
    "                    sentence['text'].append(token)\n",
    "                    sentence['tags'].append(label.upper())\n",
    "        return sentences\n",
    "    except Exception as e:\n",
    "        print(f\"An error occurred while loading the dataset: {e}\")\n",
    "        return []\n",
    "    \n",
    "file_path = '/kaggle/input/ner-v7/ner_dataset.txt'\n",
    "ner_sentences = load_ner_datasets(file_path)\n",
    "print(f\"Loaded {len(ner_sentences)} sentences from the dataset.\")\n"
   ]
  },
  {
   "cell_type": "code",
   "execution_count": 5,
   "id": "d9a45853",
   "metadata": {
    "execution": {
     "iopub.execute_input": "2024-08-27T09:40:36.485723Z",
     "iopub.status.busy": "2024-08-27T09:40:36.485394Z",
     "iopub.status.idle": "2024-08-27T09:40:36.492598Z",
     "shell.execute_reply": "2024-08-27T09:40:36.491809Z"
    },
    "papermill": {
     "duration": 0.020134,
     "end_time": "2024-08-27T09:40:36.494447",
     "exception": false,
     "start_time": "2024-08-27T09:40:36.474313",
     "status": "completed"
    },
    "tags": []
   },
   "outputs": [
    {
     "data": {
      "text/plain": [
       "{'text': ['07-Aug-24',\n",
       "  '00:38:11',\n",
       "  'credited to',\n",
       "  'Allahabad Bank',\n",
       "  '3352.85',\n",
       "  '71647.15',\n",
       "  'XX7317',\n",
       "  'Rs',\n",
       "  'on',\n",
       "  'at',\n",
       "  'Flipkart.',\n",
       "  'Avl',\n",
       "  'Lmt:',\n",
       "  'Contact:',\n",
       "  '+917088412672'],\n",
       " 'tags': [' DATE\\n',\n",
       "  ' TIME\\n',\n",
       "  ' TRANSACTION_TYPE\\n',\n",
       "  ' BANK\\n',\n",
       "  ' MONEY\\n',\n",
       "  ' MONEY\\n',\n",
       "  ' ACCOUNT_NUMBER\\n',\n",
       "  ' OTHER\\n',\n",
       "  ' OTHER\\n',\n",
       "  ' OTHER\\n',\n",
       "  ' OTHER\\n',\n",
       "  ' OTHER\\n',\n",
       "  ' OTHER\\n',\n",
       "  ' OTHER\\n',\n",
       "  ' OTHER\\n']}"
      ]
     },
     "execution_count": 5,
     "metadata": {},
     "output_type": "execute_result"
    }
   ],
   "source": [
    "ner_sentences[0]"
   ]
  },
  {
   "cell_type": "code",
   "execution_count": 6,
   "id": "85018777",
   "metadata": {
    "execution": {
     "iopub.execute_input": "2024-08-27T09:40:36.516134Z",
     "iopub.status.busy": "2024-08-27T09:40:36.515859Z",
     "iopub.status.idle": "2024-08-27T09:40:37.811065Z",
     "shell.execute_reply": "2024-08-27T09:40:37.809892Z"
    },
    "papermill": {
     "duration": 1.308486,
     "end_time": "2024-08-27T09:40:37.813199",
     "exception": false,
     "start_time": "2024-08-27T09:40:36.504713",
     "status": "completed"
    },
    "tags": []
   },
   "outputs": [
    {
     "name": "stdout",
     "output_type": "stream",
     "text": [
      "Dataset contains 200000 rows.\n",
      "Training set size: 180000\n",
      "Test set size: 20000\n"
     ]
    }
   ],
   "source": [
    "hf_dataset = Dataset.from_pandas(pd.DataFrame(ner_sentences))\n",
    "print(f\"Dataset contains {hf_dataset.num_rows} rows.\")\n",
    "\n",
    "# Split the dataset into training and test sets\n",
    "train_test_split_result = hf_dataset.train_test_split(test_size=0.1)\n",
    "train_dataset = train_test_split_result['train']\n",
    "test_dataset = train_test_split_result['test']\n",
    "\n",
    "print(f\"Training set size: {train_dataset.num_rows}\")\n",
    "print(f\"Test set size: {test_dataset.num_rows}\")"
   ]
  },
  {
   "cell_type": "code",
   "execution_count": 7,
   "id": "670e76e3",
   "metadata": {
    "execution": {
     "iopub.execute_input": "2024-08-27T09:40:37.836106Z",
     "iopub.status.busy": "2024-08-27T09:40:37.835821Z",
     "iopub.status.idle": "2024-08-27T09:40:38.580094Z",
     "shell.execute_reply": "2024-08-27T09:40:38.579092Z"
    },
    "papermill": {
     "duration": 0.757722,
     "end_time": "2024-08-27T09:40:38.582360",
     "exception": false,
     "start_time": "2024-08-27T09:40:37.824638",
     "status": "completed"
    },
    "tags": []
   },
   "outputs": [
    {
     "data": {
      "application/vnd.jupyter.widget-view+json": {
       "model_id": "dee47089bf72455dbe5a48d8c88d3b85",
       "version_major": 2,
       "version_minor": 0
      },
      "text/plain": [
       "tokenizer_config.json:   0%|          | 0.00/49.0 [00:00<?, ?B/s]"
      ]
     },
     "metadata": {},
     "output_type": "display_data"
    },
    {
     "data": {
      "application/vnd.jupyter.widget-view+json": {
       "model_id": "7fe47ed266d042608ed2bfb6f4d1c9d7",
       "version_major": 2,
       "version_minor": 0
      },
      "text/plain": [
       "vocab.txt:   0%|          | 0.00/213k [00:00<?, ?B/s]"
      ]
     },
     "metadata": {},
     "output_type": "display_data"
    },
    {
     "data": {
      "application/vnd.jupyter.widget-view+json": {
       "model_id": "c7676d53f7c14700a711d998dd332d76",
       "version_major": 2,
       "version_minor": 0
      },
      "text/plain": [
       "tokenizer.json:   0%|          | 0.00/436k [00:00<?, ?B/s]"
      ]
     },
     "metadata": {},
     "output_type": "display_data"
    },
    {
     "name": "stderr",
     "output_type": "stream",
     "text": [
      "/opt/conda/lib/python3.10/site-packages/huggingface_hub/file_download.py:1132: FutureWarning: `resume_download` is deprecated and will be removed in version 1.0.0. Downloads always resume when possible. If you want to force a new download, use `force_download=True`.\n",
      "  warnings.warn(\n"
     ]
    },
    {
     "data": {
      "application/vnd.jupyter.widget-view+json": {
       "model_id": "d5b1644f751844dbbedbe1a94b2b8ddb",
       "version_major": 2,
       "version_minor": 0
      },
      "text/plain": [
       "config.json:   0%|          | 0.00/570 [00:00<?, ?B/s]"
      ]
     },
     "metadata": {},
     "output_type": "display_data"
    },
    {
     "name": "stdout",
     "output_type": "stream",
     "text": [
      "Tokenizer bert-base-cased loaded.\n"
     ]
    }
   ],
   "source": [
    "tokenizer_name = 'bert-base-cased'\n",
    "tokenizer = BertTokenizerFast.from_pretrained(tokenizer_name)\n",
    "print(f\"Tokenizer {tokenizer_name} loaded.\")"
   ]
  },
  {
   "cell_type": "code",
   "execution_count": 8,
   "id": "ff909d85",
   "metadata": {
    "execution": {
     "iopub.execute_input": "2024-08-27T09:40:38.606086Z",
     "iopub.status.busy": "2024-08-27T09:40:38.605767Z",
     "iopub.status.idle": "2024-08-27T09:40:44.421904Z",
     "shell.execute_reply": "2024-08-27T09:40:44.420943Z"
    },
    "papermill": {
     "duration": 5.830604,
     "end_time": "2024-08-27T09:40:44.424207",
     "exception": false,
     "start_time": "2024-08-27T09:40:38.593603",
     "status": "completed"
    },
    "tags": []
   },
   "outputs": [
    {
     "data": {
      "text/plain": [
       "['18-Aug-24',\n",
       " '18:43:53',\n",
       " 'Spent on',\n",
       " 'Punjab & Sind Bank',\n",
       " '1576.77',\n",
       " '8423.23',\n",
       " 'XX4622',\n",
       " '₹',\n",
       " 'at',\n",
       " 'MakeMyTrip.',\n",
       " 'Avl',\n",
       " 'Lmt:']"
      ]
     },
     "execution_count": 8,
     "metadata": {},
     "output_type": "execute_result"
    }
   ],
   "source": [
    "train_dataset['text'][0]"
   ]
  },
  {
   "cell_type": "code",
   "execution_count": 9,
   "id": "2b287075",
   "metadata": {
    "execution": {
     "iopub.execute_input": "2024-08-27T09:40:44.448868Z",
     "iopub.status.busy": "2024-08-27T09:40:44.448197Z",
     "iopub.status.idle": "2024-08-27T09:40:50.258105Z",
     "shell.execute_reply": "2024-08-27T09:40:50.257255Z"
    },
    "papermill": {
     "duration": 5.824375,
     "end_time": "2024-08-27T09:40:50.260285",
     "exception": false,
     "start_time": "2024-08-27T09:40:44.435910",
     "status": "completed"
    },
    "tags": []
   },
   "outputs": [
    {
     "data": {
      "text/plain": [
       "['[CLS]',\n",
       " '18',\n",
       " '-',\n",
       " 'Aug',\n",
       " '-',\n",
       " '24',\n",
       " '18',\n",
       " ':',\n",
       " '43',\n",
       " ':',\n",
       " '53',\n",
       " 'S',\n",
       " '##pent',\n",
       " 'on',\n",
       " 'Punjab',\n",
       " '&',\n",
       " 'Sin',\n",
       " '##d',\n",
       " 'Bank',\n",
       " '157',\n",
       " '##6',\n",
       " '.',\n",
       " '77',\n",
       " '84',\n",
       " '##23',\n",
       " '.',\n",
       " '23',\n",
       " 'X',\n",
       " '##X',\n",
       " '##46',\n",
       " '##22',\n",
       " '₹',\n",
       " 'at',\n",
       " 'Make',\n",
       " '##M',\n",
       " '##y',\n",
       " '##T',\n",
       " '##rip',\n",
       " '.',\n",
       " 'A',\n",
       " '##v',\n",
       " '##l',\n",
       " 'L',\n",
       " '##m',\n",
       " '##t',\n",
       " ':',\n",
       " '[SEP]']"
      ]
     },
     "execution_count": 9,
     "metadata": {},
     "output_type": "execute_result"
    }
   ],
   "source": [
    "# Test tokenizer\n",
    "inputs = tokenizer(train_dataset[\"text\"][0],  truncation=True, is_split_into_words=True)\n",
    "inputs.tokens()"
   ]
  },
  {
   "cell_type": "code",
   "execution_count": 10,
   "id": "d974d665",
   "metadata": {
    "execution": {
     "iopub.execute_input": "2024-08-27T09:40:50.284925Z",
     "iopub.status.busy": "2024-08-27T09:40:50.284608Z",
     "iopub.status.idle": "2024-08-27T09:40:50.289156Z",
     "shell.execute_reply": "2024-08-27T09:40:50.288265Z"
    },
    "papermill": {
     "duration": 0.019423,
     "end_time": "2024-08-27T09:40:50.291473",
     "exception": false,
     "start_time": "2024-08-27T09:40:50.272050",
     "status": "completed"
    },
    "tags": []
   },
   "outputs": [
    {
     "name": "stdout",
     "output_type": "stream",
     "text": [
      "[None, 0, 0, 0, 0, 0, 1, 1, 1, 1, 1, 2, 2, 2, 3, 3, 3, 3, 3, 4, 4, 4, 4, 5, 5, 5, 5, 6, 6, 6, 6, 7, 8, 9, 9, 9, 9, 9, 9, 10, 10, 10, 11, 11, 11, 11, None]\n"
     ]
    }
   ],
   "source": [
    "word_ids = inputs.word_ids()\n",
    "\n",
    "print(word_ids)"
   ]
  },
  {
   "cell_type": "code",
   "execution_count": 11,
   "id": "bc5b7812",
   "metadata": {
    "execution": {
     "iopub.execute_input": "2024-08-27T09:40:50.316269Z",
     "iopub.status.busy": "2024-08-27T09:40:50.315958Z",
     "iopub.status.idle": "2024-08-27T09:40:55.677957Z",
     "shell.execute_reply": "2024-08-27T09:40:55.677118Z"
    },
    "papermill": {
     "duration": 5.377374,
     "end_time": "2024-08-27T09:40:55.680383",
     "exception": false,
     "start_time": "2024-08-27T09:40:50.303009",
     "status": "completed"
    },
    "tags": []
   },
   "outputs": [],
   "source": [
    "unique_labels = set(label for sentence in hf_dataset[\"tags\"] for label in sentence)\n",
    "label2id = {label: idx for idx, label in enumerate(sorted(unique_labels))}\n",
    "id2label = {idx: label for label, idx in label2id.items()}\n",
    "\n",
    "def tokenize_and_align_labels(examples):\n",
    "    tokenized_inputs = tokenizer(\n",
    "        examples[\"text\"], \n",
    "#         padding=True, \n",
    "        truncation=True, \n",
    "        is_split_into_words=True\n",
    "    )\n",
    "    labels = []\n",
    "    for i, label in enumerate(examples[\"tags\"]):\n",
    "        word_ids = tokenized_inputs.word_ids(batch_index=i)\n",
    "        previous_word_idx = None\n",
    "        label_ids = []\n",
    "        \n",
    "        for word_idx in word_ids:\n",
    "            if word_idx is None:\n",
    "                # Append -100 for special tokens (like [CLS], [SEP]) or padding\n",
    "                label_ids.append(-100)\n",
    "            elif word_idx != previous_word_idx:\n",
    "                # Assign the label corresponding to the word index\n",
    "                label_ids.append(label2id[label[word_idx]])\n",
    "            else:\n",
    "                # For subword tokens, repeat the label of the first subword token\n",
    "                label_ids.append(label2id[label[word_idx]])\n",
    "                    \n",
    "            previous_word_idx = word_idx\n",
    "        \n",
    "        labels.append(label_ids)\n",
    "    \n",
    "    tokenized_inputs[\"labels\"] = labels\n",
    "    return tokenized_inputs"
   ]
  },
  {
   "cell_type": "code",
   "execution_count": 12,
   "id": "a8e23002",
   "metadata": {
    "execution": {
     "iopub.execute_input": "2024-08-27T09:40:55.706829Z",
     "iopub.status.busy": "2024-08-27T09:40:55.706025Z",
     "iopub.status.idle": "2024-08-27T09:41:35.098192Z",
     "shell.execute_reply": "2024-08-27T09:41:35.097264Z"
    },
    "papermill": {
     "duration": 39.407348,
     "end_time": "2024-08-27T09:41:35.100065",
     "exception": false,
     "start_time": "2024-08-27T09:40:55.692717",
     "status": "completed"
    },
    "tags": []
   },
   "outputs": [
    {
     "data": {
      "application/vnd.jupyter.widget-view+json": {
       "model_id": "55ef928701664541b94a8292e3ab26fd",
       "version_major": 2,
       "version_minor": 0
      },
      "text/plain": [
       "Map:   0%|          | 0/180000 [00:00<?, ? examples/s]"
      ]
     },
     "metadata": {},
     "output_type": "display_data"
    },
    {
     "data": {
      "application/vnd.jupyter.widget-view+json": {
       "model_id": "ebf7dbe1a4b4452b93a82541c425dad4",
       "version_major": 2,
       "version_minor": 0
      },
      "text/plain": [
       "Map:   0%|          | 0/20000 [00:00<?, ? examples/s]"
      ]
     },
     "metadata": {},
     "output_type": "display_data"
    }
   ],
   "source": [
    "tokenized_train_dataset = train_dataset.map(tokenize_and_align_labels, batched=True, remove_columns=train_dataset.column_names)\n",
    "tokenized_test_dataset = test_dataset.map(tokenize_and_align_labels, batched=True, remove_columns=test_dataset.column_names)"
   ]
  },
  {
   "cell_type": "code",
   "execution_count": 13,
   "id": "6a5bc199",
   "metadata": {
    "execution": {
     "iopub.execute_input": "2024-08-27T09:41:35.125542Z",
     "iopub.status.busy": "2024-08-27T09:41:35.125205Z",
     "iopub.status.idle": "2024-08-27T09:41:35.131352Z",
     "shell.execute_reply": "2024-08-27T09:41:35.130504Z"
    },
    "papermill": {
     "duration": 0.020988,
     "end_time": "2024-08-27T09:41:35.133166",
     "exception": false,
     "start_time": "2024-08-27T09:41:35.112178",
     "status": "completed"
    },
    "tags": []
   },
   "outputs": [
    {
     "data": {
      "text/plain": [
       "DatasetDict({\n",
       "    train: Dataset({\n",
       "        features: ['input_ids', 'token_type_ids', 'attention_mask', 'labels'],\n",
       "        num_rows: 180000\n",
       "    })\n",
       "    test: Dataset({\n",
       "        features: ['input_ids', 'token_type_ids', 'attention_mask', 'labels'],\n",
       "        num_rows: 20000\n",
       "    })\n",
       "})"
      ]
     },
     "execution_count": 13,
     "metadata": {},
     "output_type": "execute_result"
    }
   ],
   "source": [
    "final_dataset = DatasetDict({\n",
    "    'train': tokenized_train_dataset,\n",
    "    'test': tokenized_test_dataset\n",
    "})\n",
    "final_dataset"
   ]
  },
  {
   "cell_type": "code",
   "execution_count": 14,
   "id": "d769ae0f",
   "metadata": {
    "execution": {
     "iopub.execute_input": "2024-08-27T09:41:35.158435Z",
     "iopub.status.busy": "2024-08-27T09:41:35.158117Z",
     "iopub.status.idle": "2024-08-27T09:41:35.161793Z",
     "shell.execute_reply": "2024-08-27T09:41:35.160959Z"
    },
    "papermill": {
     "duration": 0.018451,
     "end_time": "2024-08-27T09:41:35.163585",
     "exception": false,
     "start_time": "2024-08-27T09:41:35.145134",
     "status": "completed"
    },
    "tags": []
   },
   "outputs": [],
   "source": [
    "# for example in final_dataset[\"train\"]:\n",
    "#     assert len(example[\"input_ids\"]) == len(example[\"labels\"]), \"Mismatch between input and label lengths\""
   ]
  },
  {
   "cell_type": "code",
   "execution_count": 15,
   "id": "dd66b10b",
   "metadata": {
    "execution": {
     "iopub.execute_input": "2024-08-27T09:41:35.189257Z",
     "iopub.status.busy": "2024-08-27T09:41:35.188940Z",
     "iopub.status.idle": "2024-08-27T09:41:35.198771Z",
     "shell.execute_reply": "2024-08-27T09:41:35.197965Z"
    },
    "papermill": {
     "duration": 0.024766,
     "end_time": "2024-08-27T09:41:35.200563",
     "exception": false,
     "start_time": "2024-08-27T09:41:35.175797",
     "status": "completed"
    },
    "tags": []
   },
   "outputs": [
    {
     "data": {
      "text/plain": [
       "DatasetDict({\n",
       "    train: Dataset({\n",
       "        features: ['input_ids', 'attention_mask', 'labels'],\n",
       "        num_rows: 180000\n",
       "    })\n",
       "    test: Dataset({\n",
       "        features: ['input_ids', 'attention_mask', 'labels'],\n",
       "        num_rows: 20000\n",
       "    })\n",
       "})"
      ]
     },
     "execution_count": 15,
     "metadata": {},
     "output_type": "execute_result"
    }
   ],
   "source": [
    "final_dataset = final_dataset.select_columns(['input_ids', 'attention_mask', 'labels'])\n",
    "final_dataset"
   ]
  },
  {
   "cell_type": "code",
   "execution_count": 16,
   "id": "beb07dd9",
   "metadata": {
    "execution": {
     "iopub.execute_input": "2024-08-27T09:41:35.226158Z",
     "iopub.status.busy": "2024-08-27T09:41:35.225876Z",
     "iopub.status.idle": "2024-08-27T09:41:35.232230Z",
     "shell.execute_reply": "2024-08-27T09:41:35.231466Z"
    },
    "papermill": {
     "duration": 0.021088,
     "end_time": "2024-08-27T09:41:35.234054",
     "exception": false,
     "start_time": "2024-08-27T09:41:35.212966",
     "status": "completed"
    },
    "tags": []
   },
   "outputs": [
    {
     "data": {
      "text/plain": [
       "dict_keys(['input_ids', 'attention_mask', 'labels'])"
      ]
     },
     "execution_count": 16,
     "metadata": {},
     "output_type": "execute_result"
    }
   ],
   "source": [
    "batch_pre_collation = [ final_dataset[\"train\"][i] for i in range(1) ]\n",
    "batch_pre_collation[0].keys()"
   ]
  },
  {
   "cell_type": "code",
   "execution_count": 17,
   "id": "cb8233ef",
   "metadata": {
    "execution": {
     "iopub.execute_input": "2024-08-27T09:41:35.260925Z",
     "iopub.status.busy": "2024-08-27T09:41:35.260629Z",
     "iopub.status.idle": "2024-08-27T09:41:35.266982Z",
     "shell.execute_reply": "2024-08-27T09:41:35.266151Z"
    },
    "papermill": {
     "duration": 0.023105,
     "end_time": "2024-08-27T09:41:35.269282",
     "exception": false,
     "start_time": "2024-08-27T09:41:35.246177",
     "status": "completed"
    },
    "tags": []
   },
   "outputs": [
    {
     "name": "stdout",
     "output_type": "stream",
     "text": [
      "{'input_ids': [101, 1407, 118, 16892, 118, 1572, 1407, 131, 3887, 131, 4389, 156, 22083, 1113, 8907, 111, 14009, 1181, 2950, 18611, 1545, 119, 5581, 5731, 22737, 119, 1695, 161, 3190, 23435, 20581, 838, 1120, 7102, 2107, 1183, 1942, 16669, 119, 138, 1964, 1233, 149, 1306, 1204, 131, 102], 'attention_mask': [1, 1, 1, 1, 1, 1, 1, 1, 1, 1, 1, 1, 1, 1, 1, 1, 1, 1, 1, 1, 1, 1, 1, 1, 1, 1, 1, 1, 1, 1, 1, 1, 1, 1, 1, 1, 1, 1, 1, 1, 1, 1, 1, 1, 1, 1, 1], 'labels': [-100, 2, 2, 2, 2, 2, 5, 5, 5, 5, 5, 6, 6, 6, 1, 1, 1, 1, 1, 3, 3, 3, 3, 3, 3, 3, 3, 0, 0, 0, 0, 4, 4, 4, 4, 4, 4, 4, 4, 4, 4, 4, 4, 4, 4, 4, -100]}\n",
      ">>> Length: 47 47\n",
      "[CLS]~~~~~~~~~~~~~~~ -100\n",
      "18~~~~~~~~~~~~~~~~~~ 2\n",
      "-~~~~~~~~~~~~~~~~~~~ 2\n",
      "Aug~~~~~~~~~~~~~~~~~ 2\n",
      "-~~~~~~~~~~~~~~~~~~~ 2\n",
      "24~~~~~~~~~~~~~~~~~~ 2\n",
      "18~~~~~~~~~~~~~~~~~~ 5\n",
      ":~~~~~~~~~~~~~~~~~~~ 5\n",
      "43~~~~~~~~~~~~~~~~~~ 5\n",
      ":~~~~~~~~~~~~~~~~~~~ 5\n",
      "53~~~~~~~~~~~~~~~~~~ 5\n",
      "S~~~~~~~~~~~~~~~~~~~ 6\n",
      "##pent~~~~~~~~~~~~~~ 6\n",
      "on~~~~~~~~~~~~~~~~~~ 6\n",
      "Punjab~~~~~~~~~~~~~~ 1\n",
      "&~~~~~~~~~~~~~~~~~~~ 1\n",
      "Sin~~~~~~~~~~~~~~~~~ 1\n",
      "##d~~~~~~~~~~~~~~~~~ 1\n",
      "Bank~~~~~~~~~~~~~~~~ 1\n",
      "157~~~~~~~~~~~~~~~~~ 3\n",
      "##6~~~~~~~~~~~~~~~~~ 3\n",
      ".~~~~~~~~~~~~~~~~~~~ 3\n",
      "77~~~~~~~~~~~~~~~~~~ 3\n",
      "84~~~~~~~~~~~~~~~~~~ 3\n",
      "##23~~~~~~~~~~~~~~~~ 3\n",
      ".~~~~~~~~~~~~~~~~~~~ 3\n",
      "23~~~~~~~~~~~~~~~~~~ 3\n",
      "X~~~~~~~~~~~~~~~~~~~ 0\n",
      "##X~~~~~~~~~~~~~~~~~ 0\n",
      "##46~~~~~~~~~~~~~~~~ 0\n",
      "##22~~~~~~~~~~~~~~~~ 0\n",
      "₹~~~~~~~~~~~~~~~~~~~ 4\n",
      "at~~~~~~~~~~~~~~~~~~ 4\n",
      "Make~~~~~~~~~~~~~~~~ 4\n",
      "##M~~~~~~~~~~~~~~~~~ 4\n",
      "##y~~~~~~~~~~~~~~~~~ 4\n",
      "##T~~~~~~~~~~~~~~~~~ 4\n",
      "##rip~~~~~~~~~~~~~~~ 4\n",
      ".~~~~~~~~~~~~~~~~~~~ 4\n",
      "A~~~~~~~~~~~~~~~~~~~ 4\n",
      "##v~~~~~~~~~~~~~~~~~ 4\n",
      "##l~~~~~~~~~~~~~~~~~ 4\n",
      "L~~~~~~~~~~~~~~~~~~~ 4\n",
      "##m~~~~~~~~~~~~~~~~~ 4\n",
      "##t~~~~~~~~~~~~~~~~~ 4\n",
      ":~~~~~~~~~~~~~~~~~~~ 4\n",
      "[SEP]~~~~~~~~~~~~~~~ -100\n"
     ]
    }
   ],
   "source": [
    "for example in batch_pre_collation:\n",
    "    print(example)\n",
    "    print(f\">>> Length: {len(example['input_ids'])} {len(example['labels'])}\")\n",
    "    for token, label in zip(tokenizer.convert_ids_to_tokens(example[\"input_ids\"]),example[\"labels\"]): \n",
    "        print(f\"{token:~<20} {label}\") "
   ]
  },
  {
   "cell_type": "code",
   "execution_count": 18,
   "id": "2781cc56",
   "metadata": {
    "execution": {
     "iopub.execute_input": "2024-08-27T09:41:35.295571Z",
     "iopub.status.busy": "2024-08-27T09:41:35.295261Z",
     "iopub.status.idle": "2024-08-27T09:41:35.300583Z",
     "shell.execute_reply": "2024-08-27T09:41:35.299785Z"
    },
    "papermill": {
     "duration": 0.020914,
     "end_time": "2024-08-27T09:41:35.302448",
     "exception": false,
     "start_time": "2024-08-27T09:41:35.281534",
     "status": "completed"
    },
    "tags": []
   },
   "outputs": [
    {
     "data": {
      "text/plain": [
       "[' TIME\\n',\n",
       " ' MONEY\\n',\n",
       " ' BANK\\n',\n",
       " ' ACCOUNT_NUMBER\\n',\n",
       " ' DATE\\n',\n",
       " ' TRANSACTION_TYPE\\n',\n",
       " ' OTHER\\n']"
      ]
     },
     "execution_count": 18,
     "metadata": {},
     "output_type": "execute_result"
    }
   ],
   "source": [
    "list(unique_labels)"
   ]
  },
  {
   "cell_type": "code",
   "execution_count": 19,
   "id": "f23f1764",
   "metadata": {
    "execution": {
     "iopub.execute_input": "2024-08-27T09:41:35.328481Z",
     "iopub.status.busy": "2024-08-27T09:41:35.328199Z",
     "iopub.status.idle": "2024-08-27T09:41:35.333373Z",
     "shell.execute_reply": "2024-08-27T09:41:35.332626Z"
    },
    "papermill": {
     "duration": 0.020366,
     "end_time": "2024-08-27T09:41:35.335224",
     "exception": false,
     "start_time": "2024-08-27T09:41:35.314858",
     "status": "completed"
    },
    "tags": []
   },
   "outputs": [
    {
     "data": {
      "text/plain": [
       "{0: ' ACCOUNT_NUMBER\\n',\n",
       " 1: ' BANK\\n',\n",
       " 2: ' DATE\\n',\n",
       " 3: ' MONEY\\n',\n",
       " 4: ' OTHER\\n',\n",
       " 5: ' TIME\\n',\n",
       " 6: ' TRANSACTION_TYPE\\n'}"
      ]
     },
     "execution_count": 19,
     "metadata": {},
     "output_type": "execute_result"
    }
   ],
   "source": [
    "id2label"
   ]
  },
  {
   "cell_type": "code",
   "execution_count": 20,
   "id": "1676caa4",
   "metadata": {
    "execution": {
     "iopub.execute_input": "2024-08-27T09:41:35.361350Z",
     "iopub.status.busy": "2024-08-27T09:41:35.361065Z",
     "iopub.status.idle": "2024-08-27T09:41:35.366938Z",
     "shell.execute_reply": "2024-08-27T09:41:35.366053Z"
    },
    "papermill": {
     "duration": 0.021141,
     "end_time": "2024-08-27T09:41:35.368805",
     "exception": false,
     "start_time": "2024-08-27T09:41:35.347664",
     "status": "completed"
    },
    "tags": []
   },
   "outputs": [
    {
     "data": {
      "text/plain": [
       "{' ACCOUNT_NUMBER\\n': 0,\n",
       " ' BANK\\n': 1,\n",
       " ' DATE\\n': 2,\n",
       " ' MONEY\\n': 3,\n",
       " ' OTHER\\n': 4,\n",
       " ' TIME\\n': 5,\n",
       " ' TRANSACTION_TYPE\\n': 6}"
      ]
     },
     "execution_count": 20,
     "metadata": {},
     "output_type": "execute_result"
    }
   ],
   "source": [
    "label2id"
   ]
  },
  {
   "cell_type": "code",
   "execution_count": 21,
   "id": "a59e099f",
   "metadata": {
    "execution": {
     "iopub.execute_input": "2024-08-27T09:41:35.395597Z",
     "iopub.status.busy": "2024-08-27T09:41:35.395269Z",
     "iopub.status.idle": "2024-08-27T09:41:38.071372Z",
     "shell.execute_reply": "2024-08-27T09:41:38.070649Z"
    },
    "papermill": {
     "duration": 2.691705,
     "end_time": "2024-08-27T09:41:38.073480",
     "exception": false,
     "start_time": "2024-08-27T09:41:35.381775",
     "status": "completed"
    },
    "tags": []
   },
   "outputs": [
    {
     "data": {
      "application/vnd.jupyter.widget-view+json": {
       "model_id": "0ba55ee174094511954210d3c9fa8f77",
       "version_major": 2,
       "version_minor": 0
      },
      "text/plain": [
       "model.safetensors:   0%|          | 0.00/436M [00:00<?, ?B/s]"
      ]
     },
     "metadata": {},
     "output_type": "display_data"
    },
    {
     "name": "stderr",
     "output_type": "stream",
     "text": [
      "Some weights of BertForTokenClassification were not initialized from the model checkpoint at bert-base-cased and are newly initialized: ['classifier.bias', 'classifier.weight']\n",
      "You should probably TRAIN this model on a down-stream task to be able to use it for predictions and inference.\n"
     ]
    }
   ],
   "source": [
    "from transformers import AutoModelForTokenClassification, TrainingArguments, Trainer\n",
    "\n",
    "model = AutoModelForTokenClassification.from_pretrained(tokenizer_name, num_labels=len(list(unique_labels))\n",
    "                                                        , id2label=id2label, label2id=label2id)"
   ]
  },
  {
   "cell_type": "code",
   "execution_count": 22,
   "id": "22f18f1e",
   "metadata": {
    "execution": {
     "iopub.execute_input": "2024-08-27T09:41:38.100921Z",
     "iopub.status.busy": "2024-08-27T09:41:38.100632Z",
     "iopub.status.idle": "2024-08-27T09:41:38.105171Z",
     "shell.execute_reply": "2024-08-27T09:41:38.104302Z"
    },
    "papermill": {
     "duration": 0.020423,
     "end_time": "2024-08-27T09:41:38.107048",
     "exception": false,
     "start_time": "2024-08-27T09:41:38.086625",
     "status": "completed"
    },
    "tags": []
   },
   "outputs": [],
   "source": [
    "import os\n",
    "# os.environ['CUDA_LAUNCH_BLOCKING'] = '1'\n",
    "os.environ['CUDA_LAUNCH_BLOCKING']=\"0\"\n",
    "os.environ['TORCH_USE_CUDA_DSA'] = \"0\""
   ]
  },
  {
   "cell_type": "code",
   "execution_count": 23,
   "id": "6e9d112a",
   "metadata": {
    "execution": {
     "iopub.execute_input": "2024-08-27T09:41:38.134020Z",
     "iopub.status.busy": "2024-08-27T09:41:38.133707Z",
     "iopub.status.idle": "2024-08-27T09:41:38.137823Z",
     "shell.execute_reply": "2024-08-27T09:41:38.136956Z"
    },
    "papermill": {
     "duration": 0.019767,
     "end_time": "2024-08-27T09:41:38.139664",
     "exception": false,
     "start_time": "2024-08-27T09:41:38.119897",
     "status": "completed"
    },
    "tags": []
   },
   "outputs": [],
   "source": [
    "os.environ['WANDB_DISABLED'] = 'true'"
   ]
  },
  {
   "cell_type": "code",
   "execution_count": 24,
   "id": "cba87749",
   "metadata": {
    "execution": {
     "iopub.execute_input": "2024-08-27T09:41:38.166666Z",
     "iopub.status.busy": "2024-08-27T09:41:38.166359Z",
     "iopub.status.idle": "2024-08-27T09:41:38.170410Z",
     "shell.execute_reply": "2024-08-27T09:41:38.169563Z"
    },
    "papermill": {
     "duration": 0.020069,
     "end_time": "2024-08-27T09:41:38.172652",
     "exception": false,
     "start_time": "2024-08-27T09:41:38.152583",
     "status": "completed"
    },
    "tags": []
   },
   "outputs": [],
   "source": [
    "import warnings\n",
    "warnings.filterwarnings('ignore')"
   ]
  },
  {
   "cell_type": "code",
   "execution_count": 25,
   "id": "4229bee9",
   "metadata": {
    "execution": {
     "iopub.execute_input": "2024-08-27T09:41:38.199964Z",
     "iopub.status.busy": "2024-08-27T09:41:38.199588Z",
     "iopub.status.idle": "2024-08-27T09:41:38.555690Z",
     "shell.execute_reply": "2024-08-27T09:41:38.554630Z"
    },
    "papermill": {
     "duration": 0.372208,
     "end_time": "2024-08-27T09:41:38.557942",
     "exception": false,
     "start_time": "2024-08-27T09:41:38.185734",
     "status": "completed"
    },
    "tags": []
   },
   "outputs": [
    {
     "name": "stderr",
     "output_type": "stream",
     "text": [
      "Using the `WANDB_DISABLED` environment variable is deprecated and will be removed in v5. Use the --report_to flag to control the integrations used for logging result (for instance --report_to none).\n"
     ]
    },
    {
     "name": "stdout",
     "output_type": "stream",
     "text": [
      "Trainer initialized.\n"
     ]
    }
   ],
   "source": [
    "training_args = TrainingArguments(\n",
    "    output_dir='./results',\n",
    "    evaluation_strategy=\"epoch\",\n",
    "    learning_rate=2e-5,\n",
    "    per_device_train_batch_size=16,\n",
    "    per_device_eval_batch_size=16,\n",
    "    num_train_epochs=3,\n",
    "    weight_decay=0.01,\n",
    "    logging_dir='./logs',\n",
    "    logging_steps=10,\n",
    "    save_steps=500,\n",
    "    save_total_limit=2,\n",
    ")\n",
    "\n",
    "trainer = Trainer(\n",
    "    model=model,\n",
    "    args=training_args,\n",
    "    train_dataset=final_dataset['train'],\n",
    "    eval_dataset=final_dataset['test'],\n",
    "    tokenizer=tokenizer,\n",
    "    data_collator=DataCollatorForTokenClassification(tokenizer)\n",
    ")\n",
    "print(\"Trainer initialized.\")"
   ]
  },
  {
   "cell_type": "code",
   "execution_count": 26,
   "id": "7bcdddee",
   "metadata": {
    "execution": {
     "iopub.execute_input": "2024-08-27T09:41:38.585835Z",
     "iopub.status.busy": "2024-08-27T09:41:38.585483Z",
     "iopub.status.idle": "2024-08-27T11:08:19.520631Z",
     "shell.execute_reply": "2024-08-27T11:08:19.519753Z"
    },
    "papermill": {
     "duration": 5200.95115,
     "end_time": "2024-08-27T11:08:19.522493",
     "exception": false,
     "start_time": "2024-08-27T09:41:38.571343",
     "status": "completed"
    },
    "tags": []
   },
   "outputs": [
    {
     "name": "stdout",
     "output_type": "stream",
     "text": [
      "start training model\n"
     ]
    },
    {
     "data": {
      "text/html": [
       "\n",
       "    <div>\n",
       "      \n",
       "      <progress value='16875' max='16875' style='width:300px; height:20px; vertical-align: middle;'></progress>\n",
       "      [16875/16875 1:26:38, Epoch 3/3]\n",
       "    </div>\n",
       "    <table border=\"1\" class=\"dataframe\">\n",
       "  <thead>\n",
       " <tr style=\"text-align: left;\">\n",
       "      <th>Epoch</th>\n",
       "      <th>Training Loss</th>\n",
       "      <th>Validation Loss</th>\n",
       "    </tr>\n",
       "  </thead>\n",
       "  <tbody>\n",
       "    <tr>\n",
       "      <td>1</td>\n",
       "      <td>0.000000</td>\n",
       "      <td>0.000005</td>\n",
       "    </tr>\n",
       "    <tr>\n",
       "      <td>2</td>\n",
       "      <td>0.000000</td>\n",
       "      <td>0.000001</td>\n",
       "    </tr>\n",
       "    <tr>\n",
       "      <td>3</td>\n",
       "      <td>0.000000</td>\n",
       "      <td>0.000000</td>\n",
       "    </tr>\n",
       "  </tbody>\n",
       "</table><p>"
      ],
      "text/plain": [
       "<IPython.core.display.HTML object>"
      ]
     },
     "metadata": {},
     "output_type": "display_data"
    },
    {
     "data": {
      "text/plain": [
       "TrainOutput(global_step=16875, training_loss=0.0009498797742536462, metrics={'train_runtime': 5200.2888, 'train_samples_per_second': 103.84, 'train_steps_per_second': 3.245, 'total_flos': 1.6915646868912e+16, 'train_loss': 0.0009498797742536462, 'epoch': 3.0})"
      ]
     },
     "execution_count": 26,
     "metadata": {},
     "output_type": "execute_result"
    }
   ],
   "source": [
    "print('start training model')\n",
    "trainer.train()"
   ]
  },
  {
   "cell_type": "code",
   "execution_count": 27,
   "id": "c194bdd8",
   "metadata": {
    "execution": {
     "iopub.execute_input": "2024-08-27T11:08:19.551801Z",
     "iopub.status.busy": "2024-08-27T11:08:19.551506Z",
     "iopub.status.idle": "2024-08-27T11:08:20.359187Z",
     "shell.execute_reply": "2024-08-27T11:08:20.358297Z"
    },
    "papermill": {
     "duration": 0.82444,
     "end_time": "2024-08-27T11:08:20.361248",
     "exception": false,
     "start_time": "2024-08-27T11:08:19.536808",
     "status": "completed"
    },
    "tags": []
   },
   "outputs": [
    {
     "data": {
      "text/plain": [
       "('/kaggle/working/model/tokenizer_config.json',\n",
       " '/kaggle/working/model/special_tokens_map.json',\n",
       " '/kaggle/working/model/vocab.txt',\n",
       " '/kaggle/working/model/added_tokens.json',\n",
       " '/kaggle/working/model/tokenizer.json')"
      ]
     },
     "execution_count": 27,
     "metadata": {},
     "output_type": "execute_result"
    }
   ],
   "source": [
    "# Save the model and tokenizer\n",
    "output_dir = \"/kaggle/working/model\"\n",
    "\n",
    "# Create the directory if it does not exist\n",
    "import os\n",
    "if not os.path.exists(output_dir):\n",
    "    os.makedirs(output_dir)\n",
    "\n",
    "# Save the model\n",
    "model.save_pretrained(output_dir)\n",
    "\n",
    "# Save the tokenizer\n",
    "tokenizer.save_pretrained(output_dir)"
   ]
  },
  {
   "cell_type": "code",
   "execution_count": 28,
   "id": "f9f9d050",
   "metadata": {
    "execution": {
     "iopub.execute_input": "2024-08-27T11:08:20.390930Z",
     "iopub.status.busy": "2024-08-27T11:08:20.390609Z",
     "iopub.status.idle": "2024-08-27T11:08:20.648129Z",
     "shell.execute_reply": "2024-08-27T11:08:20.647338Z"
    },
    "papermill": {
     "duration": 0.274957,
     "end_time": "2024-08-27T11:08:20.650663",
     "exception": false,
     "start_time": "2024-08-27T11:08:20.375706",
     "status": "completed"
    },
    "tags": []
   },
   "outputs": [],
   "source": [
    "# Replace with the path to your fine-tuned model\n",
    "model_checkpoint = \"/kaggle/working/model\"\n",
    "\n",
    "# Load tokenizer and model\n",
    "tuned_tokenizer = AutoTokenizer.from_pretrained(model_checkpoint)\n",
    "tuned_model = AutoModelForTokenClassification.from_pretrained(model_checkpoint)"
   ]
  },
  {
   "cell_type": "code",
   "execution_count": 29,
   "id": "7b71b8c5",
   "metadata": {
    "execution": {
     "iopub.execute_input": "2024-08-27T11:08:20.679826Z",
     "iopub.status.busy": "2024-08-27T11:08:20.679481Z",
     "iopub.status.idle": "2024-08-27T11:08:20.798350Z",
     "shell.execute_reply": "2024-08-27T11:08:20.797462Z"
    },
    "papermill": {
     "duration": 0.135949,
     "end_time": "2024-08-27T11:08:20.800686",
     "exception": false,
     "start_time": "2024-08-27T11:08:20.664737",
     "status": "completed"
    },
    "tags": []
   },
   "outputs": [],
   "source": [
    "from transformers import pipeline\n",
    "\n",
    "ner_pipeline = pipeline(\n",
    "    'ner',\n",
    "    model=tuned_model,\n",
    "    tokenizer=tuned_tokenizer,\n",
    "    device=0 if torch.cuda.is_available() else -1 # use GPU if available\n",
    ")\n"
   ]
  },
  {
   "cell_type": "code",
   "execution_count": 30,
   "id": "f9bb2547",
   "metadata": {
    "execution": {
     "iopub.execute_input": "2024-08-27T11:08:20.830403Z",
     "iopub.status.busy": "2024-08-27T11:08:20.830048Z",
     "iopub.status.idle": "2024-08-27T11:08:20.834098Z",
     "shell.execute_reply": "2024-08-27T11:08:20.833291Z"
    },
    "papermill": {
     "duration": 0.020982,
     "end_time": "2024-08-27T11:08:20.835992",
     "exception": false,
     "start_time": "2024-08-27T11:08:20.815010",
     "status": "completed"
    },
    "tags": []
   },
   "outputs": [],
   "source": [
    "# Example text for prediction\n",
    "text = \"399.00 spent on ICICI Bank Card XX1000 on 16-Jun-22 at Amazon. Avl Lmt: INR 1,38,768.54.\""
   ]
  },
  {
   "cell_type": "code",
   "execution_count": 31,
   "id": "329d195a",
   "metadata": {
    "execution": {
     "iopub.execute_input": "2024-08-27T11:08:20.864761Z",
     "iopub.status.busy": "2024-08-27T11:08:20.864434Z",
     "iopub.status.idle": "2024-08-27T11:08:20.884331Z",
     "shell.execute_reply": "2024-08-27T11:08:20.883453Z"
    },
    "papermill": {
     "duration": 0.036732,
     "end_time": "2024-08-27T11:08:20.886421",
     "exception": false,
     "start_time": "2024-08-27T11:08:20.849689",
     "status": "completed"
    },
    "tags": []
   },
   "outputs": [
    {
     "name": "stdout",
     "output_type": "stream",
     "text": [
      "{'entity': ' MONEY\\n', 'score': 0.9999988, 'index': 1, 'word': '39', 'start': 0, 'end': 2}\n",
      "{'entity': ' MONEY\\n', 'score': 0.99999976, 'index': 2, 'word': '##9', 'start': 2, 'end': 3}\n",
      "{'entity': ' MONEY\\n', 'score': 0.99999976, 'index': 3, 'word': '.', 'start': 3, 'end': 4}\n",
      "{'entity': ' MONEY\\n', 'score': 0.9999987, 'index': 4, 'word': '00', 'start': 4, 'end': 6}\n",
      "{'entity': ' TRANSACTION_TYPE\\n', 'score': 0.99997497, 'index': 5, 'word': 'spent', 'start': 7, 'end': 12}\n",
      "{'entity': ' TRANSACTION_TYPE\\n', 'score': 0.99999726, 'index': 6, 'word': 'on', 'start': 13, 'end': 15}\n",
      "{'entity': ' BANK\\n', 'score': 0.99999917, 'index': 7, 'word': 'I', 'start': 16, 'end': 17}\n",
      "{'entity': ' BANK\\n', 'score': 0.9999993, 'index': 8, 'word': '##CI', 'start': 17, 'end': 19}\n",
      "{'entity': ' BANK\\n', 'score': 0.9999993, 'index': 9, 'word': '##CI', 'start': 19, 'end': 21}\n",
      "{'entity': ' BANK\\n', 'score': 0.9999993, 'index': 10, 'word': 'Bank', 'start': 22, 'end': 26}\n",
      "{'entity': ' BANK\\n', 'score': 0.9999988, 'index': 11, 'word': 'Card', 'start': 27, 'end': 31}\n",
      "{'entity': ' ACCOUNT_NUMBER\\n', 'score': 0.9999999, 'index': 12, 'word': 'X', 'start': 32, 'end': 33}\n",
      "{'entity': ' ACCOUNT_NUMBER\\n', 'score': 0.9999999, 'index': 13, 'word': '##X', 'start': 33, 'end': 34}\n",
      "{'entity': ' ACCOUNT_NUMBER\\n', 'score': 0.9999999, 'index': 14, 'word': '##100', 'start': 34, 'end': 37}\n",
      "{'entity': ' ACCOUNT_NUMBER\\n', 'score': 0.9999999, 'index': 15, 'word': '##0', 'start': 37, 'end': 38}\n",
      "{'entity': ' DATE\\n', 'score': 0.999979, 'index': 16, 'word': 'on', 'start': 39, 'end': 41}\n",
      "{'entity': ' DATE\\n', 'score': 0.9999993, 'index': 17, 'word': '16', 'start': 42, 'end': 44}\n",
      "{'entity': ' DATE\\n', 'score': 0.9999994, 'index': 18, 'word': '-', 'start': 44, 'end': 45}\n",
      "{'entity': ' DATE\\n', 'score': 0.9999994, 'index': 19, 'word': 'Jun', 'start': 45, 'end': 48}\n",
      "{'entity': ' DATE\\n', 'score': 0.9999994, 'index': 20, 'word': '-', 'start': 48, 'end': 49}\n",
      "{'entity': ' DATE\\n', 'score': 0.99999917, 'index': 21, 'word': '22', 'start': 49, 'end': 51}\n",
      "{'entity': ' OTHER\\n', 'score': 0.9999999, 'index': 22, 'word': 'at', 'start': 52, 'end': 54}\n",
      "{'entity': ' OTHER\\n', 'score': 0.9999999, 'index': 23, 'word': 'Amazon', 'start': 55, 'end': 61}\n",
      "{'entity': ' OTHER\\n', 'score': 0.9999999, 'index': 24, 'word': '.', 'start': 61, 'end': 62}\n",
      "{'entity': ' OTHER\\n', 'score': 0.9999999, 'index': 25, 'word': 'A', 'start': 63, 'end': 64}\n",
      "{'entity': ' OTHER\\n', 'score': 0.9999999, 'index': 26, 'word': '##v', 'start': 64, 'end': 65}\n",
      "{'entity': ' OTHER\\n', 'score': 0.9999999, 'index': 27, 'word': '##l', 'start': 65, 'end': 66}\n",
      "{'entity': ' OTHER\\n', 'score': 0.9999999, 'index': 28, 'word': 'L', 'start': 67, 'end': 68}\n",
      "{'entity': ' OTHER\\n', 'score': 0.9999999, 'index': 29, 'word': '##m', 'start': 68, 'end': 69}\n",
      "{'entity': ' OTHER\\n', 'score': 0.9999999, 'index': 30, 'word': '##t', 'start': 69, 'end': 70}\n",
      "{'entity': ' OTHER\\n', 'score': 0.9999999, 'index': 31, 'word': ':', 'start': 70, 'end': 71}\n",
      "{'entity': ' OTHER\\n', 'score': 0.9999999, 'index': 32, 'word': 'IN', 'start': 72, 'end': 74}\n",
      "{'entity': ' OTHER\\n', 'score': 0.9999999, 'index': 33, 'word': '##R', 'start': 74, 'end': 75}\n",
      "{'entity': ' OTHER\\n', 'score': 0.99999976, 'index': 34, 'word': '1', 'start': 76, 'end': 77}\n",
      "{'entity': ' OTHER\\n', 'score': 0.99998546, 'index': 35, 'word': ',', 'start': 77, 'end': 78}\n",
      "{'entity': ' OTHER\\n', 'score': 0.99996865, 'index': 36, 'word': '38', 'start': 78, 'end': 80}\n",
      "{'entity': ' OTHER\\n', 'score': 0.98978794, 'index': 37, 'word': ',', 'start': 80, 'end': 81}\n",
      "{'entity': ' OTHER\\n', 'score': 0.9971892, 'index': 38, 'word': '76', 'start': 81, 'end': 83}\n",
      "{'entity': ' OTHER\\n', 'score': 0.99202335, 'index': 39, 'word': '##8', 'start': 83, 'end': 84}\n",
      "{'entity': ' OTHER\\n', 'score': 0.99257785, 'index': 40, 'word': '.', 'start': 84, 'end': 85}\n",
      "{'entity': ' OTHER\\n', 'score': 0.9999914, 'index': 41, 'word': '54', 'start': 85, 'end': 87}\n",
      "{'entity': ' OTHER\\n', 'score': 0.99999964, 'index': 42, 'word': '.', 'start': 87, 'end': 88}\n"
     ]
    }
   ],
   "source": [
    "predictions = ner_pipeline(text)\n",
    "\n",
    "for prediction in predictions:\n",
    "    print(prediction)\n",
    "#     print(f\"Entity: {prediction['entity']}, Label: {prediction['label']}, Score: {prediction['score']}\")"
   ]
  },
  {
   "cell_type": "code",
   "execution_count": 32,
   "id": "7a343027",
   "metadata": {
    "execution": {
     "iopub.execute_input": "2024-08-27T11:08:20.915413Z",
     "iopub.status.busy": "2024-08-27T11:08:20.915133Z",
     "iopub.status.idle": "2024-08-27T11:08:20.922944Z",
     "shell.execute_reply": "2024-08-27T11:08:20.922091Z"
    },
    "papermill": {
     "duration": 0.02434,
     "end_time": "2024-08-27T11:08:20.924835",
     "exception": false,
     "start_time": "2024-08-27T11:08:20.900495",
     "status": "completed"
    },
    "tags": []
   },
   "outputs": [],
   "source": [
    "def predict(text: str):\n",
    "    model = tuned_model\n",
    "    model.to(device)\n",
    "    # Tokenize the text\n",
    "    tokens = tuned_tokenizer(text, return_tensors=\"pt\", truncation=True, padding=True).to(device)\n",
    "\n",
    "    # Get model predictions\n",
    "    with torch.no_grad():\n",
    "        outputs = model(**tokens)\n",
    "    logits = outputs.logits\n",
    "\n",
    "    # Get the predicted labels\n",
    "    predictions = torch.argmax(logits, dim=-1).squeeze().cpu().tolist()\n",
    "    tokens = tokens[\"input_ids\"].squeeze().cpu().tolist()\n",
    "\n",
    "    # Convert predictions to label names\n",
    "    labels = [model.config.id2label[pred] for pred in predictions]\n",
    "#     print(labels)\n",
    "    tokens = [tuned_tokenizer.decode([token]) for token in tokens]\n",
    "\n",
    "    # Filter out special tokens\n",
    "    result = [{\"token\": token, \"label\": label} for token, label in zip(tokens, labels) if token not in tokenizer.all_special_tokens]\n",
    "\n",
    "    return {\"tokens\": result}\n"
   ]
  },
  {
   "cell_type": "code",
   "execution_count": 33,
   "id": "ff9ee652",
   "metadata": {
    "execution": {
     "iopub.execute_input": "2024-08-27T11:08:20.954378Z",
     "iopub.status.busy": "2024-08-27T11:08:20.954095Z",
     "iopub.status.idle": "2024-08-27T11:08:20.990162Z",
     "shell.execute_reply": "2024-08-27T11:08:20.989218Z"
    },
    "papermill": {
     "duration": 0.053105,
     "end_time": "2024-08-27T11:08:20.992127",
     "exception": false,
     "start_time": "2024-08-27T11:08:20.939022",
     "status": "completed"
    },
    "tags": []
   },
   "outputs": [
    {
     "data": {
      "text/plain": [
       "[{'token': '39', 'label': ' MONEY\\n'},\n",
       " {'token': '##9', 'label': ' MONEY\\n'},\n",
       " {'token': '.', 'label': ' MONEY\\n'},\n",
       " {'token': '00', 'label': ' MONEY\\n'},\n",
       " {'token': 'spent', 'label': ' TRANSACTION_TYPE\\n'},\n",
       " {'token': 'on', 'label': ' TRANSACTION_TYPE\\n'},\n",
       " {'token': 'I', 'label': ' BANK\\n'},\n",
       " {'token': '##CI', 'label': ' BANK\\n'},\n",
       " {'token': '##CI', 'label': ' BANK\\n'},\n",
       " {'token': 'Bank', 'label': ' BANK\\n'},\n",
       " {'token': 'Card', 'label': ' BANK\\n'},\n",
       " {'token': 'X', 'label': ' ACCOUNT_NUMBER\\n'},\n",
       " {'token': '##X', 'label': ' ACCOUNT_NUMBER\\n'},\n",
       " {'token': '##100', 'label': ' ACCOUNT_NUMBER\\n'},\n",
       " {'token': '##0', 'label': ' ACCOUNT_NUMBER\\n'},\n",
       " {'token': 'on', 'label': ' DATE\\n'},\n",
       " {'token': '16', 'label': ' DATE\\n'},\n",
       " {'token': '-', 'label': ' DATE\\n'},\n",
       " {'token': 'Jun', 'label': ' DATE\\n'},\n",
       " {'token': '-', 'label': ' DATE\\n'},\n",
       " {'token': '22', 'label': ' DATE\\n'},\n",
       " {'token': 'at', 'label': ' OTHER\\n'},\n",
       " {'token': 'Amazon', 'label': ' OTHER\\n'},\n",
       " {'token': '.', 'label': ' OTHER\\n'},\n",
       " {'token': 'A', 'label': ' OTHER\\n'},\n",
       " {'token': '##v', 'label': ' OTHER\\n'},\n",
       " {'token': '##l', 'label': ' OTHER\\n'},\n",
       " {'token': 'L', 'label': ' OTHER\\n'},\n",
       " {'token': '##m', 'label': ' OTHER\\n'},\n",
       " {'token': '##t', 'label': ' OTHER\\n'},\n",
       " {'token': ':', 'label': ' OTHER\\n'},\n",
       " {'token': 'IN', 'label': ' OTHER\\n'},\n",
       " {'token': '##R', 'label': ' OTHER\\n'},\n",
       " {'token': '1', 'label': ' OTHER\\n'},\n",
       " {'token': ',', 'label': ' OTHER\\n'},\n",
       " {'token': '38', 'label': ' OTHER\\n'},\n",
       " {'token': ',', 'label': ' OTHER\\n'},\n",
       " {'token': '76', 'label': ' OTHER\\n'},\n",
       " {'token': '##8', 'label': ' OTHER\\n'},\n",
       " {'token': '.', 'label': ' OTHER\\n'},\n",
       " {'token': '54', 'label': ' OTHER\\n'},\n",
       " {'token': '.', 'label': ' OTHER\\n'}]"
      ]
     },
     "execution_count": 33,
     "metadata": {},
     "output_type": "execute_result"
    }
   ],
   "source": [
    "predict(text)['tokens']"
   ]
  },
  {
   "cell_type": "code",
   "execution_count": null,
   "id": "d2ac51bf",
   "metadata": {
    "papermill": {
     "duration": 0.01412,
     "end_time": "2024-08-27T11:08:21.020579",
     "exception": false,
     "start_time": "2024-08-27T11:08:21.006459",
     "status": "completed"
    },
    "tags": []
   },
   "outputs": [],
   "source": []
  },
  {
   "cell_type": "code",
   "execution_count": null,
   "id": "6a6c43c0",
   "metadata": {
    "papermill": {
     "duration": 0.013855,
     "end_time": "2024-08-27T11:08:21.048498",
     "exception": false,
     "start_time": "2024-08-27T11:08:21.034643",
     "status": "completed"
    },
    "tags": []
   },
   "outputs": [],
   "source": []
  }
 ],
 "metadata": {
  "kaggle": {
   "accelerator": "nvidiaTeslaT4",
   "dataSources": [
    {
     "datasetId": 5579109,
     "sourceId": 9224902,
     "sourceType": "datasetVersion"
    },
    {
     "datasetId": 5589719,
     "sourceId": 9240661,
     "sourceType": "datasetVersion"
    }
   ],
   "dockerImageVersionId": 30732,
   "isGpuEnabled": true,
   "isInternetEnabled": true,
   "language": "python",
   "sourceType": "notebook"
  },
  "kernelspec": {
   "display_name": "Python 3",
   "language": "python",
   "name": "python3"
  },
  "language_info": {
   "codemirror_mode": {
    "name": "ipython",
    "version": 3
   },
   "file_extension": ".py",
   "mimetype": "text/x-python",
   "name": "python",
   "nbconvert_exporter": "python",
   "pygments_lexer": "ipython3",
   "version": "3.10.13"
  },
  "papermill": {
   "default_parameters": {},
   "duration": 5308.451187,
   "end_time": "2024-08-27T11:08:24.465834",
   "environment_variables": {},
   "exception": null,
   "input_path": "__notebook__.ipynb",
   "output_path": "__notebook__.ipynb",
   "parameters": {},
   "start_time": "2024-08-27T09:39:56.014647",
   "version": "2.5.0"
  },
  "widgets": {
   "application/vnd.jupyter.widget-state+json": {
    "state": {
     "00bfbe1b2e2b475a914bd96b38f6e58c": {
      "model_module": "@jupyter-widgets/controls",
      "model_module_version": "1.5.0",
      "model_name": "FloatProgressModel",
      "state": {
       "_dom_classes": [],
       "_model_module": "@jupyter-widgets/controls",
       "_model_module_version": "1.5.0",
       "_model_name": "FloatProgressModel",
       "_view_count": null,
       "_view_module": "@jupyter-widgets/controls",
       "_view_module_version": "1.5.0",
       "_view_name": "ProgressView",
       "bar_style": "success",
       "description": "",
       "description_tooltip": null,
       "layout": "IPY_MODEL_d3695d23d6874dcf947986974371bfb7",
       "max": 570.0,
       "min": 0.0,
       "orientation": "horizontal",
       "style": "IPY_MODEL_11ee6d9fe226447c87e37159fafe5d0a",
       "value": 570.0
      }
     },
     "015b1ad2fbcb4874804cffb8406d8a94": {
      "model_module": "@jupyter-widgets/base",
      "model_module_version": "1.2.0",
      "model_name": "LayoutModel",
      "state": {
       "_model_module": "@jupyter-widgets/base",
       "_model_module_version": "1.2.0",
       "_model_name": "LayoutModel",
       "_view_count": null,
       "_view_module": "@jupyter-widgets/base",
       "_view_module_version": "1.2.0",
       "_view_name": "LayoutView",
       "align_content": null,
       "align_items": null,
       "align_self": null,
       "border": null,
       "bottom": null,
       "display": null,
       "flex": null,
       "flex_flow": null,
       "grid_area": null,
       "grid_auto_columns": null,
       "grid_auto_flow": null,
       "grid_auto_rows": null,
       "grid_column": null,
       "grid_gap": null,
       "grid_row": null,
       "grid_template_areas": null,
       "grid_template_columns": null,
       "grid_template_rows": null,
       "height": null,
       "justify_content": null,
       "justify_items": null,
       "left": null,
       "margin": null,
       "max_height": null,
       "max_width": null,
       "min_height": null,
       "min_width": null,
       "object_fit": null,
       "object_position": null,
       "order": null,
       "overflow": null,
       "overflow_x": null,
       "overflow_y": null,
       "padding": null,
       "right": null,
       "top": null,
       "visibility": null,
       "width": null
      }
     },
     "081d0fa0120c4d798e9d8a1997d15b69": {
      "model_module": "@jupyter-widgets/base",
      "model_module_version": "1.2.0",
      "model_name": "LayoutModel",
      "state": {
       "_model_module": "@jupyter-widgets/base",
       "_model_module_version": "1.2.0",
       "_model_name": "LayoutModel",
       "_view_count": null,
       "_view_module": "@jupyter-widgets/base",
       "_view_module_version": "1.2.0",
       "_view_name": "LayoutView",
       "align_content": null,
       "align_items": null,
       "align_self": null,
       "border": null,
       "bottom": null,
       "display": null,
       "flex": null,
       "flex_flow": null,
       "grid_area": null,
       "grid_auto_columns": null,
       "grid_auto_flow": null,
       "grid_auto_rows": null,
       "grid_column": null,
       "grid_gap": null,
       "grid_row": null,
       "grid_template_areas": null,
       "grid_template_columns": null,
       "grid_template_rows": null,
       "height": null,
       "justify_content": null,
       "justify_items": null,
       "left": null,
       "margin": null,
       "max_height": null,
       "max_width": null,
       "min_height": null,
       "min_width": null,
       "object_fit": null,
       "object_position": null,
       "order": null,
       "overflow": null,
       "overflow_x": null,
       "overflow_y": null,
       "padding": null,
       "right": null,
       "top": null,
       "visibility": null,
       "width": null
      }
     },
     "0ba55ee174094511954210d3c9fa8f77": {
      "model_module": "@jupyter-widgets/controls",
      "model_module_version": "1.5.0",
      "model_name": "HBoxModel",
      "state": {
       "_dom_classes": [],
       "_model_module": "@jupyter-widgets/controls",
       "_model_module_version": "1.5.0",
       "_model_name": "HBoxModel",
       "_view_count": null,
       "_view_module": "@jupyter-widgets/controls",
       "_view_module_version": "1.5.0",
       "_view_name": "HBoxView",
       "box_style": "",
       "children": [
        "IPY_MODEL_24f197061d48490ea5295e3fd7d78654",
        "IPY_MODEL_a3f590ead1b6406b971223a50df29897",
        "IPY_MODEL_41e3d8c6cd0c4f7fba2578203e77d034"
       ],
       "layout": "IPY_MODEL_49658e97ef984d589ac92c9ac2a38054"
      }
     },
     "0bc5f8032a074ce49874a191ae254b5c": {
      "model_module": "@jupyter-widgets/controls",
      "model_module_version": "1.5.0",
      "model_name": "DescriptionStyleModel",
      "state": {
       "_model_module": "@jupyter-widgets/controls",
       "_model_module_version": "1.5.0",
       "_model_name": "DescriptionStyleModel",
       "_view_count": null,
       "_view_module": "@jupyter-widgets/base",
       "_view_module_version": "1.2.0",
       "_view_name": "StyleView",
       "description_width": ""
      }
     },
     "0c043cccf86b4abfb22f78f712f28922": {
      "model_module": "@jupyter-widgets/base",
      "model_module_version": "1.2.0",
      "model_name": "LayoutModel",
      "state": {
       "_model_module": "@jupyter-widgets/base",
       "_model_module_version": "1.2.0",
       "_model_name": "LayoutModel",
       "_view_count": null,
       "_view_module": "@jupyter-widgets/base",
       "_view_module_version": "1.2.0",
       "_view_name": "LayoutView",
       "align_content": null,
       "align_items": null,
       "align_self": null,
       "border": null,
       "bottom": null,
       "display": null,
       "flex": null,
       "flex_flow": null,
       "grid_area": null,
       "grid_auto_columns": null,
       "grid_auto_flow": null,
       "grid_auto_rows": null,
       "grid_column": null,
       "grid_gap": null,
       "grid_row": null,
       "grid_template_areas": null,
       "grid_template_columns": null,
       "grid_template_rows": null,
       "height": null,
       "justify_content": null,
       "justify_items": null,
       "left": null,
       "margin": null,
       "max_height": null,
       "max_width": null,
       "min_height": null,
       "min_width": null,
       "object_fit": null,
       "object_position": null,
       "order": null,
       "overflow": null,
       "overflow_x": null,
       "overflow_y": null,
       "padding": null,
       "right": null,
       "top": null,
       "visibility": null,
       "width": null
      }
     },
     "0fe5b3b5950947c4ae930d2f69c8880c": {
      "model_module": "@jupyter-widgets/controls",
      "model_module_version": "1.5.0",
      "model_name": "FloatProgressModel",
      "state": {
       "_dom_classes": [],
       "_model_module": "@jupyter-widgets/controls",
       "_model_module_version": "1.5.0",
       "_model_name": "FloatProgressModel",
       "_view_count": null,
       "_view_module": "@jupyter-widgets/controls",
       "_view_module_version": "1.5.0",
       "_view_name": "ProgressView",
       "bar_style": "success",
       "description": "",
       "description_tooltip": null,
       "layout": "IPY_MODEL_40dbe90967e64f6b976b2c4202bb3d70",
       "max": 435797.0,
       "min": 0.0,
       "orientation": "horizontal",
       "style": "IPY_MODEL_d0c319abe59a48a696a1d8713391b85c",
       "value": 435797.0
      }
     },
     "11ee6d9fe226447c87e37159fafe5d0a": {
      "model_module": "@jupyter-widgets/controls",
      "model_module_version": "1.5.0",
      "model_name": "ProgressStyleModel",
      "state": {
       "_model_module": "@jupyter-widgets/controls",
       "_model_module_version": "1.5.0",
       "_model_name": "ProgressStyleModel",
       "_view_count": null,
       "_view_module": "@jupyter-widgets/base",
       "_view_module_version": "1.2.0",
       "_view_name": "StyleView",
       "bar_color": null,
       "description_width": ""
      }
     },
     "19ebcb7dde8a4006a9e2947af67f1a7d": {
      "model_module": "@jupyter-widgets/controls",
      "model_module_version": "1.5.0",
      "model_name": "ProgressStyleModel",
      "state": {
       "_model_module": "@jupyter-widgets/controls",
       "_model_module_version": "1.5.0",
       "_model_name": "ProgressStyleModel",
       "_view_count": null,
       "_view_module": "@jupyter-widgets/base",
       "_view_module_version": "1.2.0",
       "_view_name": "StyleView",
       "bar_color": null,
       "description_width": ""
      }
     },
     "1dc4bd1237ba41ddb0f9ca1661302d25": {
      "model_module": "@jupyter-widgets/base",
      "model_module_version": "1.2.0",
      "model_name": "LayoutModel",
      "state": {
       "_model_module": "@jupyter-widgets/base",
       "_model_module_version": "1.2.0",
       "_model_name": "LayoutModel",
       "_view_count": null,
       "_view_module": "@jupyter-widgets/base",
       "_view_module_version": "1.2.0",
       "_view_name": "LayoutView",
       "align_content": null,
       "align_items": null,
       "align_self": null,
       "border": null,
       "bottom": null,
       "display": null,
       "flex": null,
       "flex_flow": null,
       "grid_area": null,
       "grid_auto_columns": null,
       "grid_auto_flow": null,
       "grid_auto_rows": null,
       "grid_column": null,
       "grid_gap": null,
       "grid_row": null,
       "grid_template_areas": null,
       "grid_template_columns": null,
       "grid_template_rows": null,
       "height": null,
       "justify_content": null,
       "justify_items": null,
       "left": null,
       "margin": null,
       "max_height": null,
       "max_width": null,
       "min_height": null,
       "min_width": null,
       "object_fit": null,
       "object_position": null,
       "order": null,
       "overflow": null,
       "overflow_x": null,
       "overflow_y": null,
       "padding": null,
       "right": null,
       "top": null,
       "visibility": null,
       "width": null
      }
     },
     "211b9771f4344a718ed46461a34cde60": {
      "model_module": "@jupyter-widgets/base",
      "model_module_version": "1.2.0",
      "model_name": "LayoutModel",
      "state": {
       "_model_module": "@jupyter-widgets/base",
       "_model_module_version": "1.2.0",
       "_model_name": "LayoutModel",
       "_view_count": null,
       "_view_module": "@jupyter-widgets/base",
       "_view_module_version": "1.2.0",
       "_view_name": "LayoutView",
       "align_content": null,
       "align_items": null,
       "align_self": null,
       "border": null,
       "bottom": null,
       "display": null,
       "flex": null,
       "flex_flow": null,
       "grid_area": null,
       "grid_auto_columns": null,
       "grid_auto_flow": null,
       "grid_auto_rows": null,
       "grid_column": null,
       "grid_gap": null,
       "grid_row": null,
       "grid_template_areas": null,
       "grid_template_columns": null,
       "grid_template_rows": null,
       "height": null,
       "justify_content": null,
       "justify_items": null,
       "left": null,
       "margin": null,
       "max_height": null,
       "max_width": null,
       "min_height": null,
       "min_width": null,
       "object_fit": null,
       "object_position": null,
       "order": null,
       "overflow": null,
       "overflow_x": null,
       "overflow_y": null,
       "padding": null,
       "right": null,
       "top": null,
       "visibility": null,
       "width": null
      }
     },
     "24f197061d48490ea5295e3fd7d78654": {
      "model_module": "@jupyter-widgets/controls",
      "model_module_version": "1.5.0",
      "model_name": "HTMLModel",
      "state": {
       "_dom_classes": [],
       "_model_module": "@jupyter-widgets/controls",
       "_model_module_version": "1.5.0",
       "_model_name": "HTMLModel",
       "_view_count": null,
       "_view_module": "@jupyter-widgets/controls",
       "_view_module_version": "1.5.0",
       "_view_name": "HTMLView",
       "description": "",
       "description_tooltip": null,
       "layout": "IPY_MODEL_211b9771f4344a718ed46461a34cde60",
       "placeholder": "​",
       "style": "IPY_MODEL_441e982e525943e3b93a1c808e01be89",
       "value": "model.safetensors: 100%"
      }
     },
     "299247426cf245519fed45e762427911": {
      "model_module": "@jupyter-widgets/base",
      "model_module_version": "1.2.0",
      "model_name": "LayoutModel",
      "state": {
       "_model_module": "@jupyter-widgets/base",
       "_model_module_version": "1.2.0",
       "_model_name": "LayoutModel",
       "_view_count": null,
       "_view_module": "@jupyter-widgets/base",
       "_view_module_version": "1.2.0",
       "_view_name": "LayoutView",
       "align_content": null,
       "align_items": null,
       "align_self": null,
       "border": null,
       "bottom": null,
       "display": null,
       "flex": null,
       "flex_flow": null,
       "grid_area": null,
       "grid_auto_columns": null,
       "grid_auto_flow": null,
       "grid_auto_rows": null,
       "grid_column": null,
       "grid_gap": null,
       "grid_row": null,
       "grid_template_areas": null,
       "grid_template_columns": null,
       "grid_template_rows": null,
       "height": null,
       "justify_content": null,
       "justify_items": null,
       "left": null,
       "margin": null,
       "max_height": null,
       "max_width": null,
       "min_height": null,
       "min_width": null,
       "object_fit": null,
       "object_position": null,
       "order": null,
       "overflow": null,
       "overflow_x": null,
       "overflow_y": null,
       "padding": null,
       "right": null,
       "top": null,
       "visibility": null,
       "width": null
      }
     },
     "3863a91077b5476f9dac8613db57c45c": {
      "model_module": "@jupyter-widgets/base",
      "model_module_version": "1.2.0",
      "model_name": "LayoutModel",
      "state": {
       "_model_module": "@jupyter-widgets/base",
       "_model_module_version": "1.2.0",
       "_model_name": "LayoutModel",
       "_view_count": null,
       "_view_module": "@jupyter-widgets/base",
       "_view_module_version": "1.2.0",
       "_view_name": "LayoutView",
       "align_content": null,
       "align_items": null,
       "align_self": null,
       "border": null,
       "bottom": null,
       "display": null,
       "flex": null,
       "flex_flow": null,
       "grid_area": null,
       "grid_auto_columns": null,
       "grid_auto_flow": null,
       "grid_auto_rows": null,
       "grid_column": null,
       "grid_gap": null,
       "grid_row": null,
       "grid_template_areas": null,
       "grid_template_columns": null,
       "grid_template_rows": null,
       "height": null,
       "justify_content": null,
       "justify_items": null,
       "left": null,
       "margin": null,
       "max_height": null,
       "max_width": null,
       "min_height": null,
       "min_width": null,
       "object_fit": null,
       "object_position": null,
       "order": null,
       "overflow": null,
       "overflow_x": null,
       "overflow_y": null,
       "padding": null,
       "right": null,
       "top": null,
       "visibility": null,
       "width": null
      }
     },
     "3cfa357adc4b44338379aa59e110bce4": {
      "model_module": "@jupyter-widgets/base",
      "model_module_version": "1.2.0",
      "model_name": "LayoutModel",
      "state": {
       "_model_module": "@jupyter-widgets/base",
       "_model_module_version": "1.2.0",
       "_model_name": "LayoutModel",
       "_view_count": null,
       "_view_module": "@jupyter-widgets/base",
       "_view_module_version": "1.2.0",
       "_view_name": "LayoutView",
       "align_content": null,
       "align_items": null,
       "align_self": null,
       "border": null,
       "bottom": null,
       "display": null,
       "flex": null,
       "flex_flow": null,
       "grid_area": null,
       "grid_auto_columns": null,
       "grid_auto_flow": null,
       "grid_auto_rows": null,
       "grid_column": null,
       "grid_gap": null,
       "grid_row": null,
       "grid_template_areas": null,
       "grid_template_columns": null,
       "grid_template_rows": null,
       "height": null,
       "justify_content": null,
       "justify_items": null,
       "left": null,
       "margin": null,
       "max_height": null,
       "max_width": null,
       "min_height": null,
       "min_width": null,
       "object_fit": null,
       "object_position": null,
       "order": null,
       "overflow": null,
       "overflow_x": null,
       "overflow_y": null,
       "padding": null,
       "right": null,
       "top": null,
       "visibility": null,
       "width": null
      }
     },
     "3f985b823dae42c8bf1d7db1b7341ea7": {
      "model_module": "@jupyter-widgets/controls",
      "model_module_version": "1.5.0",
      "model_name": "ProgressStyleModel",
      "state": {
       "_model_module": "@jupyter-widgets/controls",
       "_model_module_version": "1.5.0",
       "_model_name": "ProgressStyleModel",
       "_view_count": null,
       "_view_module": "@jupyter-widgets/base",
       "_view_module_version": "1.2.0",
       "_view_name": "StyleView",
       "bar_color": null,
       "description_width": ""
      }
     },
     "40dbe90967e64f6b976b2c4202bb3d70": {
      "model_module": "@jupyter-widgets/base",
      "model_module_version": "1.2.0",
      "model_name": "LayoutModel",
      "state": {
       "_model_module": "@jupyter-widgets/base",
       "_model_module_version": "1.2.0",
       "_model_name": "LayoutModel",
       "_view_count": null,
       "_view_module": "@jupyter-widgets/base",
       "_view_module_version": "1.2.0",
       "_view_name": "LayoutView",
       "align_content": null,
       "align_items": null,
       "align_self": null,
       "border": null,
       "bottom": null,
       "display": null,
       "flex": null,
       "flex_flow": null,
       "grid_area": null,
       "grid_auto_columns": null,
       "grid_auto_flow": null,
       "grid_auto_rows": null,
       "grid_column": null,
       "grid_gap": null,
       "grid_row": null,
       "grid_template_areas": null,
       "grid_template_columns": null,
       "grid_template_rows": null,
       "height": null,
       "justify_content": null,
       "justify_items": null,
       "left": null,
       "margin": null,
       "max_height": null,
       "max_width": null,
       "min_height": null,
       "min_width": null,
       "object_fit": null,
       "object_position": null,
       "order": null,
       "overflow": null,
       "overflow_x": null,
       "overflow_y": null,
       "padding": null,
       "right": null,
       "top": null,
       "visibility": null,
       "width": null
      }
     },
     "4186b5f6fa574deea1fcb56ae4e42f4d": {
      "model_module": "@jupyter-widgets/controls",
      "model_module_version": "1.5.0",
      "model_name": "DescriptionStyleModel",
      "state": {
       "_model_module": "@jupyter-widgets/controls",
       "_model_module_version": "1.5.0",
       "_model_name": "DescriptionStyleModel",
       "_view_count": null,
       "_view_module": "@jupyter-widgets/base",
       "_view_module_version": "1.2.0",
       "_view_name": "StyleView",
       "description_width": ""
      }
     },
     "41e3d8c6cd0c4f7fba2578203e77d034": {
      "model_module": "@jupyter-widgets/controls",
      "model_module_version": "1.5.0",
      "model_name": "HTMLModel",
      "state": {
       "_dom_classes": [],
       "_model_module": "@jupyter-widgets/controls",
       "_model_module_version": "1.5.0",
       "_model_name": "HTMLModel",
       "_view_count": null,
       "_view_module": "@jupyter-widgets/controls",
       "_view_module_version": "1.5.0",
       "_view_name": "HTMLView",
       "description": "",
       "description_tooltip": null,
       "layout": "IPY_MODEL_f987db4531b74c119805f93a8c1c29ea",
       "placeholder": "​",
       "style": "IPY_MODEL_43ad19d6b8384359bf45d5b56a03b731",
       "value": " 436M/436M [00:02&lt;00:00, 212MB/s]"
      }
     },
     "43ad19d6b8384359bf45d5b56a03b731": {
      "model_module": "@jupyter-widgets/controls",
      "model_module_version": "1.5.0",
      "model_name": "DescriptionStyleModel",
      "state": {
       "_model_module": "@jupyter-widgets/controls",
       "_model_module_version": "1.5.0",
       "_model_name": "DescriptionStyleModel",
       "_view_count": null,
       "_view_module": "@jupyter-widgets/base",
       "_view_module_version": "1.2.0",
       "_view_name": "StyleView",
       "description_width": ""
      }
     },
     "441e982e525943e3b93a1c808e01be89": {
      "model_module": "@jupyter-widgets/controls",
      "model_module_version": "1.5.0",
      "model_name": "DescriptionStyleModel",
      "state": {
       "_model_module": "@jupyter-widgets/controls",
       "_model_module_version": "1.5.0",
       "_model_name": "DescriptionStyleModel",
       "_view_count": null,
       "_view_module": "@jupyter-widgets/base",
       "_view_module_version": "1.2.0",
       "_view_name": "StyleView",
       "description_width": ""
      }
     },
     "47f90ec8a5a14694b0d666f31e9c0bf6": {
      "model_module": "@jupyter-widgets/base",
      "model_module_version": "1.2.0",
      "model_name": "LayoutModel",
      "state": {
       "_model_module": "@jupyter-widgets/base",
       "_model_module_version": "1.2.0",
       "_model_name": "LayoutModel",
       "_view_count": null,
       "_view_module": "@jupyter-widgets/base",
       "_view_module_version": "1.2.0",
       "_view_name": "LayoutView",
       "align_content": null,
       "align_items": null,
       "align_self": null,
       "border": null,
       "bottom": null,
       "display": null,
       "flex": null,
       "flex_flow": null,
       "grid_area": null,
       "grid_auto_columns": null,
       "grid_auto_flow": null,
       "grid_auto_rows": null,
       "grid_column": null,
       "grid_gap": null,
       "grid_row": null,
       "grid_template_areas": null,
       "grid_template_columns": null,
       "grid_template_rows": null,
       "height": null,
       "justify_content": null,
       "justify_items": null,
       "left": null,
       "margin": null,
       "max_height": null,
       "max_width": null,
       "min_height": null,
       "min_width": null,
       "object_fit": null,
       "object_position": null,
       "order": null,
       "overflow": null,
       "overflow_x": null,
       "overflow_y": null,
       "padding": null,
       "right": null,
       "top": null,
       "visibility": null,
       "width": null
      }
     },
     "49658e97ef984d589ac92c9ac2a38054": {
      "model_module": "@jupyter-widgets/base",
      "model_module_version": "1.2.0",
      "model_name": "LayoutModel",
      "state": {
       "_model_module": "@jupyter-widgets/base",
       "_model_module_version": "1.2.0",
       "_model_name": "LayoutModel",
       "_view_count": null,
       "_view_module": "@jupyter-widgets/base",
       "_view_module_version": "1.2.0",
       "_view_name": "LayoutView",
       "align_content": null,
       "align_items": null,
       "align_self": null,
       "border": null,
       "bottom": null,
       "display": null,
       "flex": null,
       "flex_flow": null,
       "grid_area": null,
       "grid_auto_columns": null,
       "grid_auto_flow": null,
       "grid_auto_rows": null,
       "grid_column": null,
       "grid_gap": null,
       "grid_row": null,
       "grid_template_areas": null,
       "grid_template_columns": null,
       "grid_template_rows": null,
       "height": null,
       "justify_content": null,
       "justify_items": null,
       "left": null,
       "margin": null,
       "max_height": null,
       "max_width": null,
       "min_height": null,
       "min_width": null,
       "object_fit": null,
       "object_position": null,
       "order": null,
       "overflow": null,
       "overflow_x": null,
       "overflow_y": null,
       "padding": null,
       "right": null,
       "top": null,
       "visibility": null,
       "width": null
      }
     },
     "51e88c0789f346b98d2e3c7d716ea4fd": {
      "model_module": "@jupyter-widgets/controls",
      "model_module_version": "1.5.0",
      "model_name": "HTMLModel",
      "state": {
       "_dom_classes": [],
       "_model_module": "@jupyter-widgets/controls",
       "_model_module_version": "1.5.0",
       "_model_name": "HTMLModel",
       "_view_count": null,
       "_view_module": "@jupyter-widgets/controls",
       "_view_module_version": "1.5.0",
       "_view_name": "HTMLView",
       "description": "",
       "description_tooltip": null,
       "layout": "IPY_MODEL_557e6d08b5814f3b93be615cb3095266",
       "placeholder": "​",
       "style": "IPY_MODEL_de13a1f564624b3497278a078463058f",
       "value": "tokenizer_config.json: 100%"
      }
     },
     "557e6d08b5814f3b93be615cb3095266": {
      "model_module": "@jupyter-widgets/base",
      "model_module_version": "1.2.0",
      "model_name": "LayoutModel",
      "state": {
       "_model_module": "@jupyter-widgets/base",
       "_model_module_version": "1.2.0",
       "_model_name": "LayoutModel",
       "_view_count": null,
       "_view_module": "@jupyter-widgets/base",
       "_view_module_version": "1.2.0",
       "_view_name": "LayoutView",
       "align_content": null,
       "align_items": null,
       "align_self": null,
       "border": null,
       "bottom": null,
       "display": null,
       "flex": null,
       "flex_flow": null,
       "grid_area": null,
       "grid_auto_columns": null,
       "grid_auto_flow": null,
       "grid_auto_rows": null,
       "grid_column": null,
       "grid_gap": null,
       "grid_row": null,
       "grid_template_areas": null,
       "grid_template_columns": null,
       "grid_template_rows": null,
       "height": null,
       "justify_content": null,
       "justify_items": null,
       "left": null,
       "margin": null,
       "max_height": null,
       "max_width": null,
       "min_height": null,
       "min_width": null,
       "object_fit": null,
       "object_position": null,
       "order": null,
       "overflow": null,
       "overflow_x": null,
       "overflow_y": null,
       "padding": null,
       "right": null,
       "top": null,
       "visibility": null,
       "width": null
      }
     },
     "55ef928701664541b94a8292e3ab26fd": {
      "model_module": "@jupyter-widgets/controls",
      "model_module_version": "1.5.0",
      "model_name": "HBoxModel",
      "state": {
       "_dom_classes": [],
       "_model_module": "@jupyter-widgets/controls",
       "_model_module_version": "1.5.0",
       "_model_name": "HBoxModel",
       "_view_count": null,
       "_view_module": "@jupyter-widgets/controls",
       "_view_module_version": "1.5.0",
       "_view_name": "HBoxView",
       "box_style": "",
       "children": [
        "IPY_MODEL_bce5a4f7e83b41ae9a22b67bd5736ef4",
        "IPY_MODEL_7dd104df6eee4ffcbbd35090871f8275",
        "IPY_MODEL_bb5ef88c4ab34ec38d8b6a22ac97e609"
       ],
       "layout": "IPY_MODEL_60c1d661367d4b3a833b2c8994429b8d"
      }
     },
     "579374d1dee243c2b00ae7c9487e41be": {
      "model_module": "@jupyter-widgets/controls",
      "model_module_version": "1.5.0",
      "model_name": "DescriptionStyleModel",
      "state": {
       "_model_module": "@jupyter-widgets/controls",
       "_model_module_version": "1.5.0",
       "_model_name": "DescriptionStyleModel",
       "_view_count": null,
       "_view_module": "@jupyter-widgets/base",
       "_view_module_version": "1.2.0",
       "_view_name": "StyleView",
       "description_width": ""
      }
     },
     "5c151214099f46f6bc9201dcc6ab2085": {
      "model_module": "@jupyter-widgets/controls",
      "model_module_version": "1.5.0",
      "model_name": "HTMLModel",
      "state": {
       "_dom_classes": [],
       "_model_module": "@jupyter-widgets/controls",
       "_model_module_version": "1.5.0",
       "_model_name": "HTMLModel",
       "_view_count": null,
       "_view_module": "@jupyter-widgets/controls",
       "_view_module_version": "1.5.0",
       "_view_name": "HTMLView",
       "description": "",
       "description_tooltip": null,
       "layout": "IPY_MODEL_e0e80d372aca4830b2011e8cd9ad137c",
       "placeholder": "​",
       "style": "IPY_MODEL_68c0ee9a5b1a435fb7294c0986bf0159",
       "value": "vocab.txt: 100%"
      }
     },
     "602dd75c32924e3a8305da86ff7aa90f": {
      "model_module": "@jupyter-widgets/controls",
      "model_module_version": "1.5.0",
      "model_name": "ProgressStyleModel",
      "state": {
       "_model_module": "@jupyter-widgets/controls",
       "_model_module_version": "1.5.0",
       "_model_name": "ProgressStyleModel",
       "_view_count": null,
       "_view_module": "@jupyter-widgets/base",
       "_view_module_version": "1.2.0",
       "_view_name": "StyleView",
       "bar_color": null,
       "description_width": ""
      }
     },
     "60c1d661367d4b3a833b2c8994429b8d": {
      "model_module": "@jupyter-widgets/base",
      "model_module_version": "1.2.0",
      "model_name": "LayoutModel",
      "state": {
       "_model_module": "@jupyter-widgets/base",
       "_model_module_version": "1.2.0",
       "_model_name": "LayoutModel",
       "_view_count": null,
       "_view_module": "@jupyter-widgets/base",
       "_view_module_version": "1.2.0",
       "_view_name": "LayoutView",
       "align_content": null,
       "align_items": null,
       "align_self": null,
       "border": null,
       "bottom": null,
       "display": null,
       "flex": null,
       "flex_flow": null,
       "grid_area": null,
       "grid_auto_columns": null,
       "grid_auto_flow": null,
       "grid_auto_rows": null,
       "grid_column": null,
       "grid_gap": null,
       "grid_row": null,
       "grid_template_areas": null,
       "grid_template_columns": null,
       "grid_template_rows": null,
       "height": null,
       "justify_content": null,
       "justify_items": null,
       "left": null,
       "margin": null,
       "max_height": null,
       "max_width": null,
       "min_height": null,
       "min_width": null,
       "object_fit": null,
       "object_position": null,
       "order": null,
       "overflow": null,
       "overflow_x": null,
       "overflow_y": null,
       "padding": null,
       "right": null,
       "top": null,
       "visibility": null,
       "width": null
      }
     },
     "6354f9c9c8e84a7b9b84646d18e48af7": {
      "model_module": "@jupyter-widgets/controls",
      "model_module_version": "1.5.0",
      "model_name": "ProgressStyleModel",
      "state": {
       "_model_module": "@jupyter-widgets/controls",
       "_model_module_version": "1.5.0",
       "_model_name": "ProgressStyleModel",
       "_view_count": null,
       "_view_module": "@jupyter-widgets/base",
       "_view_module_version": "1.2.0",
       "_view_name": "StyleView",
       "bar_color": null,
       "description_width": ""
      }
     },
     "68c0ee9a5b1a435fb7294c0986bf0159": {
      "model_module": "@jupyter-widgets/controls",
      "model_module_version": "1.5.0",
      "model_name": "DescriptionStyleModel",
      "state": {
       "_model_module": "@jupyter-widgets/controls",
       "_model_module_version": "1.5.0",
       "_model_name": "DescriptionStyleModel",
       "_view_count": null,
       "_view_module": "@jupyter-widgets/base",
       "_view_module_version": "1.2.0",
       "_view_name": "StyleView",
       "description_width": ""
      }
     },
     "7202f8baf6164be39a52da7767bbce8f": {
      "model_module": "@jupyter-widgets/base",
      "model_module_version": "1.2.0",
      "model_name": "LayoutModel",
      "state": {
       "_model_module": "@jupyter-widgets/base",
       "_model_module_version": "1.2.0",
       "_model_name": "LayoutModel",
       "_view_count": null,
       "_view_module": "@jupyter-widgets/base",
       "_view_module_version": "1.2.0",
       "_view_name": "LayoutView",
       "align_content": null,
       "align_items": null,
       "align_self": null,
       "border": null,
       "bottom": null,
       "display": null,
       "flex": null,
       "flex_flow": null,
       "grid_area": null,
       "grid_auto_columns": null,
       "grid_auto_flow": null,
       "grid_auto_rows": null,
       "grid_column": null,
       "grid_gap": null,
       "grid_row": null,
       "grid_template_areas": null,
       "grid_template_columns": null,
       "grid_template_rows": null,
       "height": null,
       "justify_content": null,
       "justify_items": null,
       "left": null,
       "margin": null,
       "max_height": null,
       "max_width": null,
       "min_height": null,
       "min_width": null,
       "object_fit": null,
       "object_position": null,
       "order": null,
       "overflow": null,
       "overflow_x": null,
       "overflow_y": null,
       "padding": null,
       "right": null,
       "top": null,
       "visibility": null,
       "width": null
      }
     },
     "73a8fad5c2054d6f9c1019df727b9954": {
      "model_module": "@jupyter-widgets/controls",
      "model_module_version": "1.5.0",
      "model_name": "DescriptionStyleModel",
      "state": {
       "_model_module": "@jupyter-widgets/controls",
       "_model_module_version": "1.5.0",
       "_model_name": "DescriptionStyleModel",
       "_view_count": null,
       "_view_module": "@jupyter-widgets/base",
       "_view_module_version": "1.2.0",
       "_view_name": "StyleView",
       "description_width": ""
      }
     },
     "756b0f960caf42c89ce7c27930ec7d06": {
      "model_module": "@jupyter-widgets/controls",
      "model_module_version": "1.5.0",
      "model_name": "DescriptionStyleModel",
      "state": {
       "_model_module": "@jupyter-widgets/controls",
       "_model_module_version": "1.5.0",
       "_model_name": "DescriptionStyleModel",
       "_view_count": null,
       "_view_module": "@jupyter-widgets/base",
       "_view_module_version": "1.2.0",
       "_view_name": "StyleView",
       "description_width": ""
      }
     },
     "7dd104df6eee4ffcbbd35090871f8275": {
      "model_module": "@jupyter-widgets/controls",
      "model_module_version": "1.5.0",
      "model_name": "FloatProgressModel",
      "state": {
       "_dom_classes": [],
       "_model_module": "@jupyter-widgets/controls",
       "_model_module_version": "1.5.0",
       "_model_name": "FloatProgressModel",
       "_view_count": null,
       "_view_module": "@jupyter-widgets/controls",
       "_view_module_version": "1.5.0",
       "_view_name": "ProgressView",
       "bar_style": "success",
       "description": "",
       "description_tooltip": null,
       "layout": "IPY_MODEL_3cfa357adc4b44338379aa59e110bce4",
       "max": 180000.0,
       "min": 0.0,
       "orientation": "horizontal",
       "style": "IPY_MODEL_3f985b823dae42c8bf1d7db1b7341ea7",
       "value": 180000.0
      }
     },
     "7fe47ed266d042608ed2bfb6f4d1c9d7": {
      "model_module": "@jupyter-widgets/controls",
      "model_module_version": "1.5.0",
      "model_name": "HBoxModel",
      "state": {
       "_dom_classes": [],
       "_model_module": "@jupyter-widgets/controls",
       "_model_module_version": "1.5.0",
       "_model_name": "HBoxModel",
       "_view_count": null,
       "_view_module": "@jupyter-widgets/controls",
       "_view_module_version": "1.5.0",
       "_view_name": "HBoxView",
       "box_style": "",
       "children": [
        "IPY_MODEL_5c151214099f46f6bc9201dcc6ab2085",
        "IPY_MODEL_f1f2b4c1fa484e0f876f7cd7c2b270f4",
        "IPY_MODEL_87a9dcdf53dd4295b11af7d729a0565e"
       ],
       "layout": "IPY_MODEL_0c043cccf86b4abfb22f78f712f28922"
      }
     },
     "82b30a0c2ac74f3a9f947e0665a4a532": {
      "model_module": "@jupyter-widgets/controls",
      "model_module_version": "1.5.0",
      "model_name": "HTMLModel",
      "state": {
       "_dom_classes": [],
       "_model_module": "@jupyter-widgets/controls",
       "_model_module_version": "1.5.0",
       "_model_name": "HTMLModel",
       "_view_count": null,
       "_view_module": "@jupyter-widgets/controls",
       "_view_module_version": "1.5.0",
       "_view_name": "HTMLView",
       "description": "",
       "description_tooltip": null,
       "layout": "IPY_MODEL_c8dd2312752c4dcdaa88070532eab08b",
       "placeholder": "​",
       "style": "IPY_MODEL_579374d1dee243c2b00ae7c9487e41be",
       "value": "tokenizer.json: 100%"
      }
     },
     "82c2ff5cbe5246e0bfa82690d6e7c522": {
      "model_module": "@jupyter-widgets/base",
      "model_module_version": "1.2.0",
      "model_name": "LayoutModel",
      "state": {
       "_model_module": "@jupyter-widgets/base",
       "_model_module_version": "1.2.0",
       "_model_name": "LayoutModel",
       "_view_count": null,
       "_view_module": "@jupyter-widgets/base",
       "_view_module_version": "1.2.0",
       "_view_name": "LayoutView",
       "align_content": null,
       "align_items": null,
       "align_self": null,
       "border": null,
       "bottom": null,
       "display": null,
       "flex": null,
       "flex_flow": null,
       "grid_area": null,
       "grid_auto_columns": null,
       "grid_auto_flow": null,
       "grid_auto_rows": null,
       "grid_column": null,
       "grid_gap": null,
       "grid_row": null,
       "grid_template_areas": null,
       "grid_template_columns": null,
       "grid_template_rows": null,
       "height": null,
       "justify_content": null,
       "justify_items": null,
       "left": null,
       "margin": null,
       "max_height": null,
       "max_width": null,
       "min_height": null,
       "min_width": null,
       "object_fit": null,
       "object_position": null,
       "order": null,
       "overflow": null,
       "overflow_x": null,
       "overflow_y": null,
       "padding": null,
       "right": null,
       "top": null,
       "visibility": null,
       "width": null
      }
     },
     "85418f84cf524fb1a9c8e5da03aeb451": {
      "model_module": "@jupyter-widgets/controls",
      "model_module_version": "1.5.0",
      "model_name": "DescriptionStyleModel",
      "state": {
       "_model_module": "@jupyter-widgets/controls",
       "_model_module_version": "1.5.0",
       "_model_name": "DescriptionStyleModel",
       "_view_count": null,
       "_view_module": "@jupyter-widgets/base",
       "_view_module_version": "1.2.0",
       "_view_name": "StyleView",
       "description_width": ""
      }
     },
     "87a9dcdf53dd4295b11af7d729a0565e": {
      "model_module": "@jupyter-widgets/controls",
      "model_module_version": "1.5.0",
      "model_name": "HTMLModel",
      "state": {
       "_dom_classes": [],
       "_model_module": "@jupyter-widgets/controls",
       "_model_module_version": "1.5.0",
       "_model_name": "HTMLModel",
       "_view_count": null,
       "_view_module": "@jupyter-widgets/controls",
       "_view_module_version": "1.5.0",
       "_view_name": "HTMLView",
       "description": "",
       "description_tooltip": null,
       "layout": "IPY_MODEL_081d0fa0120c4d798e9d8a1997d15b69",
       "placeholder": "​",
       "style": "IPY_MODEL_8f2ab706cddd46fa8b7b4a7b672dbb25",
       "value": " 213k/213k [00:00&lt;00:00, 4.77MB/s]"
      }
     },
     "88057520adef48aab64a83876a139558": {
      "model_module": "@jupyter-widgets/base",
      "model_module_version": "1.2.0",
      "model_name": "LayoutModel",
      "state": {
       "_model_module": "@jupyter-widgets/base",
       "_model_module_version": "1.2.0",
       "_model_name": "LayoutModel",
       "_view_count": null,
       "_view_module": "@jupyter-widgets/base",
       "_view_module_version": "1.2.0",
       "_view_name": "LayoutView",
       "align_content": null,
       "align_items": null,
       "align_self": null,
       "border": null,
       "bottom": null,
       "display": null,
       "flex": null,
       "flex_flow": null,
       "grid_area": null,
       "grid_auto_columns": null,
       "grid_auto_flow": null,
       "grid_auto_rows": null,
       "grid_column": null,
       "grid_gap": null,
       "grid_row": null,
       "grid_template_areas": null,
       "grid_template_columns": null,
       "grid_template_rows": null,
       "height": null,
       "justify_content": null,
       "justify_items": null,
       "left": null,
       "margin": null,
       "max_height": null,
       "max_width": null,
       "min_height": null,
       "min_width": null,
       "object_fit": null,
       "object_position": null,
       "order": null,
       "overflow": null,
       "overflow_x": null,
       "overflow_y": null,
       "padding": null,
       "right": null,
       "top": null,
       "visibility": null,
       "width": null
      }
     },
     "8e54505cd44d4c8aaf09dd0813b63c27": {
      "model_module": "@jupyter-widgets/controls",
      "model_module_version": "1.5.0",
      "model_name": "DescriptionStyleModel",
      "state": {
       "_model_module": "@jupyter-widgets/controls",
       "_model_module_version": "1.5.0",
       "_model_name": "DescriptionStyleModel",
       "_view_count": null,
       "_view_module": "@jupyter-widgets/base",
       "_view_module_version": "1.2.0",
       "_view_name": "StyleView",
       "description_width": ""
      }
     },
     "8f2ab706cddd46fa8b7b4a7b672dbb25": {
      "model_module": "@jupyter-widgets/controls",
      "model_module_version": "1.5.0",
      "model_name": "DescriptionStyleModel",
      "state": {
       "_model_module": "@jupyter-widgets/controls",
       "_model_module_version": "1.5.0",
       "_model_name": "DescriptionStyleModel",
       "_view_count": null,
       "_view_module": "@jupyter-widgets/base",
       "_view_module_version": "1.2.0",
       "_view_name": "StyleView",
       "description_width": ""
      }
     },
     "9536ed96fb80458591b9112691f70ddc": {
      "model_module": "@jupyter-widgets/controls",
      "model_module_version": "1.5.0",
      "model_name": "HTMLModel",
      "state": {
       "_dom_classes": [],
       "_model_module": "@jupyter-widgets/controls",
       "_model_module_version": "1.5.0",
       "_model_name": "HTMLModel",
       "_view_count": null,
       "_view_module": "@jupyter-widgets/controls",
       "_view_module_version": "1.5.0",
       "_view_name": "HTMLView",
       "description": "",
       "description_tooltip": null,
       "layout": "IPY_MODEL_c51d78c4371c443ea678b7f98d3a6548",
       "placeholder": "​",
       "style": "IPY_MODEL_4186b5f6fa574deea1fcb56ae4e42f4d",
       "value": " 20000/20000 [00:03&lt;00:00, 5388.09 examples/s]"
      }
     },
     "992e82f35f8346989d9fa03469f5724b": {
      "model_module": "@jupyter-widgets/controls",
      "model_module_version": "1.5.0",
      "model_name": "ProgressStyleModel",
      "state": {
       "_model_module": "@jupyter-widgets/controls",
       "_model_module_version": "1.5.0",
       "_model_name": "ProgressStyleModel",
       "_view_count": null,
       "_view_module": "@jupyter-widgets/base",
       "_view_module_version": "1.2.0",
       "_view_name": "StyleView",
       "bar_color": null,
       "description_width": ""
      }
     },
     "a00464b8f487468283b3ca3d0580348e": {
      "model_module": "@jupyter-widgets/controls",
      "model_module_version": "1.5.0",
      "model_name": "FloatProgressModel",
      "state": {
       "_dom_classes": [],
       "_model_module": "@jupyter-widgets/controls",
       "_model_module_version": "1.5.0",
       "_model_name": "FloatProgressModel",
       "_view_count": null,
       "_view_module": "@jupyter-widgets/controls",
       "_view_module_version": "1.5.0",
       "_view_name": "ProgressView",
       "bar_style": "success",
       "description": "",
       "description_tooltip": null,
       "layout": "IPY_MODEL_88057520adef48aab64a83876a139558",
       "max": 49.0,
       "min": 0.0,
       "orientation": "horizontal",
       "style": "IPY_MODEL_602dd75c32924e3a8305da86ff7aa90f",
       "value": 49.0
      }
     },
     "a37456ee20bf4219b0d70338d10627f2": {
      "model_module": "@jupyter-widgets/base",
      "model_module_version": "1.2.0",
      "model_name": "LayoutModel",
      "state": {
       "_model_module": "@jupyter-widgets/base",
       "_model_module_version": "1.2.0",
       "_model_name": "LayoutModel",
       "_view_count": null,
       "_view_module": "@jupyter-widgets/base",
       "_view_module_version": "1.2.0",
       "_view_name": "LayoutView",
       "align_content": null,
       "align_items": null,
       "align_self": null,
       "border": null,
       "bottom": null,
       "display": null,
       "flex": null,
       "flex_flow": null,
       "grid_area": null,
       "grid_auto_columns": null,
       "grid_auto_flow": null,
       "grid_auto_rows": null,
       "grid_column": null,
       "grid_gap": null,
       "grid_row": null,
       "grid_template_areas": null,
       "grid_template_columns": null,
       "grid_template_rows": null,
       "height": null,
       "justify_content": null,
       "justify_items": null,
       "left": null,
       "margin": null,
       "max_height": null,
       "max_width": null,
       "min_height": null,
       "min_width": null,
       "object_fit": null,
       "object_position": null,
       "order": null,
       "overflow": null,
       "overflow_x": null,
       "overflow_y": null,
       "padding": null,
       "right": null,
       "top": null,
       "visibility": null,
       "width": null
      }
     },
     "a3f590ead1b6406b971223a50df29897": {
      "model_module": "@jupyter-widgets/controls",
      "model_module_version": "1.5.0",
      "model_name": "FloatProgressModel",
      "state": {
       "_dom_classes": [],
       "_model_module": "@jupyter-widgets/controls",
       "_model_module_version": "1.5.0",
       "_model_name": "FloatProgressModel",
       "_view_count": null,
       "_view_module": "@jupyter-widgets/controls",
       "_view_module_version": "1.5.0",
       "_view_name": "ProgressView",
       "bar_style": "success",
       "description": "",
       "description_tooltip": null,
       "layout": "IPY_MODEL_ece0e3d6180b44e994c01314c8348cfd",
       "max": 435755784.0,
       "min": 0.0,
       "orientation": "horizontal",
       "style": "IPY_MODEL_6354f9c9c8e84a7b9b84646d18e48af7",
       "value": 435755784.0
      }
     },
     "a9d5444279c04a25970e51dadf172039": {
      "model_module": "@jupyter-widgets/controls",
      "model_module_version": "1.5.0",
      "model_name": "FloatProgressModel",
      "state": {
       "_dom_classes": [],
       "_model_module": "@jupyter-widgets/controls",
       "_model_module_version": "1.5.0",
       "_model_name": "FloatProgressModel",
       "_view_count": null,
       "_view_module": "@jupyter-widgets/controls",
       "_view_module_version": "1.5.0",
       "_view_name": "ProgressView",
       "bar_style": "success",
       "description": "",
       "description_tooltip": null,
       "layout": "IPY_MODEL_015b1ad2fbcb4874804cffb8406d8a94",
       "max": 20000.0,
       "min": 0.0,
       "orientation": "horizontal",
       "style": "IPY_MODEL_19ebcb7dde8a4006a9e2947af67f1a7d",
       "value": 20000.0
      }
     },
     "ad2477776803449488c1ad75a6b58425": {
      "model_module": "@jupyter-widgets/base",
      "model_module_version": "1.2.0",
      "model_name": "LayoutModel",
      "state": {
       "_model_module": "@jupyter-widgets/base",
       "_model_module_version": "1.2.0",
       "_model_name": "LayoutModel",
       "_view_count": null,
       "_view_module": "@jupyter-widgets/base",
       "_view_module_version": "1.2.0",
       "_view_name": "LayoutView",
       "align_content": null,
       "align_items": null,
       "align_self": null,
       "border": null,
       "bottom": null,
       "display": null,
       "flex": null,
       "flex_flow": null,
       "grid_area": null,
       "grid_auto_columns": null,
       "grid_auto_flow": null,
       "grid_auto_rows": null,
       "grid_column": null,
       "grid_gap": null,
       "grid_row": null,
       "grid_template_areas": null,
       "grid_template_columns": null,
       "grid_template_rows": null,
       "height": null,
       "justify_content": null,
       "justify_items": null,
       "left": null,
       "margin": null,
       "max_height": null,
       "max_width": null,
       "min_height": null,
       "min_width": null,
       "object_fit": null,
       "object_position": null,
       "order": null,
       "overflow": null,
       "overflow_x": null,
       "overflow_y": null,
       "padding": null,
       "right": null,
       "top": null,
       "visibility": null,
       "width": null
      }
     },
     "ade265d5bf434e0daf619ecfdf1d12b2": {
      "model_module": "@jupyter-widgets/controls",
      "model_module_version": "1.5.0",
      "model_name": "HTMLModel",
      "state": {
       "_dom_classes": [],
       "_model_module": "@jupyter-widgets/controls",
       "_model_module_version": "1.5.0",
       "_model_name": "HTMLModel",
       "_view_count": null,
       "_view_module": "@jupyter-widgets/controls",
       "_view_module_version": "1.5.0",
       "_view_name": "HTMLView",
       "description": "",
       "description_tooltip": null,
       "layout": "IPY_MODEL_299247426cf245519fed45e762427911",
       "placeholder": "​",
       "style": "IPY_MODEL_ecf6f3287f024d94b18528160bc35595",
       "value": " 570/570 [00:00&lt;00:00, 47.9kB/s]"
      }
     },
     "ba934e51e89d4738a329d078fd5be18a": {
      "model_module": "@jupyter-widgets/controls",
      "model_module_version": "1.5.0",
      "model_name": "HTMLModel",
      "state": {
       "_dom_classes": [],
       "_model_module": "@jupyter-widgets/controls",
       "_model_module_version": "1.5.0",
       "_model_name": "HTMLModel",
       "_view_count": null,
       "_view_module": "@jupyter-widgets/controls",
       "_view_module_version": "1.5.0",
       "_view_name": "HTMLView",
       "description": "",
       "description_tooltip": null,
       "layout": "IPY_MODEL_7202f8baf6164be39a52da7767bbce8f",
       "placeholder": "​",
       "style": "IPY_MODEL_f28a3496777043e589b807e3adcf0d00",
       "value": " 49.0/49.0 [00:00&lt;00:00, 3.39kB/s]"
      }
     },
     "bb5ef88c4ab34ec38d8b6a22ac97e609": {
      "model_module": "@jupyter-widgets/controls",
      "model_module_version": "1.5.0",
      "model_name": "HTMLModel",
      "state": {
       "_dom_classes": [],
       "_model_module": "@jupyter-widgets/controls",
       "_model_module_version": "1.5.0",
       "_model_name": "HTMLModel",
       "_view_count": null,
       "_view_module": "@jupyter-widgets/controls",
       "_view_module_version": "1.5.0",
       "_view_name": "HTMLView",
       "description": "",
       "description_tooltip": null,
       "layout": "IPY_MODEL_c0d3433e34c54cad8013fc33416b8d10",
       "placeholder": "​",
       "style": "IPY_MODEL_756b0f960caf42c89ce7c27930ec7d06",
       "value": " 180000/180000 [00:35&lt;00:00, 3190.26 examples/s]"
      }
     },
     "bce5a4f7e83b41ae9a22b67bd5736ef4": {
      "model_module": "@jupyter-widgets/controls",
      "model_module_version": "1.5.0",
      "model_name": "HTMLModel",
      "state": {
       "_dom_classes": [],
       "_model_module": "@jupyter-widgets/controls",
       "_model_module_version": "1.5.0",
       "_model_name": "HTMLModel",
       "_view_count": null,
       "_view_module": "@jupyter-widgets/controls",
       "_view_module_version": "1.5.0",
       "_view_name": "HTMLView",
       "description": "",
       "description_tooltip": null,
       "layout": "IPY_MODEL_1dc4bd1237ba41ddb0f9ca1661302d25",
       "placeholder": "​",
       "style": "IPY_MODEL_8e54505cd44d4c8aaf09dd0813b63c27",
       "value": "Map: 100%"
      }
     },
     "c0d3433e34c54cad8013fc33416b8d10": {
      "model_module": "@jupyter-widgets/base",
      "model_module_version": "1.2.0",
      "model_name": "LayoutModel",
      "state": {
       "_model_module": "@jupyter-widgets/base",
       "_model_module_version": "1.2.0",
       "_model_name": "LayoutModel",
       "_view_count": null,
       "_view_module": "@jupyter-widgets/base",
       "_view_module_version": "1.2.0",
       "_view_name": "LayoutView",
       "align_content": null,
       "align_items": null,
       "align_self": null,
       "border": null,
       "bottom": null,
       "display": null,
       "flex": null,
       "flex_flow": null,
       "grid_area": null,
       "grid_auto_columns": null,
       "grid_auto_flow": null,
       "grid_auto_rows": null,
       "grid_column": null,
       "grid_gap": null,
       "grid_row": null,
       "grid_template_areas": null,
       "grid_template_columns": null,
       "grid_template_rows": null,
       "height": null,
       "justify_content": null,
       "justify_items": null,
       "left": null,
       "margin": null,
       "max_height": null,
       "max_width": null,
       "min_height": null,
       "min_width": null,
       "object_fit": null,
       "object_position": null,
       "order": null,
       "overflow": null,
       "overflow_x": null,
       "overflow_y": null,
       "padding": null,
       "right": null,
       "top": null,
       "visibility": null,
       "width": null
      }
     },
     "c23448b8bb5947e094822b29b3789840": {
      "model_module": "@jupyter-widgets/controls",
      "model_module_version": "1.5.0",
      "model_name": "HTMLModel",
      "state": {
       "_dom_classes": [],
       "_model_module": "@jupyter-widgets/controls",
       "_model_module_version": "1.5.0",
       "_model_name": "HTMLModel",
       "_view_count": null,
       "_view_module": "@jupyter-widgets/controls",
       "_view_module_version": "1.5.0",
       "_view_name": "HTMLView",
       "description": "",
       "description_tooltip": null,
       "layout": "IPY_MODEL_a37456ee20bf4219b0d70338d10627f2",
       "placeholder": "​",
       "style": "IPY_MODEL_85418f84cf524fb1a9c8e5da03aeb451",
       "value": "Map: 100%"
      }
     },
     "c51d78c4371c443ea678b7f98d3a6548": {
      "model_module": "@jupyter-widgets/base",
      "model_module_version": "1.2.0",
      "model_name": "LayoutModel",
      "state": {
       "_model_module": "@jupyter-widgets/base",
       "_model_module_version": "1.2.0",
       "_model_name": "LayoutModel",
       "_view_count": null,
       "_view_module": "@jupyter-widgets/base",
       "_view_module_version": "1.2.0",
       "_view_name": "LayoutView",
       "align_content": null,
       "align_items": null,
       "align_self": null,
       "border": null,
       "bottom": null,
       "display": null,
       "flex": null,
       "flex_flow": null,
       "grid_area": null,
       "grid_auto_columns": null,
       "grid_auto_flow": null,
       "grid_auto_rows": null,
       "grid_column": null,
       "grid_gap": null,
       "grid_row": null,
       "grid_template_areas": null,
       "grid_template_columns": null,
       "grid_template_rows": null,
       "height": null,
       "justify_content": null,
       "justify_items": null,
       "left": null,
       "margin": null,
       "max_height": null,
       "max_width": null,
       "min_height": null,
       "min_width": null,
       "object_fit": null,
       "object_position": null,
       "order": null,
       "overflow": null,
       "overflow_x": null,
       "overflow_y": null,
       "padding": null,
       "right": null,
       "top": null,
       "visibility": null,
       "width": null
      }
     },
     "c7676d53f7c14700a711d998dd332d76": {
      "model_module": "@jupyter-widgets/controls",
      "model_module_version": "1.5.0",
      "model_name": "HBoxModel",
      "state": {
       "_dom_classes": [],
       "_model_module": "@jupyter-widgets/controls",
       "_model_module_version": "1.5.0",
       "_model_name": "HBoxModel",
       "_view_count": null,
       "_view_module": "@jupyter-widgets/controls",
       "_view_module_version": "1.5.0",
       "_view_name": "HBoxView",
       "box_style": "",
       "children": [
        "IPY_MODEL_82b30a0c2ac74f3a9f947e0665a4a532",
        "IPY_MODEL_0fe5b3b5950947c4ae930d2f69c8880c",
        "IPY_MODEL_c9c1e96a74544f21bdc8a3bff681a587"
       ],
       "layout": "IPY_MODEL_ad2477776803449488c1ad75a6b58425"
      }
     },
     "c8dd2312752c4dcdaa88070532eab08b": {
      "model_module": "@jupyter-widgets/base",
      "model_module_version": "1.2.0",
      "model_name": "LayoutModel",
      "state": {
       "_model_module": "@jupyter-widgets/base",
       "_model_module_version": "1.2.0",
       "_model_name": "LayoutModel",
       "_view_count": null,
       "_view_module": "@jupyter-widgets/base",
       "_view_module_version": "1.2.0",
       "_view_name": "LayoutView",
       "align_content": null,
       "align_items": null,
       "align_self": null,
       "border": null,
       "bottom": null,
       "display": null,
       "flex": null,
       "flex_flow": null,
       "grid_area": null,
       "grid_auto_columns": null,
       "grid_auto_flow": null,
       "grid_auto_rows": null,
       "grid_column": null,
       "grid_gap": null,
       "grid_row": null,
       "grid_template_areas": null,
       "grid_template_columns": null,
       "grid_template_rows": null,
       "height": null,
       "justify_content": null,
       "justify_items": null,
       "left": null,
       "margin": null,
       "max_height": null,
       "max_width": null,
       "min_height": null,
       "min_width": null,
       "object_fit": null,
       "object_position": null,
       "order": null,
       "overflow": null,
       "overflow_x": null,
       "overflow_y": null,
       "padding": null,
       "right": null,
       "top": null,
       "visibility": null,
       "width": null
      }
     },
     "c9c1e96a74544f21bdc8a3bff681a587": {
      "model_module": "@jupyter-widgets/controls",
      "model_module_version": "1.5.0",
      "model_name": "HTMLModel",
      "state": {
       "_dom_classes": [],
       "_model_module": "@jupyter-widgets/controls",
       "_model_module_version": "1.5.0",
       "_model_name": "HTMLModel",
       "_view_count": null,
       "_view_module": "@jupyter-widgets/controls",
       "_view_module_version": "1.5.0",
       "_view_name": "HTMLView",
       "description": "",
       "description_tooltip": null,
       "layout": "IPY_MODEL_47f90ec8a5a14694b0d666f31e9c0bf6",
       "placeholder": "​",
       "style": "IPY_MODEL_0bc5f8032a074ce49874a191ae254b5c",
       "value": " 436k/436k [00:00&lt;00:00, 19.1MB/s]"
      }
     },
     "d0c319abe59a48a696a1d8713391b85c": {
      "model_module": "@jupyter-widgets/controls",
      "model_module_version": "1.5.0",
      "model_name": "ProgressStyleModel",
      "state": {
       "_model_module": "@jupyter-widgets/controls",
       "_model_module_version": "1.5.0",
       "_model_name": "ProgressStyleModel",
       "_view_count": null,
       "_view_module": "@jupyter-widgets/base",
       "_view_module_version": "1.2.0",
       "_view_name": "StyleView",
       "bar_color": null,
       "description_width": ""
      }
     },
     "d3695d23d6874dcf947986974371bfb7": {
      "model_module": "@jupyter-widgets/base",
      "model_module_version": "1.2.0",
      "model_name": "LayoutModel",
      "state": {
       "_model_module": "@jupyter-widgets/base",
       "_model_module_version": "1.2.0",
       "_model_name": "LayoutModel",
       "_view_count": null,
       "_view_module": "@jupyter-widgets/base",
       "_view_module_version": "1.2.0",
       "_view_name": "LayoutView",
       "align_content": null,
       "align_items": null,
       "align_self": null,
       "border": null,
       "bottom": null,
       "display": null,
       "flex": null,
       "flex_flow": null,
       "grid_area": null,
       "grid_auto_columns": null,
       "grid_auto_flow": null,
       "grid_auto_rows": null,
       "grid_column": null,
       "grid_gap": null,
       "grid_row": null,
       "grid_template_areas": null,
       "grid_template_columns": null,
       "grid_template_rows": null,
       "height": null,
       "justify_content": null,
       "justify_items": null,
       "left": null,
       "margin": null,
       "max_height": null,
       "max_width": null,
       "min_height": null,
       "min_width": null,
       "object_fit": null,
       "object_position": null,
       "order": null,
       "overflow": null,
       "overflow_x": null,
       "overflow_y": null,
       "padding": null,
       "right": null,
       "top": null,
       "visibility": null,
       "width": null
      }
     },
     "d5b1644f751844dbbedbe1a94b2b8ddb": {
      "model_module": "@jupyter-widgets/controls",
      "model_module_version": "1.5.0",
      "model_name": "HBoxModel",
      "state": {
       "_dom_classes": [],
       "_model_module": "@jupyter-widgets/controls",
       "_model_module_version": "1.5.0",
       "_model_name": "HBoxModel",
       "_view_count": null,
       "_view_module": "@jupyter-widgets/controls",
       "_view_module_version": "1.5.0",
       "_view_name": "HBoxView",
       "box_style": "",
       "children": [
        "IPY_MODEL_f8e6f6da588c4987ae767ea2e6b6b59c",
        "IPY_MODEL_00bfbe1b2e2b475a914bd96b38f6e58c",
        "IPY_MODEL_ade265d5bf434e0daf619ecfdf1d12b2"
       ],
       "layout": "IPY_MODEL_fa36114812ae477d9763d145c99b7f56"
      }
     },
     "de13a1f564624b3497278a078463058f": {
      "model_module": "@jupyter-widgets/controls",
      "model_module_version": "1.5.0",
      "model_name": "DescriptionStyleModel",
      "state": {
       "_model_module": "@jupyter-widgets/controls",
       "_model_module_version": "1.5.0",
       "_model_name": "DescriptionStyleModel",
       "_view_count": null,
       "_view_module": "@jupyter-widgets/base",
       "_view_module_version": "1.2.0",
       "_view_name": "StyleView",
       "description_width": ""
      }
     },
     "dee47089bf72455dbe5a48d8c88d3b85": {
      "model_module": "@jupyter-widgets/controls",
      "model_module_version": "1.5.0",
      "model_name": "HBoxModel",
      "state": {
       "_dom_classes": [],
       "_model_module": "@jupyter-widgets/controls",
       "_model_module_version": "1.5.0",
       "_model_name": "HBoxModel",
       "_view_count": null,
       "_view_module": "@jupyter-widgets/controls",
       "_view_module_version": "1.5.0",
       "_view_name": "HBoxView",
       "box_style": "",
       "children": [
        "IPY_MODEL_51e88c0789f346b98d2e3c7d716ea4fd",
        "IPY_MODEL_a00464b8f487468283b3ca3d0580348e",
        "IPY_MODEL_ba934e51e89d4738a329d078fd5be18a"
       ],
       "layout": "IPY_MODEL_e4970fc218604533b6978bf0462d6408"
      }
     },
     "e0e80d372aca4830b2011e8cd9ad137c": {
      "model_module": "@jupyter-widgets/base",
      "model_module_version": "1.2.0",
      "model_name": "LayoutModel",
      "state": {
       "_model_module": "@jupyter-widgets/base",
       "_model_module_version": "1.2.0",
       "_model_name": "LayoutModel",
       "_view_count": null,
       "_view_module": "@jupyter-widgets/base",
       "_view_module_version": "1.2.0",
       "_view_name": "LayoutView",
       "align_content": null,
       "align_items": null,
       "align_self": null,
       "border": null,
       "bottom": null,
       "display": null,
       "flex": null,
       "flex_flow": null,
       "grid_area": null,
       "grid_auto_columns": null,
       "grid_auto_flow": null,
       "grid_auto_rows": null,
       "grid_column": null,
       "grid_gap": null,
       "grid_row": null,
       "grid_template_areas": null,
       "grid_template_columns": null,
       "grid_template_rows": null,
       "height": null,
       "justify_content": null,
       "justify_items": null,
       "left": null,
       "margin": null,
       "max_height": null,
       "max_width": null,
       "min_height": null,
       "min_width": null,
       "object_fit": null,
       "object_position": null,
       "order": null,
       "overflow": null,
       "overflow_x": null,
       "overflow_y": null,
       "padding": null,
       "right": null,
       "top": null,
       "visibility": null,
       "width": null
      }
     },
     "e4970fc218604533b6978bf0462d6408": {
      "model_module": "@jupyter-widgets/base",
      "model_module_version": "1.2.0",
      "model_name": "LayoutModel",
      "state": {
       "_model_module": "@jupyter-widgets/base",
       "_model_module_version": "1.2.0",
       "_model_name": "LayoutModel",
       "_view_count": null,
       "_view_module": "@jupyter-widgets/base",
       "_view_module_version": "1.2.0",
       "_view_name": "LayoutView",
       "align_content": null,
       "align_items": null,
       "align_self": null,
       "border": null,
       "bottom": null,
       "display": null,
       "flex": null,
       "flex_flow": null,
       "grid_area": null,
       "grid_auto_columns": null,
       "grid_auto_flow": null,
       "grid_auto_rows": null,
       "grid_column": null,
       "grid_gap": null,
       "grid_row": null,
       "grid_template_areas": null,
       "grid_template_columns": null,
       "grid_template_rows": null,
       "height": null,
       "justify_content": null,
       "justify_items": null,
       "left": null,
       "margin": null,
       "max_height": null,
       "max_width": null,
       "min_height": null,
       "min_width": null,
       "object_fit": null,
       "object_position": null,
       "order": null,
       "overflow": null,
       "overflow_x": null,
       "overflow_y": null,
       "padding": null,
       "right": null,
       "top": null,
       "visibility": null,
       "width": null
      }
     },
     "ebf7dbe1a4b4452b93a82541c425dad4": {
      "model_module": "@jupyter-widgets/controls",
      "model_module_version": "1.5.0",
      "model_name": "HBoxModel",
      "state": {
       "_dom_classes": [],
       "_model_module": "@jupyter-widgets/controls",
       "_model_module_version": "1.5.0",
       "_model_name": "HBoxModel",
       "_view_count": null,
       "_view_module": "@jupyter-widgets/controls",
       "_view_module_version": "1.5.0",
       "_view_name": "HBoxView",
       "box_style": "",
       "children": [
        "IPY_MODEL_c23448b8bb5947e094822b29b3789840",
        "IPY_MODEL_a9d5444279c04a25970e51dadf172039",
        "IPY_MODEL_9536ed96fb80458591b9112691f70ddc"
       ],
       "layout": "IPY_MODEL_82c2ff5cbe5246e0bfa82690d6e7c522"
      }
     },
     "ece0e3d6180b44e994c01314c8348cfd": {
      "model_module": "@jupyter-widgets/base",
      "model_module_version": "1.2.0",
      "model_name": "LayoutModel",
      "state": {
       "_model_module": "@jupyter-widgets/base",
       "_model_module_version": "1.2.0",
       "_model_name": "LayoutModel",
       "_view_count": null,
       "_view_module": "@jupyter-widgets/base",
       "_view_module_version": "1.2.0",
       "_view_name": "LayoutView",
       "align_content": null,
       "align_items": null,
       "align_self": null,
       "border": null,
       "bottom": null,
       "display": null,
       "flex": null,
       "flex_flow": null,
       "grid_area": null,
       "grid_auto_columns": null,
       "grid_auto_flow": null,
       "grid_auto_rows": null,
       "grid_column": null,
       "grid_gap": null,
       "grid_row": null,
       "grid_template_areas": null,
       "grid_template_columns": null,
       "grid_template_rows": null,
       "height": null,
       "justify_content": null,
       "justify_items": null,
       "left": null,
       "margin": null,
       "max_height": null,
       "max_width": null,
       "min_height": null,
       "min_width": null,
       "object_fit": null,
       "object_position": null,
       "order": null,
       "overflow": null,
       "overflow_x": null,
       "overflow_y": null,
       "padding": null,
       "right": null,
       "top": null,
       "visibility": null,
       "width": null
      }
     },
     "ecf6f3287f024d94b18528160bc35595": {
      "model_module": "@jupyter-widgets/controls",
      "model_module_version": "1.5.0",
      "model_name": "DescriptionStyleModel",
      "state": {
       "_model_module": "@jupyter-widgets/controls",
       "_model_module_version": "1.5.0",
       "_model_name": "DescriptionStyleModel",
       "_view_count": null,
       "_view_module": "@jupyter-widgets/base",
       "_view_module_version": "1.2.0",
       "_view_name": "StyleView",
       "description_width": ""
      }
     },
     "ee29982e15144e4d90db86a66c2c3079": {
      "model_module": "@jupyter-widgets/base",
      "model_module_version": "1.2.0",
      "model_name": "LayoutModel",
      "state": {
       "_model_module": "@jupyter-widgets/base",
       "_model_module_version": "1.2.0",
       "_model_name": "LayoutModel",
       "_view_count": null,
       "_view_module": "@jupyter-widgets/base",
       "_view_module_version": "1.2.0",
       "_view_name": "LayoutView",
       "align_content": null,
       "align_items": null,
       "align_self": null,
       "border": null,
       "bottom": null,
       "display": null,
       "flex": null,
       "flex_flow": null,
       "grid_area": null,
       "grid_auto_columns": null,
       "grid_auto_flow": null,
       "grid_auto_rows": null,
       "grid_column": null,
       "grid_gap": null,
       "grid_row": null,
       "grid_template_areas": null,
       "grid_template_columns": null,
       "grid_template_rows": null,
       "height": null,
       "justify_content": null,
       "justify_items": null,
       "left": null,
       "margin": null,
       "max_height": null,
       "max_width": null,
       "min_height": null,
       "min_width": null,
       "object_fit": null,
       "object_position": null,
       "order": null,
       "overflow": null,
       "overflow_x": null,
       "overflow_y": null,
       "padding": null,
       "right": null,
       "top": null,
       "visibility": null,
       "width": null
      }
     },
     "f1f2b4c1fa484e0f876f7cd7c2b270f4": {
      "model_module": "@jupyter-widgets/controls",
      "model_module_version": "1.5.0",
      "model_name": "FloatProgressModel",
      "state": {
       "_dom_classes": [],
       "_model_module": "@jupyter-widgets/controls",
       "_model_module_version": "1.5.0",
       "_model_name": "FloatProgressModel",
       "_view_count": null,
       "_view_module": "@jupyter-widgets/controls",
       "_view_module_version": "1.5.0",
       "_view_name": "ProgressView",
       "bar_style": "success",
       "description": "",
       "description_tooltip": null,
       "layout": "IPY_MODEL_3863a91077b5476f9dac8613db57c45c",
       "max": 213450.0,
       "min": 0.0,
       "orientation": "horizontal",
       "style": "IPY_MODEL_992e82f35f8346989d9fa03469f5724b",
       "value": 213450.0
      }
     },
     "f28a3496777043e589b807e3adcf0d00": {
      "model_module": "@jupyter-widgets/controls",
      "model_module_version": "1.5.0",
      "model_name": "DescriptionStyleModel",
      "state": {
       "_model_module": "@jupyter-widgets/controls",
       "_model_module_version": "1.5.0",
       "_model_name": "DescriptionStyleModel",
       "_view_count": null,
       "_view_module": "@jupyter-widgets/base",
       "_view_module_version": "1.2.0",
       "_view_name": "StyleView",
       "description_width": ""
      }
     },
     "f8e6f6da588c4987ae767ea2e6b6b59c": {
      "model_module": "@jupyter-widgets/controls",
      "model_module_version": "1.5.0",
      "model_name": "HTMLModel",
      "state": {
       "_dom_classes": [],
       "_model_module": "@jupyter-widgets/controls",
       "_model_module_version": "1.5.0",
       "_model_name": "HTMLModel",
       "_view_count": null,
       "_view_module": "@jupyter-widgets/controls",
       "_view_module_version": "1.5.0",
       "_view_name": "HTMLView",
       "description": "",
       "description_tooltip": null,
       "layout": "IPY_MODEL_ee29982e15144e4d90db86a66c2c3079",
       "placeholder": "​",
       "style": "IPY_MODEL_73a8fad5c2054d6f9c1019df727b9954",
       "value": "config.json: 100%"
      }
     },
     "f987db4531b74c119805f93a8c1c29ea": {
      "model_module": "@jupyter-widgets/base",
      "model_module_version": "1.2.0",
      "model_name": "LayoutModel",
      "state": {
       "_model_module": "@jupyter-widgets/base",
       "_model_module_version": "1.2.0",
       "_model_name": "LayoutModel",
       "_view_count": null,
       "_view_module": "@jupyter-widgets/base",
       "_view_module_version": "1.2.0",
       "_view_name": "LayoutView",
       "align_content": null,
       "align_items": null,
       "align_self": null,
       "border": null,
       "bottom": null,
       "display": null,
       "flex": null,
       "flex_flow": null,
       "grid_area": null,
       "grid_auto_columns": null,
       "grid_auto_flow": null,
       "grid_auto_rows": null,
       "grid_column": null,
       "grid_gap": null,
       "grid_row": null,
       "grid_template_areas": null,
       "grid_template_columns": null,
       "grid_template_rows": null,
       "height": null,
       "justify_content": null,
       "justify_items": null,
       "left": null,
       "margin": null,
       "max_height": null,
       "max_width": null,
       "min_height": null,
       "min_width": null,
       "object_fit": null,
       "object_position": null,
       "order": null,
       "overflow": null,
       "overflow_x": null,
       "overflow_y": null,
       "padding": null,
       "right": null,
       "top": null,
       "visibility": null,
       "width": null
      }
     },
     "fa36114812ae477d9763d145c99b7f56": {
      "model_module": "@jupyter-widgets/base",
      "model_module_version": "1.2.0",
      "model_name": "LayoutModel",
      "state": {
       "_model_module": "@jupyter-widgets/base",
       "_model_module_version": "1.2.0",
       "_model_name": "LayoutModel",
       "_view_count": null,
       "_view_module": "@jupyter-widgets/base",
       "_view_module_version": "1.2.0",
       "_view_name": "LayoutView",
       "align_content": null,
       "align_items": null,
       "align_self": null,
       "border": null,
       "bottom": null,
       "display": null,
       "flex": null,
       "flex_flow": null,
       "grid_area": null,
       "grid_auto_columns": null,
       "grid_auto_flow": null,
       "grid_auto_rows": null,
       "grid_column": null,
       "grid_gap": null,
       "grid_row": null,
       "grid_template_areas": null,
       "grid_template_columns": null,
       "grid_template_rows": null,
       "height": null,
       "justify_content": null,
       "justify_items": null,
       "left": null,
       "margin": null,
       "max_height": null,
       "max_width": null,
       "min_height": null,
       "min_width": null,
       "object_fit": null,
       "object_position": null,
       "order": null,
       "overflow": null,
       "overflow_x": null,
       "overflow_y": null,
       "padding": null,
       "right": null,
       "top": null,
       "visibility": null,
       "width": null
      }
     }
    },
    "version_major": 2,
    "version_minor": 0
   }
  }
 },
 "nbformat": 4,
 "nbformat_minor": 5
}
